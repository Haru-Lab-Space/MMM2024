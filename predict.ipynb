{
 "cells": [
  {
   "cell_type": "code",
   "execution_count": 1,
   "metadata": {},
   "outputs": [
    {
     "name": "stderr",
     "output_type": "stream",
     "text": [
      "/home/server-ailab-12gb/miniconda3/envs/Khoa_env/lib/python3.10/site-packages/tqdm/auto.py:21: TqdmWarning: IProgress not found. Please update jupyter and ipywidgets. See https://ipywidgets.readthedocs.io/en/stable/user_install.html\n",
      "  from .autonotebook import tqdm as notebook_tqdm\n"
     ]
    },
    {
     "data": {
      "text/plain": [
       "'cuda'"
      ]
     },
     "execution_count": 1,
     "metadata": {},
     "output_type": "execute_result"
    }
   ],
   "source": [
    "import torch\n",
    "from models.models import *\n",
    "device = 'cuda' if torch.cuda.is_available() else 'cpu'\n",
    "device"
   ]
  },
  {
   "cell_type": "code",
   "execution_count": 2,
   "metadata": {},
   "outputs": [],
   "source": [
    "# architecture = \"TSF\"\n",
    "# architecture = \"TSF_hard_voting\"\n",
    "# architecture = \"TSF_Resnet_Swin\"\n",
    "# architecture = \"TSF_ViT_Resnet\"\n",
    "architecture = \"TSF_ViT_Swin\"\n",
    "# architecture = \"Baseline\"\n",
    "# architecture = \"Baseline_hard_voting\"\n",
    "# architecture = \"Baseline_Resnet_Swin\"\n",
    "# architecture = \"Baseline_ViT_Resnet\"\n",
    "# architecture = \"Baseline_ViT_Swin\"\n",
    "# architecture = \"TSF_Resnet\"\n",
    "# architecture = \"TSF_ViT\"\n",
    "# architecture = \"TSF_Swin\"\n",
    "train_index_checkpoint = ''\n",
    "test_index_checkpoint = '12'\n",
    "gamma = 2\n",
    "alpha = 0.3\n",
    "version = architecture + \"_\" + str(gamma) + \"_\" + str(alpha)"
   ]
  },
  {
   "cell_type": "code",
   "execution_count": 3,
   "metadata": {},
   "outputs": [],
   "source": [
    "# FOLDER = \"/home/server-ailab-12gb/DUC-MMM\"\n",
    "FOLDER = \"/home/server-ailab-12gb/DUC-MMM\"\n",
    "data_dir = '/home/server-ailab-12gb/DUC-MMM/data/Musti'\n",
    "train_dir = os.path.join(data_dir, 'train')\n",
    "test_dir = os.path.join(data_dir, 'test')\n",
    "train_img_dir = os.path.join(train_dir, 'img')\n",
    "train_file_path = os.path.join(train_dir, 'train.json')\n",
    "\n",
    "test_img_dir = os.path.join(test_dir, 'img')\n",
    "test_file_path = os.path.join(test_dir, 'test.json')\n",
    "history_save_folder = os.path.join(FOLDER, 'history_save')\n",
    "checkpoint_dir = os.path.join(FOLDER, 'checkpoint')\n",
    "checkpoint_directory = os.path.join(checkpoint_dir, version)\n",
    "\n",
    "\n",
    "predict_dir = os.path.join(FOLDER, \"predict\")\n",
    "predict_path = os.path.join(predict_dir, version + '.json')\n",
    "report_dir = os.path.join(FOLDER, \"report\")\n",
    "report_path = os.path.join(report_dir, version)\n",
    "\n",
    "report_dir = os.path.join(FOLDER, \"report\")\n",
    "report_path = os.path.join(report_dir, version)\n",
    "\n",
    "lr = 0.001\n",
    "epoch = 0\n",
    "loss = 10000"
   ]
  },
  {
   "cell_type": "code",
   "execution_count": 4,
   "metadata": {},
   "outputs": [],
   "source": [
    "image_processor = AutoImageProcessor.from_pretrained(\"google/vit-base-patch16-224-in21k\")\n",
    "tokenizer = BertTokenizer.from_pretrained('bert-base-multilingual-cased')\n",
    "vit_encoder = ViTModel.from_pretrained(\"google/vit-base-patch16-224-in21k\")\n",
    "resnet_encoder = ResNetForImageClassification.from_pretrained(\"microsoft/resnet-50\")\n",
    "resnet_encoder = nn.Sequential(*list(resnet_encoder.children())[:-1])\n",
    "swintransformer = AutoModelForImageClassification.from_pretrained(\"microsoft/swin-tiny-patch4-window7-224\")\n",
    "swintransformer = nn.Sequential(*list(swintransformer.children())[:-1])\n",
    "text_encoder = BertModel.from_pretrained('bert-base-multilingual-cased')\n",
    "encoder_layer = text_encoder.encoder\n",
    "text_embedding= text_encoder.embeddings\n",
    "pooling_layer= text_encoder.pooler"
   ]
  },
  {
   "cell_type": "code",
   "execution_count": 5,
   "metadata": {},
   "outputs": [
    {
     "name": "stdout",
     "output_type": "stream",
     "text": [
      "/home/server-ailab-12gb/DUC-MMM/data/Musti/test/img\n",
      "Len: 814\n"
     ]
    }
   ],
   "source": [
    "dataset_test = Dataset_MMM(test_file_path, test_img_dir,image_processor,tokenizer)\n",
    "dataloader_test = DataLoader(dataset_test,batch_size=16,drop_last=False, shuffle=False)"
   ]
  },
  {
   "cell_type": "code",
   "execution_count": 6,
   "metadata": {},
   "outputs": [
    {
     "name": "stdout",
     "output_type": "stream",
     "text": [
      "Load checkpoint: /home/server-ailab-12gb/DUC-MMM/checkpoint/TSF_ViT_Swin_2_0.3/12.pt\n"
     ]
    },
    {
     "name": "stderr",
     "output_type": "stream",
     "text": [
      "Evaluate:   2%|▏         | 1/51 [00:01<00:52,  1.05s/it]"
     ]
    },
    {
     "name": "stdout",
     "output_type": "stream",
     "text": [
      "logitstensor([0.3978, 0.3978, 0.3978, 0.3978, 0.3978, 0.3978, 0.3978, 0.3978, 0.3978,\n",
      "        0.3978, 0.3978, 0.3978, 0.3978, 0.3978, 0.3978, 0.3978],\n",
      "       device='cuda:0')\n"
     ]
    },
    {
     "name": "stderr",
     "output_type": "stream",
     "text": [
      "Evaluate:   4%|▍         | 2/51 [00:01<00:28,  1.71it/s]"
     ]
    },
    {
     "name": "stdout",
     "output_type": "stream",
     "text": [
      "logitstensor([0.3978, 0.3978, 0.3978, 0.3978, 0.3978, 0.3978, 0.3978, 0.3978, 0.3978,\n",
      "        0.3978, 0.3978, 0.3978, 0.3978, 0.3978, 0.3978, 0.3978],\n",
      "       device='cuda:0')\n"
     ]
    },
    {
     "name": "stderr",
     "output_type": "stream",
     "text": [
      "Evaluate:   6%|▌         | 3/51 [00:01<00:21,  2.21it/s]"
     ]
    },
    {
     "name": "stdout",
     "output_type": "stream",
     "text": [
      "logitstensor([0.3978, 0.3977, 0.3978, 0.3978, 0.3978, 0.3978, 0.3978, 0.3978, 0.3978,\n",
      "        0.3978, 0.3978, 0.3978, 0.3978, 0.3978, 0.3978, 0.3978],\n",
      "       device='cuda:0')\n"
     ]
    },
    {
     "name": "stderr",
     "output_type": "stream",
     "text": [
      "Evaluate:   8%|▊         | 4/51 [00:01<00:17,  2.65it/s]"
     ]
    },
    {
     "name": "stdout",
     "output_type": "stream",
     "text": [
      "logitstensor([0.3978, 0.3978, 0.3978, 0.3978, 0.3978, 0.3978, 0.3978, 0.3978, 0.3978,\n",
      "        0.3978, 0.3978, 0.3978, 0.3978, 0.3978, 0.3978, 0.3978],\n",
      "       device='cuda:0')\n"
     ]
    },
    {
     "name": "stderr",
     "output_type": "stream",
     "text": [
      "Evaluate:  10%|▉         | 5/51 [00:02<00:15,  3.00it/s]"
     ]
    },
    {
     "name": "stdout",
     "output_type": "stream",
     "text": [
      "logitstensor([0.3978, 0.3978, 0.3978, 0.3978, 0.3978, 0.3978, 0.3978, 0.3978, 0.3978,\n",
      "        0.3978, 0.3978, 0.3978, 0.3978, 0.3978, 0.3978, 0.3978],\n",
      "       device='cuda:0')\n"
     ]
    },
    {
     "name": "stderr",
     "output_type": "stream",
     "text": [
      "Evaluate:  12%|█▏        | 6/51 [00:02<00:13,  3.24it/s]"
     ]
    },
    {
     "name": "stdout",
     "output_type": "stream",
     "text": [
      "logitstensor([0.3978, 0.3978, 0.3978, 0.3978, 0.3978, 0.3978, 0.3978, 0.3978, 0.3978,\n",
      "        0.3978, 0.3978, 0.3978, 0.3978, 0.3978, 0.3978, 0.3978],\n",
      "       device='cuda:0')\n"
     ]
    },
    {
     "name": "stderr",
     "output_type": "stream",
     "text": [
      "Evaluate:  14%|█▎        | 7/51 [00:02<00:13,  3.30it/s]"
     ]
    },
    {
     "name": "stdout",
     "output_type": "stream",
     "text": [
      "logitstensor([0.3978, 0.3978, 0.3978, 0.3978, 0.3977, 0.3978, 0.3978, 0.3978, 0.3978,\n",
      "        0.3978, 0.3978, 0.3978, 0.3978, 0.3978, 0.3978, 0.3978],\n",
      "       device='cuda:0')\n"
     ]
    },
    {
     "name": "stderr",
     "output_type": "stream",
     "text": [
      "Evaluate:  16%|█▌        | 8/51 [00:02<00:12,  3.47it/s]"
     ]
    },
    {
     "name": "stdout",
     "output_type": "stream",
     "text": [
      "logitstensor([0.3978, 0.3978, 0.3978, 0.3978, 0.3978, 0.3978, 0.3978, 0.3978, 0.3978,\n",
      "        0.3978, 0.3978, 0.3977, 0.3978, 0.3978, 0.3978, 0.3978],\n",
      "       device='cuda:0')\n"
     ]
    },
    {
     "name": "stderr",
     "output_type": "stream",
     "text": [
      "Evaluate:  18%|█▊        | 9/51 [00:03<00:11,  3.58it/s]"
     ]
    },
    {
     "name": "stdout",
     "output_type": "stream",
     "text": [
      "logitstensor([0.3978, 0.3978, 0.3977, 0.3978, 0.3978, 0.3978, 0.3978, 0.3978, 0.3978,\n",
      "        0.3978, 0.3978, 0.3978, 0.3978, 0.3978, 0.3978, 0.3978],\n",
      "       device='cuda:0')\n"
     ]
    },
    {
     "name": "stderr",
     "output_type": "stream",
     "text": [
      "Evaluate:  20%|█▉        | 10/51 [00:03<00:11,  3.62it/s]"
     ]
    },
    {
     "name": "stdout",
     "output_type": "stream",
     "text": [
      "logitstensor([0.3978, 0.3978, 0.3978, 0.3978, 0.3978, 0.3978, 0.3978, 0.3978, 0.3978,\n",
      "        0.3978, 0.3978, 0.3978, 0.3978, 0.3978, 0.3978, 0.3978],\n",
      "       device='cuda:0')\n"
     ]
    },
    {
     "name": "stderr",
     "output_type": "stream",
     "text": [
      "Evaluate:  22%|██▏       | 11/51 [00:03<00:10,  3.65it/s]"
     ]
    },
    {
     "name": "stdout",
     "output_type": "stream",
     "text": [
      "logitstensor([0.3978, 0.3978, 0.3978, 0.3978, 0.3978, 0.3978, 0.3978, 0.3978, 0.3978,\n",
      "        0.3978, 0.3978, 0.3978, 0.3978, 0.3978, 0.3978, 0.3978],\n",
      "       device='cuda:0')\n"
     ]
    },
    {
     "name": "stderr",
     "output_type": "stream",
     "text": [
      "Evaluate:  24%|██▎       | 12/51 [00:03<00:10,  3.70it/s]"
     ]
    },
    {
     "name": "stdout",
     "output_type": "stream",
     "text": [
      "logitstensor([0.3978, 0.3978, 0.3978, 0.3978, 0.3978, 0.3978, 0.3978, 0.3978, 0.3978,\n",
      "        0.3978, 0.3978, 0.3978, 0.3978, 0.3978, 0.3978, 0.3978],\n",
      "       device='cuda:0')\n"
     ]
    },
    {
     "name": "stderr",
     "output_type": "stream",
     "text": [
      "Evaluate:  25%|██▌       | 13/51 [00:04<00:10,  3.78it/s]"
     ]
    },
    {
     "name": "stdout",
     "output_type": "stream",
     "text": [
      "logitstensor([0.3978, 0.3978, 0.3978, 0.3978, 0.3978, 0.3978, 0.3978, 0.3978, 0.3978,\n",
      "        0.3978, 0.3978, 0.3978, 0.3978, 0.3978, 0.3978, 0.3978],\n",
      "       device='cuda:0')\n"
     ]
    },
    {
     "name": "stderr",
     "output_type": "stream",
     "text": [
      "Evaluate:  27%|██▋       | 14/51 [00:04<00:09,  3.75it/s]"
     ]
    },
    {
     "name": "stdout",
     "output_type": "stream",
     "text": [
      "logitstensor([0.3978, 0.3978, 0.3978, 0.3978, 0.3978, 0.3978, 0.3978, 0.3978, 0.3978,\n",
      "        0.3978, 0.3978, 0.3978, 0.3978, 0.3978, 0.3978, 0.3978],\n",
      "       device='cuda:0')\n"
     ]
    },
    {
     "name": "stderr",
     "output_type": "stream",
     "text": [
      "Evaluate:  29%|██▉       | 15/51 [00:04<00:09,  3.80it/s]"
     ]
    },
    {
     "name": "stdout",
     "output_type": "stream",
     "text": [
      "logitstensor([0.3978, 0.3978, 0.3978, 0.3978, 0.3978, 0.3978, 0.3978, 0.3978, 0.3978,\n",
      "        0.3978, 0.3978, 0.3978, 0.3978, 0.3978, 0.3978, 0.3978],\n",
      "       device='cuda:0')\n"
     ]
    },
    {
     "name": "stderr",
     "output_type": "stream",
     "text": [
      "Evaluate:  31%|███▏      | 16/51 [00:05<00:09,  3.80it/s]"
     ]
    },
    {
     "name": "stdout",
     "output_type": "stream",
     "text": [
      "logitstensor([0.3978, 0.3978, 0.3978, 0.3978, 0.3978, 0.3978, 0.3978, 0.3978, 0.3978,\n",
      "        0.3978, 0.3978, 0.3978, 0.3978, 0.3978, 0.3978, 0.3978],\n",
      "       device='cuda:0')\n"
     ]
    },
    {
     "name": "stderr",
     "output_type": "stream",
     "text": [
      "Evaluate:  33%|███▎      | 17/51 [00:05<00:08,  3.83it/s]"
     ]
    },
    {
     "name": "stdout",
     "output_type": "stream",
     "text": [
      "logitstensor([0.3978, 0.3978, 0.3978, 0.3978, 0.3978, 0.3978, 0.3978, 0.3978, 0.3978,\n",
      "        0.3978, 0.3978, 0.3978, 0.3978, 0.3978, 0.3978, 0.3978],\n",
      "       device='cuda:0')\n"
     ]
    },
    {
     "name": "stderr",
     "output_type": "stream",
     "text": [
      "Evaluate:  35%|███▌      | 18/51 [00:05<00:08,  3.85it/s]"
     ]
    },
    {
     "name": "stdout",
     "output_type": "stream",
     "text": [
      "logitstensor([0.3978, 0.3978, 0.3978, 0.3977, 0.3978, 0.3977, 0.3978, 0.3978, 0.3978,\n",
      "        0.3978, 0.3978, 0.3978, 0.3978, 0.3978, 0.3978, 0.3978],\n",
      "       device='cuda:0')\n"
     ]
    },
    {
     "name": "stderr",
     "output_type": "stream",
     "text": [
      "Evaluate:  37%|███▋      | 19/51 [00:05<00:08,  3.86it/s]"
     ]
    },
    {
     "name": "stdout",
     "output_type": "stream",
     "text": [
      "logitstensor([0.3978, 0.3978, 0.3978, 0.3978, 0.3978, 0.3978, 0.3978, 0.3978, 0.3978,\n",
      "        0.3977, 0.3978, 0.3978, 0.3978, 0.3978, 0.3978, 0.3978],\n",
      "       device='cuda:0')\n"
     ]
    },
    {
     "name": "stderr",
     "output_type": "stream",
     "text": [
      "Evaluate:  39%|███▉      | 20/51 [00:06<00:08,  3.86it/s]"
     ]
    },
    {
     "name": "stdout",
     "output_type": "stream",
     "text": [
      "logitstensor([0.3978, 0.3978, 0.3978, 0.3978, 0.3978, 0.3978, 0.3978, 0.3978, 0.3978,\n",
      "        0.3978, 0.3978, 0.3978, 0.3978, 0.3978, 0.3978, 0.3978],\n",
      "       device='cuda:0')\n"
     ]
    },
    {
     "name": "stderr",
     "output_type": "stream",
     "text": [
      "Evaluate:  41%|████      | 21/51 [00:06<00:07,  3.85it/s]"
     ]
    },
    {
     "name": "stdout",
     "output_type": "stream",
     "text": [
      "logitstensor([0.3978, 0.3978, 0.3978, 0.3978, 0.3978, 0.3978, 0.3978, 0.3978, 0.3978,\n",
      "        0.3978, 0.3978, 0.3978, 0.3978, 0.3978, 0.3977, 0.3978],\n",
      "       device='cuda:0')\n"
     ]
    },
    {
     "name": "stderr",
     "output_type": "stream",
     "text": [
      "Evaluate:  43%|████▎     | 22/51 [00:06<00:07,  3.87it/s]"
     ]
    },
    {
     "name": "stdout",
     "output_type": "stream",
     "text": [
      "logitstensor([0.3978, 0.3978, 0.3978, 0.3978, 0.3978, 0.3978, 0.3978, 0.3978, 0.3978,\n",
      "        0.3978, 0.3978, 0.3978, 0.3978, 0.3978, 0.3978, 0.3978],\n",
      "       device='cuda:0')\n"
     ]
    },
    {
     "name": "stderr",
     "output_type": "stream",
     "text": [
      "Evaluate:  45%|████▌     | 23/51 [00:06<00:07,  3.91it/s]"
     ]
    },
    {
     "name": "stdout",
     "output_type": "stream",
     "text": [
      "logitstensor([0.3978, 0.3978, 0.3978, 0.3978, 0.3978, 0.3978, 0.3978, 0.3978, 0.3978,\n",
      "        0.3978, 0.3978, 0.3978, 0.3978, 0.3978, 0.3978, 0.3978],\n",
      "       device='cuda:0')\n"
     ]
    },
    {
     "name": "stderr",
     "output_type": "stream",
     "text": [
      "Evaluate:  47%|████▋     | 24/51 [00:07<00:06,  3.94it/s]"
     ]
    },
    {
     "name": "stdout",
     "output_type": "stream",
     "text": [
      "logitstensor([0.3978, 0.3978, 0.3978, 0.3978, 0.3978, 0.3978, 0.3978, 0.3978, 0.3978,\n",
      "        0.3978, 0.3978, 0.3978, 0.3978, 0.3978, 0.3978, 0.3978],\n",
      "       device='cuda:0')\n"
     ]
    },
    {
     "name": "stderr",
     "output_type": "stream",
     "text": [
      "Evaluate:  49%|████▉     | 25/51 [00:07<00:06,  3.87it/s]"
     ]
    },
    {
     "name": "stdout",
     "output_type": "stream",
     "text": [
      "logitstensor([0.3978, 0.3978, 0.3978, 0.3978, 0.3978, 0.3978, 0.3978, 0.3978, 0.3978,\n",
      "        0.3978, 0.3978, 0.3978, 0.3978, 0.3978, 0.3978, 0.3978],\n",
      "       device='cuda:0')\n"
     ]
    },
    {
     "name": "stderr",
     "output_type": "stream",
     "text": [
      "Evaluate:  51%|█████     | 26/51 [00:07<00:06,  3.88it/s]"
     ]
    },
    {
     "name": "stdout",
     "output_type": "stream",
     "text": [
      "logitstensor([0.3978, 0.3978, 0.3978, 0.3978, 0.3978, 0.3978, 0.3978, 0.3978, 0.3978,\n",
      "        0.3978, 0.3978, 0.3978, 0.3978, 0.3978, 0.3978, 0.3978],\n",
      "       device='cuda:0')\n"
     ]
    },
    {
     "name": "stderr",
     "output_type": "stream",
     "text": [
      "Evaluate:  53%|█████▎    | 27/51 [00:07<00:06,  3.90it/s]"
     ]
    },
    {
     "name": "stdout",
     "output_type": "stream",
     "text": [
      "logitstensor([0.3978, 0.3978, 0.3978, 0.3978, 0.3978, 0.3978, 0.3978, 0.3978, 0.3978,\n",
      "        0.3978, 0.3978, 0.3978, 0.3978, 0.3978, 0.3978, 0.3978],\n",
      "       device='cuda:0')\n"
     ]
    },
    {
     "name": "stderr",
     "output_type": "stream",
     "text": [
      "Evaluate:  55%|█████▍    | 28/51 [00:08<00:05,  3.90it/s]"
     ]
    },
    {
     "name": "stdout",
     "output_type": "stream",
     "text": [
      "logitstensor([0.3978, 0.3978, 0.3978, 0.3978, 0.3978, 0.3978, 0.3978, 0.3978, 0.3978,\n",
      "        0.3978, 0.3978, 0.3978, 0.3978, 0.3978, 0.3978, 0.3978],\n",
      "       device='cuda:0')\n"
     ]
    },
    {
     "name": "stderr",
     "output_type": "stream",
     "text": [
      "Evaluate:  57%|█████▋    | 29/51 [00:08<00:05,  3.81it/s]"
     ]
    },
    {
     "name": "stdout",
     "output_type": "stream",
     "text": [
      "logitstensor([0.3978, 0.3977, 0.3978, 0.3978, 0.3978, 0.3978, 0.3978, 0.3978, 0.3978,\n",
      "        0.3978, 0.3978, 0.3978, 0.3978, 0.3978, 0.3978, 0.3978],\n",
      "       device='cuda:0')\n"
     ]
    },
    {
     "name": "stderr",
     "output_type": "stream",
     "text": [
      "Evaluate:  59%|█████▉    | 30/51 [00:08<00:05,  3.75it/s]"
     ]
    },
    {
     "name": "stdout",
     "output_type": "stream",
     "text": [
      "logitstensor([0.3978, 0.3978, 0.3977, 0.3978, 0.3978, 0.3978, 0.3978, 0.3978, 0.3978,\n",
      "        0.3978, 0.3978, 0.3978, 0.3978, 0.3978, 0.3978, 0.3978],\n",
      "       device='cuda:0')\n"
     ]
    },
    {
     "name": "stderr",
     "output_type": "stream",
     "text": [
      "Evaluate:  61%|██████    | 31/51 [00:08<00:05,  3.81it/s]"
     ]
    },
    {
     "name": "stdout",
     "output_type": "stream",
     "text": [
      "logitstensor([0.3978, 0.3978, 0.3978, 0.3978, 0.3978, 0.3978, 0.3978, 0.3978, 0.3978,\n",
      "        0.3978, 0.3978, 0.3978, 0.3978, 0.3978, 0.3978, 0.3978],\n",
      "       device='cuda:0')\n"
     ]
    },
    {
     "name": "stderr",
     "output_type": "stream",
     "text": [
      "Evaluate:  63%|██████▎   | 32/51 [00:09<00:04,  3.83it/s]"
     ]
    },
    {
     "name": "stdout",
     "output_type": "stream",
     "text": [
      "logitstensor([0.3978, 0.3978, 0.3978, 0.3978, 0.3978, 0.3978, 0.3978, 0.3978, 0.3978,\n",
      "        0.3978, 0.3978, 0.3978, 0.3978, 0.3978, 0.3978, 0.3978],\n",
      "       device='cuda:0')\n"
     ]
    },
    {
     "name": "stderr",
     "output_type": "stream",
     "text": [
      "Evaluate:  65%|██████▍   | 33/51 [00:09<00:04,  3.85it/s]"
     ]
    },
    {
     "name": "stdout",
     "output_type": "stream",
     "text": [
      "logitstensor([0.3978, 0.3978, 0.3978, 0.3978, 0.3978, 0.3978, 0.3978, 0.3978, 0.3978,\n",
      "        0.3977, 0.3978, 0.3978, 0.3978, 0.3978, 0.3978, 0.3978],\n",
      "       device='cuda:0')\n"
     ]
    },
    {
     "name": "stderr",
     "output_type": "stream",
     "text": [
      "Evaluate:  67%|██████▋   | 34/51 [00:09<00:04,  3.86it/s]"
     ]
    },
    {
     "name": "stdout",
     "output_type": "stream",
     "text": [
      "logitstensor([0.3978, 0.3978, 0.3978, 0.3978, 0.3978, 0.3978, 0.3978, 0.3978, 0.3978,\n",
      "        0.3978, 0.3978, 0.3978, 0.3978, 0.3978, 0.3978, 0.3978],\n",
      "       device='cuda:0')\n"
     ]
    },
    {
     "name": "stderr",
     "output_type": "stream",
     "text": [
      "Evaluate:  69%|██████▊   | 35/51 [00:09<00:04,  3.86it/s]"
     ]
    },
    {
     "name": "stdout",
     "output_type": "stream",
     "text": [
      "logitstensor([0.3978, 0.3978, 0.3978, 0.3977, 0.3978, 0.3977, 0.3978, 0.3978, 0.3978,\n",
      "        0.3978, 0.3978, 0.3978, 0.3978, 0.3978, 0.3978, 0.3978],\n",
      "       device='cuda:0')\n"
     ]
    },
    {
     "name": "stderr",
     "output_type": "stream",
     "text": [
      "Evaluate:  71%|███████   | 36/51 [00:10<00:03,  3.88it/s]"
     ]
    },
    {
     "name": "stdout",
     "output_type": "stream",
     "text": [
      "logitstensor([0.3978, 0.3978, 0.3978, 0.3978, 0.3978, 0.3978, 0.3978, 0.3978, 0.3978,\n",
      "        0.3978, 0.3978, 0.3978, 0.3978, 0.3978, 0.3978, 0.3978],\n",
      "       device='cuda:0')\n"
     ]
    },
    {
     "name": "stderr",
     "output_type": "stream",
     "text": [
      "Evaluate:  73%|███████▎  | 37/51 [00:10<00:03,  3.86it/s]"
     ]
    },
    {
     "name": "stdout",
     "output_type": "stream",
     "text": [
      "logitstensor([0.3978, 0.3978, 0.3978, 0.3978, 0.3978, 0.3978, 0.3978, 0.3978, 0.3978,\n",
      "        0.3978, 0.3978, 0.3978, 0.3978, 0.3978, 0.3978, 0.3978],\n",
      "       device='cuda:0')\n"
     ]
    },
    {
     "name": "stderr",
     "output_type": "stream",
     "text": [
      "Evaluate:  75%|███████▍  | 38/51 [00:10<00:03,  3.87it/s]"
     ]
    },
    {
     "name": "stdout",
     "output_type": "stream",
     "text": [
      "logitstensor([0.3978, 0.3978, 0.3978, 0.3978, 0.3978, 0.3978, 0.3978, 0.3978, 0.3978,\n",
      "        0.3978, 0.3978, 0.3978, 0.3978, 0.3978, 0.3978, 0.3978],\n",
      "       device='cuda:0')\n"
     ]
    },
    {
     "name": "stderr",
     "output_type": "stream",
     "text": [
      "Evaluate:  76%|███████▋  | 39/51 [00:10<00:03,  3.89it/s]"
     ]
    },
    {
     "name": "stdout",
     "output_type": "stream",
     "text": [
      "logitstensor([0.3978, 0.3978, 0.3978, 0.3978, 0.3978, 0.3978, 0.3978, 0.3978, 0.3978,\n",
      "        0.3978, 0.3978, 0.3978, 0.3978, 0.3978, 0.3978, 0.3978],\n",
      "       device='cuda:0')\n"
     ]
    },
    {
     "name": "stderr",
     "output_type": "stream",
     "text": [
      "Evaluate:  78%|███████▊  | 40/51 [00:11<00:02,  3.91it/s]"
     ]
    },
    {
     "name": "stdout",
     "output_type": "stream",
     "text": [
      "logitstensor([0.3978, 0.3978, 0.3978, 0.3978, 0.3978, 0.3978, 0.3978, 0.3978, 0.3978,\n",
      "        0.3978, 0.3978, 0.3978, 0.3978, 0.3978, 0.3978, 0.3978],\n",
      "       device='cuda:0')\n"
     ]
    },
    {
     "name": "stderr",
     "output_type": "stream",
     "text": [
      "Evaluate:  80%|████████  | 41/51 [00:11<00:02,  3.90it/s]"
     ]
    },
    {
     "name": "stdout",
     "output_type": "stream",
     "text": [
      "logitstensor([0.3978, 0.3978, 0.3978, 0.3978, 0.3978, 0.3978, 0.3978, 0.3977, 0.3978,\n",
      "        0.3978, 0.3978, 0.3978, 0.3978, 0.3978, 0.3978, 0.3978],\n",
      "       device='cuda:0')\n"
     ]
    },
    {
     "name": "stderr",
     "output_type": "stream",
     "text": [
      "Evaluate:  82%|████████▏ | 42/51 [00:11<00:02,  3.91it/s]"
     ]
    },
    {
     "name": "stdout",
     "output_type": "stream",
     "text": [
      "logitstensor([0.3978, 0.3978, 0.3978, 0.3978, 0.3978, 0.3978, 0.3978, 0.3978, 0.3978,\n",
      "        0.3978, 0.3978, 0.3978, 0.3978, 0.3978, 0.3978, 0.3978],\n",
      "       device='cuda:0')\n"
     ]
    },
    {
     "name": "stderr",
     "output_type": "stream",
     "text": [
      "Evaluate:  84%|████████▍ | 43/51 [00:11<00:02,  3.91it/s]"
     ]
    },
    {
     "name": "stdout",
     "output_type": "stream",
     "text": [
      "logitstensor([0.3978, 0.3978, 0.3978, 0.3978, 0.3978, 0.3978, 0.3978, 0.3978, 0.3978,\n",
      "        0.3978, 0.3978, 0.3978, 0.3978, 0.3978, 0.3978, 0.3978],\n",
      "       device='cuda:0')\n"
     ]
    },
    {
     "name": "stderr",
     "output_type": "stream",
     "text": [
      "Evaluate:  86%|████████▋ | 44/51 [00:12<00:01,  3.91it/s]"
     ]
    },
    {
     "name": "stdout",
     "output_type": "stream",
     "text": [
      "logitstensor([0.3978, 0.3978, 0.3978, 0.3978, 0.3978, 0.3978, 0.3978, 0.3978, 0.3978,\n",
      "        0.3978, 0.3978, 0.3978, 0.3978, 0.3978, 0.3978, 0.3978],\n",
      "       device='cuda:0')\n"
     ]
    },
    {
     "name": "stderr",
     "output_type": "stream",
     "text": [
      "Evaluate:  88%|████████▊ | 45/51 [00:12<00:01,  3.92it/s]"
     ]
    },
    {
     "name": "stdout",
     "output_type": "stream",
     "text": [
      "logitstensor([0.3978, 0.3978, 0.3978, 0.3978, 0.3978, 0.3978, 0.3978, 0.3978, 0.3978,\n",
      "        0.3978, 0.3978, 0.3978, 0.3978, 0.3978, 0.3978, 0.3978],\n",
      "       device='cuda:0')\n"
     ]
    },
    {
     "name": "stderr",
     "output_type": "stream",
     "text": [
      "Evaluate:  90%|█████████ | 46/51 [00:12<00:01,  3.91it/s]"
     ]
    },
    {
     "name": "stdout",
     "output_type": "stream",
     "text": [
      "logitstensor([0.3978, 0.3978, 0.3978, 0.3978, 0.3978, 0.3978, 0.3978, 0.3978, 0.3978,\n",
      "        0.3978, 0.3978, 0.3978, 0.3978, 0.3978, 0.3978, 0.3978],\n",
      "       device='cuda:0')\n"
     ]
    },
    {
     "name": "stderr",
     "output_type": "stream",
     "text": [
      "Evaluate:  92%|█████████▏| 47/51 [00:13<00:01,  3.91it/s]"
     ]
    },
    {
     "name": "stdout",
     "output_type": "stream",
     "text": [
      "logitstensor([0.3978, 0.3978, 0.3978, 0.3978, 0.3978, 0.3978, 0.3978, 0.3978, 0.3978,\n",
      "        0.3978, 0.3978, 0.3978, 0.3978, 0.3978, 0.3978, 0.3978],\n",
      "       device='cuda:0')\n"
     ]
    },
    {
     "name": "stderr",
     "output_type": "stream",
     "text": [
      "Evaluate:  94%|█████████▍| 48/51 [00:13<00:00,  3.93it/s]"
     ]
    },
    {
     "name": "stdout",
     "output_type": "stream",
     "text": [
      "logitstensor([0.3978, 0.3978, 0.3978, 0.3978, 0.3978, 0.3978, 0.3978, 0.3978, 0.3978,\n",
      "        0.3978, 0.3978, 0.3978, 0.3978, 0.3978, 0.3978, 0.3978],\n",
      "       device='cuda:0')\n"
     ]
    },
    {
     "name": "stderr",
     "output_type": "stream",
     "text": [
      "Evaluate:  96%|█████████▌| 49/51 [00:13<00:00,  3.92it/s]"
     ]
    },
    {
     "name": "stdout",
     "output_type": "stream",
     "text": [
      "logitstensor([0.3978, 0.3978, 0.3978, 0.3978, 0.3978, 0.3978, 0.3978, 0.3978, 0.3978,\n",
      "        0.3978, 0.3978, 0.3978, 0.3978, 0.3978, 0.3978, 0.3978],\n",
      "       device='cuda:0')\n"
     ]
    },
    {
     "name": "stderr",
     "output_type": "stream",
     "text": [
      "Evaluate:  98%|█████████▊| 50/51 [00:13<00:00,  3.88it/s]"
     ]
    },
    {
     "name": "stdout",
     "output_type": "stream",
     "text": [
      "logitstensor([0.3978, 0.3978, 0.3978, 0.3978, 0.3978, 0.3978, 0.3978, 0.3978, 0.3978,\n",
      "        0.3978, 0.3978, 0.3978, 0.3978, 0.3978, 0.3978, 0.3978],\n",
      "       device='cuda:0')\n"
     ]
    },
    {
     "name": "stderr",
     "output_type": "stream",
     "text": [
      "Evaluate: 100%|██████████| 51/51 [00:14<00:00,  3.64it/s]"
     ]
    },
    {
     "name": "stdout",
     "output_type": "stream",
     "text": [
      "logitstensor([0.3978, 0.3978, 0.3978, 0.3978, 0.3978, 0.3978, 0.3978, 0.3978, 0.3978,\n",
      "        0.3978, 0.3978, 0.3978, 0.3978, 0.3978], device='cuda:0')\n"
     ]
    },
    {
     "name": "stderr",
     "output_type": "stream",
     "text": [
      "\n"
     ]
    }
   ],
   "source": [
    "if len(test_index_checkpoint) > 0:\n",
    "    img_encoder =[vit_encoder,resnet_encoder,swintransformer]\n",
    "    model = get_model(architecture, img_encoder,encoder_layer,text_embedding, pooling_layer)\n",
    "    model = model.to(device)\n",
    "    optimizer = torch.optim.Adam(model.parameters(), lr=lr)\n",
    "\n",
    "    PATH = os.path.join(checkpoint_directory, test_index_checkpoint + CHECKPOINT_EXTENSION)\n",
    "    epoch, model, optimizer, loss = load_checkpoint(PATH, model, optimizer)\n",
    "    print(\"Load checkpoint: \"+str(PATH))\n",
    "list = predict(model,device,dataloader_test,image_processor)\n",
    "json_dict = read_json(test_file_path)\n",
    "for i in range(len(json_dict['pairs'])):\n",
    "    if list[i] == 0:\n",
    "        json_dict['pairs'][i]['subtask1_label'] = 'NO'\n",
    "    else:\n",
    "        json_dict['pairs'][i]['subtask1_label'] = 'YES'\n",
    "with open(predict_path, 'w') as f:\n",
    "    json.dump(json_dict, f, indent=4)"
   ]
  }
 ],
 "metadata": {
  "kernelspec": {
   "display_name": "Khoa_env",
   "language": "python",
   "name": "python3"
  },
  "language_info": {
   "codemirror_mode": {
    "name": "ipython",
    "version": 3
   },
   "file_extension": ".py",
   "mimetype": "text/x-python",
   "name": "python",
   "nbconvert_exporter": "python",
   "pygments_lexer": "ipython3",
   "version": "3.10.13"
  }
 },
 "nbformat": 4,
 "nbformat_minor": 2
}
