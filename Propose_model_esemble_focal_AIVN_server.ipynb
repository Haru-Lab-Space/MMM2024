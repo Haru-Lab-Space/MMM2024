{
  "cells": [
    {
      "cell_type": "code",
      "execution_count": 1,
      "metadata": {
        "id": "R8kAI5cbz03Y"
      },
      "outputs": [
        {
          "name": "stderr",
          "output_type": "stream",
          "text": [
            "/home/server-ailab-12gb/miniconda3/envs/Khoa_env/lib/python3.10/site-packages/tqdm/auto.py:21: TqdmWarning: IProgress not found. Please update jupyter and ipywidgets. See https://ipywidgets.readthedocs.io/en/stable/user_install.html\n",
            "  from .autonotebook import tqdm as notebook_tqdm\n"
          ]
        },
        {
          "data": {
            "text/plain": [
              "'cuda'"
            ]
          },
          "execution_count": 1,
          "metadata": {},
          "output_type": "execute_result"
        }
      ],
      "source": [
        "import torch\n",
        "from torch.utils.data import Dataset,DataLoader\n",
        "import numpy as np\n",
        "import os\n",
        "import copy\n",
        "import cv2\n",
        "import json\n",
        "import transformers\n",
        "from transformers import AutoImageProcessor, ViTModel\n",
        "from PIL import Image, ImageMath\n",
        "from transformers import AutoModel\n",
        "import torch.nn as nn\n",
        "from transformers import AutoTokenizer, BertModel, BertTokenizer\n",
        "from torch.optim import Adam\n",
        "from tqdm import tqdm\n",
        "import torch.nn.functional as F\n",
        "from ast import literal_eval\n",
        "from torchvision.models import resnet50,SwinTransformer\n",
        "import torchvision\n",
        "from transformers import AutoFeatureExtractor, ResNetForImageClassification\n",
        "from transformers import AutoImageProcessor, AutoModelForImageClassification\n",
        "import requests\n",
        "from io import BytesIO\n",
        "from transformers import RobertaTokenizer, RobertaModel\n",
        "from focal_loss.focal_loss import FocalLoss\n",
        "from sklearn.metrics import classification_report\n",
        "# from focal_loss_pytorch.focal_loss_pytorch.focal_loss import BinaryFocalLoss\n",
        "device = 'cuda' if torch.cuda.is_available() else 'cpu'\n",
        "device"
      ]
    },
    {
      "cell_type": "code",
      "execution_count": 2,
      "metadata": {},
      "outputs": [],
      "source": [
        "version = \"T_W_nondropout_FOCAL_2_03_train_VIT_BERT\""
      ]
    },
    {
      "cell_type": "code",
      "execution_count": 3,
      "metadata": {},
      "outputs": [],
      "source": [
        "FOLDER = \"/home/server-ailab-12gb/DUC-MMM\"\n",
        "data_dir = '/home/server-ailab-12gb/DUC-MMM/data/Musti'\n",
        "train_dir = os.path.join(data_dir, 'train')\n",
        "test_dir = os.path.join(data_dir, 'test')\n",
        "train_img_dir = os.path.join(train_dir, 'img')\n",
        "train_file_path = os.path.join(train_dir, 'train.json')\n",
        "\n",
        "test_img_dir = os.path.join(test_dir, 'img')\n",
        "test_file_path = os.path.join(test_dir, 'test.json')\n",
        "history_save_folder = os.path.join(FOLDER, 'history_save')\n",
        "checkpoint_dir = os.path.join(FOLDER, 'checkpoint')\n",
        "checkpoint_directory = os.path.join(checkpoint_dir, version)\n",
        "CHECKPOINT_EXTENSION = '.pt'\n",
        "\n",
        "predict_dir = os.path.join(FOLDER, \"predict\")\n",
        "predict_path = os.path.join(predict_dir, version + '.json')\n",
        "report_dir = os.path.join(FOLDER, \"report\")\n",
        "report_path = os.path.join(report_dir, version)\n",
        "\n",
        "report_dir = os.path.join(FOLDER, \"report\")\n",
        "report_path = os.path.join(report_dir, version)\n",
        "\n",
        "train_index_checkpoint = ''\n",
        "test_index_checkpoint = ''\n",
        "lr = 0.001\n",
        "epoch = 0\n",
        "loss = 10000"
      ]
    },
    {
      "cell_type": "code",
      "execution_count": 4,
      "metadata": {
        "id": "kGDUHRYUmdS9"
      },
      "outputs": [],
      "source": [
        "def save_checkpoint(checkpoint_directory, epoch, model, optimizer, LOSS, checkpoint_name=None):\n",
        "    \"\"\"\n",
        "    The checkpoint will be saved in `checkpoint_directory` with name `checkpoint_name`.\n",
        "    If `checkpoint_name` is None, the checkpoint will be saved with name `next_checkpoint_name_id + epoch`.\n",
        "    \"\"\"\n",
        "    if checkpoint_directory is not None:\n",
        "        if checkpoint_name is None:\n",
        "            checkpoint_name = f'{epoch}{CHECKPOINT_EXTENSION}'\n",
        "\n",
        "        path = os.path.join(checkpoint_directory, checkpoint_name)\n",
        "        print(\"path: \"+str(path))\n",
        "        torch.save({\n",
        "                    'epoch': epoch,\n",
        "                    'model_state_dict': model.state_dict(),\n",
        "                    'optimizer_state_dict': optimizer.state_dict(),\n",
        "                    'loss': LOSS,\n",
        "                    }, path)\n",
        "def load_checkpoint(PATH, model, optimizer):\n",
        "    checkpoint = torch.load(PATH)\n",
        "    model.load_state_dict(checkpoint['model_state_dict'])\n",
        "    optimizer.load_state_dict(checkpoint['optimizer_state_dict'])\n",
        "    epoch = checkpoint['epoch']\n",
        "    loss = checkpoint['loss']\n",
        "\n",
        "    return epoch, model, optimizer, loss\n",
        "\n",
        "def save_report(pred_list, target_list, report_path):\n",
        "    report = classification_report(target_list, pred_list, target_names=['NO', 'YES'], digits=6)\n",
        "    with open(report_path, 'w') as f:\n",
        "        f.write(report)\n",
        "        \n",
        "def read_json(parient_dir, name=None):\n",
        "    # Opening JSON file\n",
        "    if name == None:\n",
        "        path = parient_dir\n",
        "    else:\n",
        "        path = os.path.join(parient_dir, str(name) + \".json\")\n",
        "    with open(path, 'r') as openfile:\n",
        "\n",
        "        # Reading from json file\n",
        "        json_object = json.load(openfile)\n",
        "    return json_object\n",
        "def write_json(dict, parient_dir, name=None):\n",
        "    # Serializing json\n",
        "    json_object = json.dumps(dict, indent=4)\n",
        "    if name != None:\n",
        "        path = os.path.join(parient_dir, str(name)+\".json\")\n",
        "    else:\n",
        "        path = parient_dir\n",
        "    # Writing to sample.json\n",
        "    with open(path, \"w\") as outfile:\n",
        "        outfile.write(json_object)\n",
        "# img_dir = '/content/drive/MyDrive/HaruLab/Dataset/Musti/test/img'\n",
        "# json_file =\n",
        "# values = json_file['pairs']\n",
        "\n",
        "def load_image_from_url(url):\n",
        "    try:\n",
        "        response = requests.get(url)\n",
        "        response.raise_for_status()\n",
        "\n",
        "        # Open the image using Pillow\n",
        "        image = Image.open(BytesIO(response.content))\n",
        "        return image\n",
        "    except requests.exceptions.RequestException as e:\n",
        "        print(f\"Error loading image from URL: {e}\")\n",
        "        return None\n",
        "def split_filename(filepath):\n",
        "    # Split the filepath into the directory and file parts\n",
        "    directory, full_filename = os.path.split(filepath)\n",
        "\n",
        "    # Split the file part into the base name and extension\n",
        "    base_name, file_extension = os.path.splitext(full_filename)\n",
        "\n",
        "    return directory, base_name, file_extension"
      ]
    },
    {
      "cell_type": "markdown",
      "metadata": {
        "id": "QMaOYWJZ4BDP"
      },
      "source": [
        "## . Dataset&DataLoader"
      ]
    },
    {
      "cell_type": "code",
      "execution_count": 5,
      "metadata": {
        "colab": {
          "base_uri": "https://localhost:8080/",
          "height": 209,
          "referenced_widgets": [
            "ff9b6223352e431da6cb5177e30a182c",
            "02d500f84c8349a4865b2cb8f34c91b0",
            "b039949ef451465aa3e679ee2d3039fa",
            "4d50ef0488784d6188e439de13cb3233",
            "d4cb33934eaf49198f5b3e6f1633b5b9",
            "6794350f109e47148fc0a7f41db3e57c",
            "089b3b2d18764915bfbcb987ce03cc3c",
            "2b4a23c4567f46d7b7531cf3d670c77a",
            "063c1af95c5d4702bdf98b0b7ced2973",
            "dce74c694de54558a4806af0f2700be0",
            "b5b95153513e47f6813774f44657d3dc",
            "fbb383ee743240d2bb319c7aed1378fd",
            "78eac6a3d48a4cac91aac78a34e366a7",
            "f40c4389e77c475e9e127ea48fdb85ca",
            "f4aa2e7cc73c48baba5649e549bf4849",
            "92e93fbfac4d4357bfe7af8d28909258",
            "458cf6542c694839b20f9a758e6b981c",
            "52f134b11feb4be1ba092ce2e96d25d0",
            "1541485dbc354db4bca70dc91f998fdf",
            "fe0a24dd45a94fa297e2397b378e2083",
            "404ad091730e4c23ab3873ea00efcbed",
            "a7050a2b32a34da68d3d3a1ac118c144",
            "ed57a8ba5eba4eed90591284c6954a43",
            "ad3921dc54674ed3871ca1d1ce7d8550",
            "0749bb02e0d34e49a2a871b5d2096efb",
            "d7ec0fbcc87b4200a6f0822185418956",
            "eedded6b5fdd4c3d894e96beb381026d",
            "dcce8fc3ce544d93afa3513db0f34408",
            "07864b8e7d4341f78a5ff4f18793025e",
            "de6ceb06074a4389851830d1cb4b3801",
            "3fb3ddebe9824e508580a3d1c28082ab",
            "913f528da5db440aa357926161819997",
            "aa7b798357f740c9b67f85cd0140d068",
            "ecb74811321e4722af7c777a9e6b8ede",
            "edae39e01f2f4c3fb0f2d3167670577d",
            "e875a419c9e245bfae1a0c82e14e08b9",
            "ac06ceefb9b54b33a256149687cb196b",
            "a8f31289da444efb8a106e1e22fa3230",
            "8f8fd9119d704c349d42d58efb617fb2",
            "92b34b60c1234c86b9e8c687db6e83b0",
            "12c6884c38cd4f3480f07eca22d972f2",
            "25756536576b4a3ea3aabb48d452e92c",
            "da9d65c1dba64a00939f1fd744011d2c",
            "80660a3792e94e29849cd4cc48281280",
            "be91fb8c78394ab89b86a2fcb058120f",
            "6b31d71879684fd4946c23396798f4d3",
            "42ee72df4ac04c95b1ea44700ec23b65",
            "219faa34ff5440aead25c7d0534cdde1",
            "b8fb52e6edf24dc1ba83e34ffe6c728a",
            "7bc92338d0c14131b2ac84ebfc008a5b",
            "5565eb6a9f3c49d081e6549dc1cdf70d",
            "58a84b1678194a89a8bd8db268e78e64",
            "82d107921c944e1aa0122cdaff972ec8",
            "54aaa403a0bc440caeedde366b839aed",
            "3c17fc5eb5ce42b884eb678973114760",
            "a4468040f262491e8e9961f62a12ceaa",
            "7652c7202d684c779e23e5b17c81b4be",
            "2604eeaff060450292ada4afe7e622a5",
            "c8ff7bfc6375446ea3c001c4e44137c3",
            "9112d657be964f46b97a918de2d7b444",
            "9adeea39234c4062b70674906c2660a5",
            "e6f3758288ec41928b96473652cf7720",
            "7bcc83837d05456c87af808dd5b43219",
            "52b0b031fc674c3581cb791f04e0566b",
            "d2d951b192c4443ab4d7b8a2537d6709",
            "06f467c79e2c46eda4fd079c2e4a3841"
          ]
        },
        "id": "tc_zkY_uJDl_",
        "outputId": "14643aee-af17-49ed-e405-fd853c57348b"
      },
      "outputs": [],
      "source": [
        "image_processor = AutoImageProcessor.from_pretrained(\"google/vit-base-patch16-224-in21k\")\n",
        "# tokenizer = AutoModel.from_pretrained(\"google/mt5-base\")\n",
        "tokenizer = BertTokenizer.from_pretrained('bert-base-multilingual-cased')\n",
        "vit_encoder = ViTModel.from_pretrained(\"google/vit-base-patch16-224-in21k\")\n",
        "resnet_encoder = ResNetForImageClassification.from_pretrained(\"microsoft/resnet-50\")\n",
        "resnet_encoder = nn.Sequential(*list(resnet_encoder.children())[:-1])\n",
        "swintransformer = AutoModelForImageClassification.from_pretrained(\"microsoft/swin-tiny-patch4-window7-224\")\n",
        "swintransformer = nn.Sequential(*list(swintransformer.children())[:-1])\n",
        "# text_encoder = BertModel.from_pretrained(\"google/mt5-base\").to(device)\n",
        "text_encoder = BertModel.from_pretrained('bert-base-multilingual-cased')\n",
        "encoder_layer = text_encoder.encoder\n",
        "text_embedding= text_encoder.embeddings\n",
        "pooling_layer= text_encoder.pooler"
      ]
    },
    {
      "cell_type": "code",
      "execution_count": 6,
      "metadata": {
        "id": "23dGPuPt0gqL"
      },
      "outputs": [],
      "source": [
        "class Dataset_MMM(Dataset):\n",
        "    def __init__(self, file_path,image_dir ,image_processor,tokenizer):\n",
        "        super(Dataset_MMM, self).__init__()\n",
        "        self.image_dir = image_dir\n",
        "        data = read_json(file_path)\n",
        "        if isinstance(data, dict):\n",
        "            data = data['pairs']\n",
        "        print(self.image_dir)\n",
        "        self.data = []\n",
        "        for obj in data:\n",
        "          if os.path.exists(os.path.join(self.image_dir, obj['image'].rstrip())):\n",
        "            self.data.append(obj)\n",
        "          else:\n",
        "            _, base_name, file_extension = split_filename(obj['image'].rstrip())\n",
        "            if os.path.exists(os.path.join(self.image_dir, base_name + file_extension)):\n",
        "              obj['image'] = base_name + file_extension\n",
        "              self.data.append(obj)\n",
        "            else:\n",
        "              img = load_image_from_url(obj['image'].rstrip())\n",
        "              obj['image'] = base_name + file_extension\n",
        "              img.save(os.path.join(self.image_dir, base_name + file_extension))\n",
        "              \n",
        "              self.data.append(obj)\n",
        "              print(base_name + file_extension)\n",
        "        print(\"Len: \" +str(len(self.data)))\n",
        "        self.image_processor = image_processor\n",
        "        self.tokenizer = tokenizer\n",
        "\n",
        "    def __len__(self):\n",
        "        return len(self.data)\n",
        "\n",
        "    def __getitem__(self, index):\n",
        "        img_path = os.path.join(self.image_dir,self.data[index]['image'])\n",
        "        text = self.data[index]['text']\n",
        "        target = self.data[index]['subtask1_label']\n",
        "        if target == 'NO':\n",
        "          target = 0\n",
        "        else:\n",
        "          target = 1\n",
        "        # process_image\n",
        "        img = Image.open(img_path)\n",
        "        if img.mode == 'L':\n",
        "          img = img.convert('RGB')\n",
        "        img = self.image_processor(images = img, return_tensors=\"pt\",padding=True)\n",
        "        # process_text\n",
        "        text = self.tokenizer(text,padding=\"max_length\", max_length=197,truncation=True, return_tensors=\"pt\")\n",
        "\n",
        "        return img, text, target"
      ]
    },
    {
      "cell_type": "markdown",
      "metadata": {
        "id": "EmbH5e8x4HNj"
      },
      "source": [
        "## Model"
      ]
    },
    {
      "cell_type": "markdown",
      "metadata": {
        "id": "05bg_ch75RVY"
      },
      "source": [
        "### Image"
      ]
    },
    {
      "cell_type": "code",
      "execution_count": 7,
      "metadata": {
        "id": "FRWflwHUqGeE"
      },
      "outputs": [],
      "source": [
        "class EarlyStopper:\n",
        "    def __init__(self, patience=1, min_delta=0):\n",
        "        self.patience = patience\n",
        "        self.min_delta = min_delta\n",
        "        self.counter = 0\n",
        "        self.min_validation_loss = float('inf')\n",
        "\n",
        "    def early_stop(self, validation_loss):\n",
        "        if validation_loss < self.min_validation_loss:\n",
        "            self.min_validation_loss = validation_loss\n",
        "            self.counter = 0\n",
        "        elif validation_loss > (self.min_validation_loss + self.min_delta):\n",
        "            self.counter += 1\n",
        "            if self.counter >= self.patience:\n",
        "                return True\n",
        "        return False\n",
        "early_stopper = EarlyStopper(patience=5, min_delta=0)"
      ]
    },
    {
      "cell_type": "markdown",
      "metadata": {
        "id": "5j6o-D0w5RPE"
      },
      "source": [
        "### Text"
      ]
    },
    {
      "cell_type": "markdown",
      "metadata": {
        "id": "92se3cBXIdLW"
      },
      "source": [
        "### CrossModel"
      ]
    },
    {
      "cell_type": "code",
      "execution_count": 8,
      "metadata": {
        "id": "PTNt2CWeHkkA"
      },
      "outputs": [],
      "source": [
        "class CrossModel(nn.Module):\n",
        "  def __init__(self,image_encoder,text_encoder,text_embedding, pooling_layer):\n",
        "    super(CrossModel,self).__init__()\n",
        "    #image_encoder\n",
        "    self.vit_encoder = image_encoder[0]\n",
        "    self.resnet_encoder = image_encoder[1]\n",
        "    self.swintransformer_encoder = image_encoder[2]\n",
        "\n",
        "    #text_encoder & text embedding\n",
        "    self.text_encoder = text_encoder\n",
        "    self.text_embedding = text_embedding\n",
        "    self.pooling_layer = pooling_layer\n",
        "\n",
        "    # layernorm\n",
        "    self.layernorm_197 = nn.LayerNorm(197)\n",
        "    self.layernorm_768 = nn.LayerNorm(768)\n",
        "\n",
        "    # self.layernorm_1024 = nn.LayerNorm(1024)\n",
        "    #linear\n",
        "    self.linear = nn.Linear(2,1)\n",
        "\n",
        "    # projection\n",
        "    # self.resnet_projection_2 = nn.Linear(2048,197)\n",
        "    self.resnet_projection_2 = nn.Linear(2048,197)\n",
        "    self.resnet_projection_3 = nn.Linear(49,768)\n",
        "    \n",
        "    # Dropout\n",
        "    self.dropout = nn.Dropout(p=0.2)\n",
        "\n",
        "    self.swintransformer_projection_1 = nn.Linear(49,197)\n",
        "    self.final_projection = nn.Linear(197,1)\n",
        "    self.voting = nn.Linear(3,1)\n",
        "\n",
        "  def forward(self,img,text):\n",
        "    batch_size = img.size(0)\n",
        "    #text_features\n",
        "    text_embedding = self.text_embedding(text) # torch.Size([16, 197, 1024])\n",
        "\n",
        "    #image_features\n",
        "    image_features_0 = self.vit_encoder(img).last_hidden_state #torch.Size([16, 197, 768])\n",
        "    image_features_1 = self.resnet_encoder(img).last_hidden_state #torch.Size([16, 512, 7, 7])\n",
        "    image_features_2 = self.swintransformer_encoder(img).last_hidden_state #torch.Size([16, 49, 768])\n",
        "    dim = image_features_1.size(1)\n",
        "    #projection_1\n",
        "    image_features_1 = image_features_1.reshape(batch_size, dim,-1) #torch.Size([16, 512, 49])\n",
        "    image_features_1 = image_features_1.permute(0,2,1) #torch.Size([16, 49, 512])\n",
        "    image_features_1 = self.resnet_projection_2(image_features_1) #torch.Size([16, 49, 197])\n",
        "    image_features_1 = self.layernorm_197(image_features_1)\n",
        "    image_features_1 = image_features_1.permute(0,2,1) #torch.Size([16, 197, 49])\n",
        "    image_features_1 = self.resnet_projection_3(image_features_1) #torch.Size([16, 197, 768])\n",
        "    image_features_1 = self.layernorm_768(image_features_1)\n",
        "    # image_features_1 = self.dropout(image_features_1)\n",
        "    #projection_2\n",
        "    image_features_2 = image_features_2.permute(0,2,1) #torch.Size([16, 768, 49])\n",
        "    image_features_2 = self.swintransformer_projection_1(image_features_2) #torch.Size([16, 768, 197])\n",
        "    image_features_2 = self.layernorm_197(image_features_2)\n",
        "    image_features_2 = image_features_2.permute(0,2,1) #torch.Size([16, 197, 768])\n",
        "\n",
        "    final_features_0 = self.layernorm_768(self.linear(torch.cat([image_features_0.unsqueeze(-1) , text_embedding.unsqueeze(-1)], dim =-1)).squeeze(-1) + text_embedding)\n",
        "    final_features_1 = self.layernorm_768(self.linear(torch.cat([image_features_1.unsqueeze(-1) , text_embedding.unsqueeze(-1)], dim =-1)).squeeze(-1) + text_embedding)\n",
        "    final_features_2 = self.layernorm_768(self.linear(torch.cat([image_features_2.unsqueeze(-1) , text_embedding.unsqueeze(-1)], dim =-1)).squeeze(-1) + text_embedding)\n",
        "\n",
        "    final_features_0 = self.pooling_layer(self.text_encoder(final_features_0).last_hidden_state)\n",
        "    final_features_1 = self.pooling_layer(self.text_encoder(final_features_1).last_hidden_state)\n",
        "    final_features_2 = self.pooling_layer(self.text_encoder(final_features_2).last_hidden_state)\n",
        "\n",
        "\n",
        "    image_features_0 = self.final_projection(image_features_0.permute(0,2,1)).squeeze(-1)\n",
        "    image_features_1 = self.final_projection(image_features_1.permute(0,2,1)).squeeze(-1)\n",
        "    image_features_2 = self.final_projection(image_features_2.permute(0,2,1)).squeeze(-1)\n",
        "\n",
        "    logits_0 = F.cosine_similarity(final_features_0,image_features_0, dim =-1)\n",
        "    logits_1 = F.cosine_similarity(final_features_1,image_features_1, dim =-1)\n",
        "    logits_2 = F.cosine_similarity(final_features_2,image_features_2, dim =-1)\n",
        "    logits = self.voting(torch.cat([logits_0.unsqueeze(-1), logits_1.unsqueeze(-1), logits_2.unsqueeze(-1)], dim =-1)).squeeze(-1)\n",
        "    return logits"
      ]
    },
    {
      "cell_type": "markdown",
      "metadata": {
        "id": "kBI7WF8vKjYU"
      },
      "source": [
        "## Train"
      ]
    },
    {
      "cell_type": "code",
      "execution_count": 9,
      "metadata": {
        "id": "qYQ85F2SK1vS"
      },
      "outputs": [],
      "source": [
        "# dataset_train = Dataset_MMM(train_file_path, train_img_dir,image_processor,tokenizer,is_url=is_url)\n",
        "# dataloader_train = DataLoader(dataset_train,batch_size=20,drop_last=True, shuffle=True)\n",
        "# len(dataset_train)"
      ]
    },
    {
      "cell_type": "code",
      "execution_count": 10,
      "metadata": {
        "colab": {
          "base_uri": "https://localhost:8080/",
          "height": 425
        },
        "id": "mPLus8A8KhY3",
        "outputId": "fb3a2e3c-3525-4b59-abc5-5651aae302b9"
      },
      "outputs": [],
      "source": [
        "def train(train_loader, model,device, epochs=10, total_iterations_limit=None, optimizer=None, cur_epoch=0, best_valid_loss=10000):\n",
        "    # model = model.to(device)\n",
        "    # optimizer = torch.optim.Adam(model.parameters(), lr=0.001)\n",
        "    history = {\"loss\": [],\n",
        "                \"acc\": []}\n",
        "    \n",
        "\n",
        "    total_iterations = 0\n",
        "    loss_fn = FocalLoss(gamma=2, weights=torch.tensor(0.3))\n",
        "    for epoch in range(cur_epoch + 1, epochs):\n",
        "        model.train()\n",
        "        avg_acc = 0\n",
        "        acc_sum = 0\n",
        "        avg_loss = 0\n",
        "        loss_sum = 0\n",
        "        num_iterations = 0\n",
        "        pred_list = []\n",
        "        target_list = []\n",
        "\n",
        "        data_iterator = tqdm(train_loader, desc=f'Epoch {epoch}')\n",
        "        if total_iterations_limit is not None:\n",
        "            data_iterator.total = total_iterations_limit\n",
        "        for data in data_iterator:\n",
        "            num_iterations += 1\n",
        "            total_iterations += 1\n",
        "            img = torch.squeeze(data[0]['pixel_values'],1)\n",
        "            text = torch.squeeze(data[1]['input_ids'],1)\n",
        "            target = torch.squeeze(data[2])\n",
        "            # print(text.shape)\n",
        "            img = img.to(device)\n",
        "            text = text.to(device)\n",
        "            target = target.to(device).to(torch.int64)\n",
        "            optimizer.zero_grad()\n",
        "            \n",
        "            logits = model(img,text)\n",
        "            loss = loss_fn(torch.sigmoid(logits), target)\n",
        "            loss_sum += loss.item()\n",
        "\n",
        "            pred = torch.round(torch.sigmoid(logits.detach()))\n",
        "            correct_pred = (target == pred).float()\n",
        "            acc_sum += (correct_pred.sum() / len(correct_pred)).cpu().item()\n",
        "            \n",
        "\n",
        "            pred_list.extend(pred.cpu().numpy())\n",
        "            target_list.extend(target.cpu().numpy())\n",
        "\n",
        "\n",
        "            data_iterator.set_postfix(loss=loss_sum / num_iterations)\n",
        "            loss.backward()\n",
        "            optimizer.step()\n",
        "\n",
        "            if total_iterations_limit is not None and total_iterations >= total_iterations_limit:\n",
        "                return\n",
        "\n",
        "        avg_loss = loss_sum / num_iterations\n",
        "        avg_acc = acc_sum / num_iterations\n",
        "\n",
        "        if avg_loss < best_valid_loss:\n",
        "            best_valid_loss = avg_loss\n",
        "            save_checkpoint(checkpoint_directory, epoch, model, optimizer, avg_loss)\n",
        "            save_report(pred_list=pred_list, target_list=target_list, report_path= os.path.join(report_path, str(epoch) + '.txt'))\n",
        "        history['loss'].append(avg_loss)\n",
        "        history['acc'].append(avg_acc)\n",
        "        print(\"Accuracy: \"+str(avg_acc))\n",
        "        if early_stopper.early_stop(avg_loss):\n",
        "                print(\"Early stop at epoch: \"+str(epoch) + \" with valid loss: \"+str(avg_loss))\n",
        "                break\n",
        "    return history\n",
        "\n",
        "def predict(model,device,dataloader,image_processor):\n",
        "  list = []\n",
        "  model.eval()\n",
        "\n",
        "  data_iterator = tqdm(dataloader, desc=f'Evaluate')\n",
        "  with torch.no_grad():\n",
        "    for data in data_iterator:\n",
        "      img = torch.squeeze(data[0]['pixel_values'],1)\n",
        "      text = torch.squeeze(data[1]['input_ids'],1)\n",
        "      target = torch.squeeze(data[2])\n",
        "      # print(text.shape)\n",
        "      img = img.to(device)\n",
        "      text = text.to(device)\n",
        "      target = target.to(device).to(torch.int64)\n",
        "      \n",
        "      logits = model(img,text)\n",
        "\n",
        "      print(\"logits\"+str(torch.sigmoid(logits)))\n",
        "      pred = torch.round(torch.sigmoid(logits)).detach().cpu().numpy()\n",
        "      list.extend(pred)\n",
        "  return list"
      ]
    },
    {
      "cell_type": "code",
      "execution_count": 11,
      "metadata": {},
      "outputs": [
        {
          "name": "stdout",
          "output_type": "stream",
          "text": [
            "/home/server-ailab-12gb/DUC-MMM/data/Musti/train/img\n",
            "Len: 2374\n"
          ]
        }
      ],
      "source": [
        "dataset_train = Dataset_MMM(train_file_path, train_img_dir,image_processor,tokenizer)\n",
        "dataloader_train = DataLoader(dataset_train,batch_size=20,drop_last=True, shuffle=True)"
      ]
    },
    {
      "cell_type": "code",
      "execution_count": 12,
      "metadata": {},
      "outputs": [
        {
          "name": "stderr",
          "output_type": "stream",
          "text": [
            "Epoch 1: 100%|██████████| 118/118 [01:51<00:00,  1.06it/s, loss=0.144]\n"
          ]
        },
        {
          "name": "stdout",
          "output_type": "stream",
          "text": [
            "path: /home/server-ailab-12gb/DUC-MMM/checkpoint/T_W_nondropout_FOCAL_2_03_train_VIT_BERT/1.pt\n",
            "Accuracy: 0.7326271287718061\n"
          ]
        },
        {
          "name": "stderr",
          "output_type": "stream",
          "text": [
            "Epoch 2: 100%|██████████| 118/118 [01:52<00:00,  1.05it/s, loss=0.13] \n"
          ]
        },
        {
          "name": "stdout",
          "output_type": "stream",
          "text": [
            "path: /home/server-ailab-12gb/DUC-MMM/checkpoint/T_W_nondropout_FOCAL_2_03_train_VIT_BERT/2.pt\n",
            "Accuracy: 0.7601695035473776\n"
          ]
        },
        {
          "name": "stderr",
          "output_type": "stream",
          "text": [
            "Epoch 3: 100%|██████████| 118/118 [01:52<00:00,  1.04it/s, loss=0.122]\n"
          ]
        },
        {
          "name": "stdout",
          "output_type": "stream",
          "text": [
            "path: /home/server-ailab-12gb/DUC-MMM/checkpoint/T_W_nondropout_FOCAL_2_03_train_VIT_BERT/3.pt\n",
            "Accuracy: 0.7872881454936529\n"
          ]
        },
        {
          "name": "stderr",
          "output_type": "stream",
          "text": [
            "Epoch 4: 100%|██████████| 118/118 [01:47<00:00,  1.10it/s, loss=0.114]\n"
          ]
        },
        {
          "name": "stdout",
          "output_type": "stream",
          "text": [
            "path: /home/server-ailab-12gb/DUC-MMM/checkpoint/T_W_nondropout_FOCAL_2_03_train_VIT_BERT/4.pt\n",
            "Accuracy: 0.7927966228986191\n"
          ]
        },
        {
          "name": "stderr",
          "output_type": "stream",
          "text": [
            "Epoch 5: 100%|██████████| 118/118 [01:45<00:00,  1.12it/s, loss=0.108]\n"
          ]
        },
        {
          "name": "stdout",
          "output_type": "stream",
          "text": [
            "path: /home/server-ailab-12gb/DUC-MMM/checkpoint/T_W_nondropout_FOCAL_2_03_train_VIT_BERT/5.pt\n",
            "Accuracy: 0.8093220495571525\n"
          ]
        },
        {
          "name": "stderr",
          "output_type": "stream",
          "text": [
            "Epoch 6: 100%|██████████| 118/118 [01:51<00:00,  1.06it/s, loss=0.108]\n"
          ]
        },
        {
          "name": "stdout",
          "output_type": "stream",
          "text": [
            "path: /home/server-ailab-12gb/DUC-MMM/checkpoint/T_W_nondropout_FOCAL_2_03_train_VIT_BERT/6.pt\n",
            "Accuracy: 0.7961864501742993\n"
          ]
        },
        {
          "name": "stderr",
          "output_type": "stream",
          "text": [
            "Epoch 7: 100%|██████████| 118/118 [01:51<00:00,  1.05it/s, loss=0.107]\n"
          ]
        },
        {
          "name": "stdout",
          "output_type": "stream",
          "text": [
            "path: /home/server-ailab-12gb/DUC-MMM/checkpoint/T_W_nondropout_FOCAL_2_03_train_VIT_BERT/7.pt\n",
            "Accuracy: 0.8088983186220718\n"
          ]
        },
        {
          "name": "stderr",
          "output_type": "stream",
          "text": [
            "Epoch 8: 100%|██████████| 118/118 [01:49<00:00,  1.08it/s, loss=0.102]\n"
          ]
        },
        {
          "name": "stdout",
          "output_type": "stream",
          "text": [
            "path: /home/server-ailab-12gb/DUC-MMM/checkpoint/T_W_nondropout_FOCAL_2_03_train_VIT_BERT/8.pt\n",
            "Accuracy: 0.8093220490520283\n"
          ]
        },
        {
          "name": "stderr",
          "output_type": "stream",
          "text": [
            "Epoch 9: 100%|██████████| 118/118 [01:44<00:00,  1.13it/s, loss=0.096] \n"
          ]
        },
        {
          "name": "stdout",
          "output_type": "stream",
          "text": [
            "path: /home/server-ailab-12gb/DUC-MMM/checkpoint/T_W_nondropout_FOCAL_2_03_train_VIT_BERT/9.pt\n",
            "Accuracy: 0.8216101815134792\n"
          ]
        },
        {
          "name": "stderr",
          "output_type": "stream",
          "text": [
            "Epoch 10: 100%|██████████| 118/118 [01:44<00:00,  1.13it/s, loss=0.0953]\n"
          ]
        },
        {
          "name": "stdout",
          "output_type": "stream",
          "text": [
            "path: /home/server-ailab-12gb/DUC-MMM/checkpoint/T_W_nondropout_FOCAL_2_03_train_VIT_BERT/10.pt\n",
            "Accuracy: 0.8254237432601088\n"
          ]
        },
        {
          "name": "stderr",
          "output_type": "stream",
          "text": [
            "Epoch 11: 100%|██████████| 118/118 [01:44<00:00,  1.13it/s, loss=0.091] \n"
          ]
        },
        {
          "name": "stdout",
          "output_type": "stream",
          "text": [
            "path: /home/server-ailab-12gb/DUC-MMM/checkpoint/T_W_nondropout_FOCAL_2_03_train_VIT_BERT/11.pt\n",
            "Accuracy: 0.833474590111587\n"
          ]
        },
        {
          "name": "stderr",
          "output_type": "stream",
          "text": [
            "Epoch 12: 100%|██████████| 118/118 [01:44<00:00,  1.13it/s, loss=0.0894]\n"
          ]
        },
        {
          "name": "stdout",
          "output_type": "stream",
          "text": [
            "path: /home/server-ailab-12gb/DUC-MMM/checkpoint/T_W_nondropout_FOCAL_2_03_train_VIT_BERT/12.pt\n",
            "Accuracy: 0.8309322186445786\n"
          ]
        },
        {
          "name": "stderr",
          "output_type": "stream",
          "text": [
            "Epoch 13: 100%|██████████| 118/118 [01:44<00:00,  1.13it/s, loss=0.0875]\n"
          ]
        },
        {
          "name": "stdout",
          "output_type": "stream",
          "text": [
            "path: /home/server-ailab-12gb/DUC-MMM/checkpoint/T_W_nondropout_FOCAL_2_03_train_VIT_BERT/13.pt\n",
            "Accuracy: 0.8368644209231361\n"
          ]
        },
        {
          "name": "stderr",
          "output_type": "stream",
          "text": [
            "Epoch 14: 100%|██████████| 118/118 [01:44<00:00,  1.13it/s, loss=0.0868]\n"
          ]
        },
        {
          "name": "stdout",
          "output_type": "stream",
          "text": [
            "path: /home/server-ailab-12gb/DUC-MMM/checkpoint/T_W_nondropout_FOCAL_2_03_train_VIT_BERT/14.pt\n",
            "Accuracy: 0.8368644214282601\n"
          ]
        },
        {
          "name": "stderr",
          "output_type": "stream",
          "text": [
            "Epoch 15: 100%|██████████| 118/118 [01:44<00:00,  1.13it/s, loss=0.0845]\n"
          ]
        },
        {
          "name": "stdout",
          "output_type": "stream",
          "text": [
            "path: /home/server-ailab-12gb/DUC-MMM/checkpoint/T_W_nondropout_FOCAL_2_03_train_VIT_BERT/15.pt\n",
            "Accuracy: 0.8385593411275896\n"
          ]
        },
        {
          "name": "stderr",
          "output_type": "stream",
          "text": [
            "Epoch 16: 100%|██████████| 118/118 [01:45<00:00,  1.12it/s, loss=0.0837]\n"
          ]
        },
        {
          "name": "stdout",
          "output_type": "stream",
          "text": [
            "path: /home/server-ailab-12gb/DUC-MMM/checkpoint/T_W_nondropout_FOCAL_2_03_train_VIT_BERT/16.pt\n",
            "Accuracy: 0.8389830665063049\n"
          ]
        },
        {
          "name": "stderr",
          "output_type": "stream",
          "text": [
            "Epoch 17: 100%|██████████| 118/118 [01:44<00:00,  1.13it/s, loss=0.0822]\n"
          ]
        },
        {
          "name": "stdout",
          "output_type": "stream",
          "text": [
            "path: /home/server-ailab-12gb/DUC-MMM/checkpoint/T_W_nondropout_FOCAL_2_03_train_VIT_BERT/17.pt\n",
            "Accuracy: 0.8470339156308416\n"
          ]
        },
        {
          "name": "stderr",
          "output_type": "stream",
          "text": [
            "Epoch 18: 100%|██████████| 118/118 [01:44<00:00,  1.13it/s, loss=0.0811]\n"
          ]
        },
        {
          "name": "stdout",
          "output_type": "stream",
          "text": [
            "path: /home/server-ailab-12gb/DUC-MMM/checkpoint/T_W_nondropout_FOCAL_2_03_train_VIT_BERT/18.pt\n",
            "Accuracy: 0.8500000162649963\n"
          ]
        },
        {
          "name": "stderr",
          "output_type": "stream",
          "text": [
            "Epoch 19: 100%|██████████| 118/118 [01:44<00:00,  1.13it/s, loss=0.0826]\n"
          ]
        },
        {
          "name": "stdout",
          "output_type": "stream",
          "text": [
            "Accuracy: 0.8394067939055168\n"
          ]
        },
        {
          "name": "stderr",
          "output_type": "stream",
          "text": [
            "Epoch 20: 100%|██████████| 118/118 [01:44<00:00,  1.13it/s, loss=0.0819]\n"
          ]
        },
        {
          "name": "stdout",
          "output_type": "stream",
          "text": [
            "Accuracy: 0.8411017105741015\n"
          ]
        },
        {
          "name": "stderr",
          "output_type": "stream",
          "text": [
            "Epoch 21: 100%|██████████| 118/118 [01:44<00:00,  1.13it/s, loss=0.0842]\n"
          ]
        },
        {
          "name": "stdout",
          "output_type": "stream",
          "text": [
            "Accuracy: 0.8377118797625526\n"
          ]
        },
        {
          "name": "stderr",
          "output_type": "stream",
          "text": [
            "Epoch 22: 100%|██████████| 118/118 [01:44<00:00,  1.13it/s, loss=0.0882]\n"
          ]
        },
        {
          "name": "stdout",
          "output_type": "stream",
          "text": [
            "Accuracy: 0.8300847633410309\n"
          ]
        },
        {
          "name": "stderr",
          "output_type": "stream",
          "text": [
            "Epoch 23: 100%|██████████| 118/118 [01:44<00:00,  1.13it/s, loss=0.0864]\n"
          ]
        },
        {
          "name": "stdout",
          "output_type": "stream",
          "text": [
            "Accuracy: 0.8372881508479684\n",
            "Early stop at epoch: 23 with valid loss: 0.08644674266925302\n"
          ]
        },
        {
          "ename": "FileNotFoundError",
          "evalue": "[Errno 2] No such file or directory: '/home/server-ailab-12gb/DUC-MMM/history_save/T_W_nondropout_FOCAL_2_03_train_VIT_BERT.json'",
          "output_type": "error",
          "traceback": [
            "\u001b[0;31m---------------------------------------------------------------------------\u001b[0m",
            "\u001b[0;31mFileNotFoundError\u001b[0m                         Traceback (most recent call last)",
            "\u001b[1;32m/home/server-ailab-12gb/DUC-MMM/Propose_model_esemble_focal_AIVN_server.ipynb Cell 18\u001b[0m line \u001b[0;36m1\n\u001b[1;32m      <a href='vscode-notebook-cell:/home/server-ailab-12gb/DUC-MMM/Propose_model_esemble_focal_AIVN_server.ipynb#X23sZmlsZQ%3D%3D?line=8'>9</a>\u001b[0m     epoch, model, optimizer, loss \u001b[39m=\u001b[39m load_checkpoint(PATH, model, optimizer)\n\u001b[1;32m     <a href='vscode-notebook-cell:/home/server-ailab-12gb/DUC-MMM/Propose_model_esemble_focal_AIVN_server.ipynb#X23sZmlsZQ%3D%3D?line=10'>11</a>\u001b[0m history_losses \u001b[39m=\u001b[39m train(dataloader_train,model,device ,epochs\u001b[39m=\u001b[39m\u001b[39m100\u001b[39m, optimizer\u001b[39m=\u001b[39moptimizer, cur_epoch\u001b[39m=\u001b[39mepoch, best_valid_loss\u001b[39m=\u001b[39mloss)\n\u001b[0;32m---> <a href='vscode-notebook-cell:/home/server-ailab-12gb/DUC-MMM/Propose_model_esemble_focal_AIVN_server.ipynb#X23sZmlsZQ%3D%3D?line=11'>12</a>\u001b[0m write_json(history_losses, parient_dir\u001b[39m=\u001b[39;49mhistory_save_folder, name\u001b[39m=\u001b[39;49mversion)\n",
            "\u001b[1;32m/home/server-ailab-12gb/DUC-MMM/Propose_model_esemble_focal_AIVN_server.ipynb Cell 18\u001b[0m line \u001b[0;36m5\n\u001b[1;32m     <a href='vscode-notebook-cell:/home/server-ailab-12gb/DUC-MMM/Propose_model_esemble_focal_AIVN_server.ipynb#X23sZmlsZQ%3D%3D?line=48'>49</a>\u001b[0m     path \u001b[39m=\u001b[39m parient_dir\n\u001b[1;32m     <a href='vscode-notebook-cell:/home/server-ailab-12gb/DUC-MMM/Propose_model_esemble_focal_AIVN_server.ipynb#X23sZmlsZQ%3D%3D?line=49'>50</a>\u001b[0m \u001b[39m# Writing to sample.json\u001b[39;00m\n\u001b[0;32m---> <a href='vscode-notebook-cell:/home/server-ailab-12gb/DUC-MMM/Propose_model_esemble_focal_AIVN_server.ipynb#X23sZmlsZQ%3D%3D?line=50'>51</a>\u001b[0m \u001b[39mwith\u001b[39;00m \u001b[39mopen\u001b[39;49m(path, \u001b[39m\"\u001b[39;49m\u001b[39mw\u001b[39;49m\u001b[39m\"\u001b[39;49m) \u001b[39mas\u001b[39;00m outfile:\n\u001b[1;32m     <a href='vscode-notebook-cell:/home/server-ailab-12gb/DUC-MMM/Propose_model_esemble_focal_AIVN_server.ipynb#X23sZmlsZQ%3D%3D?line=51'>52</a>\u001b[0m     outfile\u001b[39m.\u001b[39mwrite(json_object)\n",
            "File \u001b[0;32m~/miniconda3/envs/Khoa_env/lib/python3.10/site-packages/IPython/core/interactiveshell.py:286\u001b[0m, in \u001b[0;36m_modified_open\u001b[0;34m(file, *args, **kwargs)\u001b[0m\n\u001b[1;32m    279\u001b[0m \u001b[39mif\u001b[39;00m file \u001b[39min\u001b[39;00m {\u001b[39m0\u001b[39m, \u001b[39m1\u001b[39m, \u001b[39m2\u001b[39m}:\n\u001b[1;32m    280\u001b[0m     \u001b[39mraise\u001b[39;00m \u001b[39mValueError\u001b[39;00m(\n\u001b[1;32m    281\u001b[0m         \u001b[39mf\u001b[39m\u001b[39m\"\u001b[39m\u001b[39mIPython won\u001b[39m\u001b[39m'\u001b[39m\u001b[39mt let you open fd=\u001b[39m\u001b[39m{\u001b[39;00mfile\u001b[39m}\u001b[39;00m\u001b[39m by default \u001b[39m\u001b[39m\"\u001b[39m\n\u001b[1;32m    282\u001b[0m         \u001b[39m\"\u001b[39m\u001b[39mas it is likely to crash IPython. If you know what you are doing, \u001b[39m\u001b[39m\"\u001b[39m\n\u001b[1;32m    283\u001b[0m         \u001b[39m\"\u001b[39m\u001b[39myou can use builtins\u001b[39m\u001b[39m'\u001b[39m\u001b[39m open.\u001b[39m\u001b[39m\"\u001b[39m\n\u001b[1;32m    284\u001b[0m     )\n\u001b[0;32m--> 286\u001b[0m \u001b[39mreturn\u001b[39;00m io_open(file, \u001b[39m*\u001b[39;49margs, \u001b[39m*\u001b[39;49m\u001b[39m*\u001b[39;49mkwargs)\n",
            "\u001b[0;31mFileNotFoundError\u001b[0m: [Errno 2] No such file or directory: '/home/server-ailab-12gb/DUC-MMM/history_save/T_W_nondropout_FOCAL_2_03_train_VIT_BERT.json'"
          ]
        }
      ],
      "source": [
        "img_encoder =[vit_encoder,resnet_encoder,swintransformer]\n",
        "model = CrossModel(img_encoder,encoder_layer,text_embedding, pooling_layer)\n",
        "model = model.to(device)\n",
        "optimizer = torch.optim.Adam(model.parameters(), lr=lr)\n",
        "\n",
        "if len(train_index_checkpoint) > 0:\n",
        "    PATH = os.path.join(checkpoint_directory, train_index_checkpoint + CHECKPOINT_EXTENSION)\n",
        "    print(\"Load checkpoint: \"+str(PATH))\n",
        "    epoch, model, optimizer, loss = load_checkpoint(PATH, model, optimizer)\n",
        "\n",
        "history_losses = train(dataloader_train,model,device ,epochs=100, optimizer=optimizer, cur_epoch=epoch, best_valid_loss=loss)\n",
        "write_json(history_losses, parient_dir=history_save_folder, name=version)"
      ]
    },
    {
      "cell_type": "code",
      "execution_count": 13,
      "metadata": {},
      "outputs": [
        {
          "name": "stdout",
          "output_type": "stream",
          "text": [
            "/home/server-ailab-12gb/DUC-MMM/data/Musti/test/img\n",
            "Len: 814\n"
          ]
        }
      ],
      "source": [
        "dataset_test = Dataset_MMM(test_file_path, test_img_dir,image_processor,tokenizer)\n",
        "dataloader_test = DataLoader(dataset_test,batch_size=16,drop_last=False, shuffle=False)"
      ]
    },
    {
      "cell_type": "code",
      "execution_count": 14,
      "metadata": {},
      "outputs": [
        {
          "name": "stderr",
          "output_type": "stream",
          "text": [
            "Evaluate:   2%|▏         | 1/51 [00:00<00:17,  2.78it/s]"
          ]
        },
        {
          "name": "stdout",
          "output_type": "stream",
          "text": [
            "logitstensor([0.1730, 0.1602, 0.4063, 0.4766, 0.1863, 0.2823, 0.1747, 0.1730, 0.1722,\n",
            "        0.1722, 0.5204, 0.4470, 0.1578, 0.3973, 0.1710, 0.5559],\n",
            "       device='cuda:0')\n"
          ]
        },
        {
          "name": "stderr",
          "output_type": "stream",
          "text": [
            "Evaluate:   4%|▍         | 2/51 [00:00<00:16,  2.95it/s]"
          ]
        },
        {
          "name": "stdout",
          "output_type": "stream",
          "text": [
            "logitstensor([0.6488, 0.1602, 0.1649, 0.4880, 0.3651, 0.1724, 0.5466, 0.1609, 0.1806,\n",
            "        0.1610, 0.1610, 0.6052, 0.5515, 0.1722, 0.5559, 0.1793],\n",
            "       device='cuda:0')\n"
          ]
        },
        {
          "name": "stderr",
          "output_type": "stream",
          "text": [
            "Evaluate:   6%|▌         | 3/51 [00:01<00:15,  3.00it/s]"
          ]
        },
        {
          "name": "stdout",
          "output_type": "stream",
          "text": [
            "logitstensor([0.1722, 0.4512, 0.3224, 0.5742, 0.5186, 0.1751, 0.3857, 0.6581, 0.6629,\n",
            "        0.5058, 0.1662, 0.4366, 0.1781, 0.6630, 0.1657, 0.6630],\n",
            "       device='cuda:0')\n"
          ]
        },
        {
          "name": "stderr",
          "output_type": "stream",
          "text": [
            "Evaluate:   8%|▊         | 4/51 [00:01<00:15,  3.00it/s]"
          ]
        },
        {
          "name": "stdout",
          "output_type": "stream",
          "text": [
            "logitstensor([0.5579, 0.2617, 0.5146, 0.1641, 0.5579, 0.2022, 0.1662, 0.2617, 0.4176,\n",
            "        0.1720, 0.4195, 0.1781, 0.6421, 0.4754, 0.2075, 0.1610],\n",
            "       device='cuda:0')\n"
          ]
        },
        {
          "name": "stderr",
          "output_type": "stream",
          "text": [
            "Evaluate:  10%|▉         | 5/51 [00:01<00:15,  3.06it/s]"
          ]
        },
        {
          "name": "stdout",
          "output_type": "stream",
          "text": [
            "logitstensor([0.1602, 0.4960, 0.2075, 0.6052, 0.2617, 0.1781, 0.1610, 0.1917, 0.1795,\n",
            "        0.5086, 0.2047, 0.5226, 0.1652, 0.4470, 0.3763, 0.1704],\n",
            "       device='cuda:0')\n"
          ]
        },
        {
          "name": "stderr",
          "output_type": "stream",
          "text": [
            "Evaluate:  12%|█▏        | 6/51 [00:01<00:14,  3.05it/s]"
          ]
        },
        {
          "name": "stdout",
          "output_type": "stream",
          "text": [
            "logitstensor([0.4487, 0.6284, 0.6230, 0.4487, 0.5204, 0.1616, 0.1893, 0.1720, 0.5050,\n",
            "        0.1662, 0.3934, 0.5466, 0.4886, 0.1863, 0.6254, 0.3847],\n",
            "       device='cuda:0')\n"
          ]
        },
        {
          "name": "stderr",
          "output_type": "stream",
          "text": [
            "Evaluate:  14%|█▎        | 7/51 [00:02<00:14,  3.05it/s]"
          ]
        },
        {
          "name": "stdout",
          "output_type": "stream",
          "text": [
            "logitstensor([0.1573, 0.5559, 0.1645, 0.2617, 0.1924, 0.4826, 0.1748, 0.1893, 0.3628,\n",
            "        0.4073, 0.2715, 0.1711, 0.1728, 0.1722, 0.1661, 0.6311],\n",
            "       device='cuda:0')\n"
          ]
        },
        {
          "name": "stderr",
          "output_type": "stream",
          "text": [
            "Evaluate:  16%|█▌        | 8/51 [00:02<00:13,  3.09it/s]"
          ]
        },
        {
          "name": "stdout",
          "output_type": "stream",
          "text": [
            "logitstensor([0.1796, 0.1641, 0.1706, 0.5255, 0.1617, 0.1641, 0.2047, 0.1749, 0.5606,\n",
            "        0.4964, 0.1579, 0.4855, 0.5374, 0.1748, 0.1662, 0.1863],\n",
            "       device='cuda:0')\n"
          ]
        },
        {
          "name": "stderr",
          "output_type": "stream",
          "text": [
            "Evaluate:  18%|█▊        | 9/51 [00:02<00:13,  3.09it/s]"
          ]
        },
        {
          "name": "stdout",
          "output_type": "stream",
          "text": [
            "logitstensor([0.5721, 0.1673, 0.4524, 0.1645, 0.3651, 0.5255, 0.1610, 0.5945, 0.5146,\n",
            "        0.1720, 0.3934, 0.6311, 0.5805, 0.3417, 0.5338, 0.1683],\n",
            "       device='cuda:0')\n"
          ]
        },
        {
          "name": "stderr",
          "output_type": "stream",
          "text": [
            "Evaluate:  20%|█▉        | 10/51 [00:03<00:13,  2.95it/s]"
          ]
        },
        {
          "name": "stdout",
          "output_type": "stream",
          "text": [
            "logitstensor([0.2709, 0.1744, 0.5891, 0.1610, 0.6521, 0.1839, 0.1964, 0.1654, 0.4964,\n",
            "        0.1666, 0.1673, 0.1704, 0.1795, 0.1697, 0.3628, 0.5805],\n",
            "       device='cuda:0')\n"
          ]
        },
        {
          "name": "stderr",
          "output_type": "stream",
          "text": [
            "Evaluate:  22%|██▏       | 11/51 [00:03<00:13,  3.02it/s]"
          ]
        },
        {
          "name": "stdout",
          "output_type": "stream",
          "text": [
            "logitstensor([0.4290, 0.6513, 0.1796, 0.5805, 0.1616, 0.5883, 0.1573, 0.6284, 0.1612,\n",
            "        0.1795, 0.1874, 0.4093, 0.4628, 0.1628, 0.4377, 0.5898],\n",
            "       device='cuda:0')\n"
          ]
        },
        {
          "name": "stderr",
          "output_type": "stream",
          "text": [
            "Evaluate:  24%|██▎       | 12/51 [00:03<00:13,  2.99it/s]"
          ]
        },
        {
          "name": "stdout",
          "output_type": "stream",
          "text": [
            "logitstensor([0.4195, 0.6650, 0.5058, 0.6284, 0.6521, 0.6412, 0.2772, 0.1612, 0.4963,\n",
            "        0.6551, 0.4706, 0.4589, 0.1646, 0.4524, 0.3847, 0.1662],\n",
            "       device='cuda:0')\n"
          ]
        },
        {
          "name": "stderr",
          "output_type": "stream",
          "text": [
            "Evaluate:  25%|██▌       | 13/51 [00:04<00:13,  2.90it/s]"
          ]
        },
        {
          "name": "stdout",
          "output_type": "stream",
          "text": [
            "logitstensor([0.6551, 0.1727, 0.2022, 0.1611, 0.1646, 0.5898, 0.4176, 0.5515, 0.5147,\n",
            "        0.2014, 0.1696, 0.1833, 0.1771, 0.1858, 0.4392, 0.1851],\n",
            "       device='cuda:0')\n"
          ]
        },
        {
          "name": "stderr",
          "output_type": "stream",
          "text": [
            "Evaluate:  27%|██▋       | 14/51 [00:04<00:12,  2.93it/s]"
          ]
        },
        {
          "name": "stdout",
          "output_type": "stream",
          "text": [
            "logitstensor([0.2571, 0.1671, 0.2183, 0.1658, 0.3864, 0.1702, 0.1626, 0.1640, 0.5076,\n",
            "        0.2208, 0.1709, 0.2208, 0.2823, 0.1728, 0.2571, 0.1609],\n",
            "       device='cuda:0')\n"
          ]
        },
        {
          "name": "stderr",
          "output_type": "stream",
          "text": [
            "Evaluate:  29%|██▉       | 15/51 [00:05<00:12,  2.98it/s]"
          ]
        },
        {
          "name": "stdout",
          "output_type": "stream",
          "text": [
            "logitstensor([0.2067, 0.1803, 0.2772, 0.1696, 0.1855, 0.4880, 0.1579, 0.1663, 0.6322,\n",
            "        0.4880, 0.4656, 0.2506, 0.5147, 0.5395, 0.3763, 0.4392],\n",
            "       device='cuda:0')\n"
          ]
        },
        {
          "name": "stderr",
          "output_type": "stream",
          "text": [
            "Evaluate:  31%|███▏      | 16/51 [00:05<00:11,  2.93it/s]"
          ]
        },
        {
          "name": "stdout",
          "output_type": "stream",
          "text": [
            "logitstensor([0.1627, 0.1923, 0.4230, 0.1631, 0.6561, 0.3973, 0.4262, 0.6402, 0.4022,\n",
            "        0.1611, 0.2047, 0.1662, 0.5481, 0.3763, 0.2802, 0.1572],\n",
            "       device='cuda:0')\n"
          ]
        },
        {
          "name": "stderr",
          "output_type": "stream",
          "text": [
            "Evaluate:  33%|███▎      | 17/51 [00:05<00:11,  2.99it/s]"
          ]
        },
        {
          "name": "stdout",
          "output_type": "stream",
          "text": [
            "logitstensor([0.4290, 0.1645, 0.2014, 0.4392, 0.4524, 0.1921, 0.4073, 0.1965, 0.6380,\n",
            "        0.3628, 0.3357, 0.2571, 0.1663, 0.5387, 0.5147, 0.6610],\n",
            "       device='cuda:0')\n"
          ]
        },
        {
          "name": "stderr",
          "output_type": "stream",
          "text": [
            "Evaluate:  35%|███▌      | 18/51 [00:06<00:10,  3.02it/s]"
          ]
        },
        {
          "name": "stdout",
          "output_type": "stream",
          "text": [
            "logitstensor([0.1732, 0.4125, 0.1724, 0.3894, 0.6322, 0.1924, 0.4072, 0.2174, 0.5174,\n",
            "        0.1709, 0.5086, 0.5147, 0.4290, 0.1930, 0.1648, 0.5147],\n",
            "       device='cuda:0')\n"
          ]
        },
        {
          "name": "stderr",
          "output_type": "stream",
          "text": [
            "Evaluate:  37%|███▋      | 19/51 [00:06<00:10,  2.98it/s]"
          ]
        },
        {
          "name": "stdout",
          "output_type": "stream",
          "text": [
            "logitstensor([0.1732, 0.5884, 0.2007, 0.1579, 0.1825, 0.6506, 0.1611, 0.5147, 0.4779,\n",
            "        0.1924, 0.1722, 0.6322, 0.2919, 0.1921, 0.1657, 0.4470],\n",
            "       device='cuda:0')\n"
          ]
        },
        {
          "name": "stderr",
          "output_type": "stream",
          "text": [
            "Evaluate:  39%|███▉      | 20/51 [00:06<00:10,  3.02it/s]"
          ]
        },
        {
          "name": "stdout",
          "output_type": "stream",
          "text": [
            "logitstensor([0.2145, 0.4290, 0.4397, 0.6506, 0.1669, 0.1683, 0.2081, 0.4371, 0.6380,\n",
            "        0.1701, 0.3732, 0.2183, 0.5374, 0.4963, 0.6523, 0.2802],\n",
            "       device='cuda:0')\n"
          ]
        },
        {
          "name": "stderr",
          "output_type": "stream",
          "text": [
            "Evaluate:  41%|████      | 21/51 [00:06<00:09,  3.06it/s]"
          ]
        },
        {
          "name": "stdout",
          "output_type": "stream",
          "text": [
            "logitstensor([0.2208, 0.4886, 0.5374, 0.3680, 0.6506, 0.6506, 0.2183, 0.1858, 0.1578,\n",
            "        0.4176, 0.4656, 0.4429, 0.4072, 0.6583, 0.1924, 0.1790],\n",
            "       device='cuda:0')\n"
          ]
        },
        {
          "name": "stderr",
          "output_type": "stream",
          "text": [
            "Evaluate:  43%|████▎     | 22/51 [00:07<00:09,  2.98it/s]"
          ]
        },
        {
          "name": "stdout",
          "output_type": "stream",
          "text": [
            "logitstensor([0.1763, 0.1579, 0.4366, 0.5076, 0.6523, 0.4397, 0.4063, 0.4886, 0.5884,\n",
            "        0.1609, 0.1724, 0.1611, 0.1696, 0.1803, 0.5466, 0.4963],\n",
            "       device='cuda:0')\n"
          ]
        },
        {
          "name": "stderr",
          "output_type": "stream",
          "text": [
            "Evaluate:  45%|████▌     | 23/51 [00:07<00:09,  3.03it/s]"
          ]
        },
        {
          "name": "stdout",
          "output_type": "stream",
          "text": [
            "logitstensor([0.4397, 0.1649, 0.2047, 0.4392, 0.1649, 0.2642, 0.2823, 0.1631, 0.2265,\n",
            "        0.1627, 0.6642, 0.6550, 0.5076, 0.1649, 0.2802, 0.1777],\n",
            "       device='cuda:0')\n"
          ]
        },
        {
          "name": "stderr",
          "output_type": "stream",
          "text": [
            "Evaluate:  47%|████▋     | 24/51 [00:07<00:08,  3.06it/s]"
          ]
        },
        {
          "name": "stdout",
          "output_type": "stream",
          "text": [
            "logitstensor([0.1753, 0.4024, 0.5884, 0.3845, 0.5590, 0.2491, 0.4208, 0.1680, 0.1675,\n",
            "        0.5147, 0.2823, 0.3680, 0.2265, 0.1671, 0.1666, 0.1680],\n",
            "       device='cuda:0')\n"
          ]
        },
        {
          "name": "stderr",
          "output_type": "stream",
          "text": [
            "Evaluate:  49%|████▉     | 25/51 [00:08<00:08,  2.95it/s]"
          ]
        },
        {
          "name": "stdout",
          "output_type": "stream",
          "text": [
            "logitstensor([0.1645, 0.1572, 0.3934, 0.1709, 0.2183, 0.1645, 0.1658, 0.2067, 0.1662,\n",
            "        0.1645, 0.4066, 0.1635, 0.5466, 0.6523, 0.1572, 0.2047],\n",
            "       device='cuda:0')\n"
          ]
        },
        {
          "name": "stderr",
          "output_type": "stream",
          "text": [
            "Evaluate:  51%|█████     | 26/51 [00:08<00:08,  2.96it/s]"
          ]
        },
        {
          "name": "stdout",
          "output_type": "stream",
          "text": [
            "logitstensor([0.2506, 0.5590, 0.3899, 0.4995, 0.3799, 0.3899, 0.1902, 0.4995, 0.5590,\n",
            "        0.1902, 0.1704, 0.4468, 0.4995, 0.4938, 0.4938, 0.1704],\n",
            "       device='cuda:0')\n"
          ]
        },
        {
          "name": "stderr",
          "output_type": "stream",
          "text": [
            "Evaluate:  53%|█████▎    | 27/51 [00:09<00:07,  3.01it/s]"
          ]
        },
        {
          "name": "stdout",
          "output_type": "stream",
          "text": [
            "logitstensor([0.5122, 0.4425, 0.4869, 0.5901, 0.2058, 0.2058, 0.5215, 0.1704, 0.4984,\n",
            "        0.3338, 0.1704, 0.1742, 0.1868, 0.1648, 0.4984, 0.3808],\n",
            "       device='cuda:0')\n"
          ]
        },
        {
          "name": "stderr",
          "output_type": "stream",
          "text": [
            "Evaluate:  55%|█████▍    | 28/51 [00:09<00:07,  3.04it/s]"
          ]
        },
        {
          "name": "stdout",
          "output_type": "stream",
          "text": [
            "logitstensor([0.2313, 0.4865, 0.3817, 0.1802, 0.3216, 0.4147, 0.3447, 0.3899, 0.2362,\n",
            "        0.3524, 0.3338, 0.4066, 0.4392, 0.4984, 0.4938, 0.2372],\n",
            "       device='cuda:0')\n"
          ]
        },
        {
          "name": "stderr",
          "output_type": "stream",
          "text": [
            "Evaluate:  57%|█████▋    | 29/51 [00:09<00:07,  3.07it/s]"
          ]
        },
        {
          "name": "stdout",
          "output_type": "stream",
          "text": [
            "logitstensor([0.4429, 0.4855, 0.1704, 0.4804, 0.2577, 0.4379, 0.4754, 0.4995, 0.4982,\n",
            "        0.1603, 0.1758, 0.4546, 0.1802, 0.2058, 0.2187, 0.4546],\n",
            "       device='cuda:0')\n"
          ]
        },
        {
          "name": "stderr",
          "output_type": "stream",
          "text": [
            "Evaluate:  59%|█████▉    | 30/51 [00:09<00:06,  3.08it/s]"
          ]
        },
        {
          "name": "stdout",
          "output_type": "stream",
          "text": [
            "logitstensor([0.2942, 0.3522, 0.4855, 0.1758, 0.4031, 0.1704, 0.4865, 0.1638, 0.1797,\n",
            "        0.3625, 0.1704, 0.3805, 0.1902, 0.1603, 0.1902, 0.6426],\n",
            "       device='cuda:0')\n"
          ]
        },
        {
          "name": "stderr",
          "output_type": "stream",
          "text": [
            "Evaluate:  61%|██████    | 31/51 [00:10<00:06,  2.98it/s]"
          ]
        },
        {
          "name": "stdout",
          "output_type": "stream",
          "text": [
            "logitstensor([0.3817, 0.1902, 0.3860, 0.4031, 0.3978, 0.5788, 0.3625, 0.1772, 0.2130,\n",
            "        0.4468, 0.5590, 0.4379, 0.1797, 0.4392, 0.5115, 0.4865],\n",
            "       device='cuda:0')\n"
          ]
        },
        {
          "name": "stderr",
          "output_type": "stream",
          "text": [
            "Evaluate:  63%|██████▎   | 32/51 [00:10<00:06,  3.00it/s]"
          ]
        },
        {
          "name": "stdout",
          "output_type": "stream",
          "text": [
            "logitstensor([0.3978, 0.4147, 0.1746, 0.4147, 0.1802, 0.2000, 0.5115, 0.5599, 0.4022,\n",
            "        0.3338, 0.1676, 0.4982, 0.2058, 0.6551, 0.1902, 0.4513],\n",
            "       device='cuda:0')\n"
          ]
        },
        {
          "name": "stderr",
          "output_type": "stream",
          "text": [
            "Evaluate:  65%|██████▍   | 33/51 [00:10<00:05,  3.04it/s]"
          ]
        },
        {
          "name": "stdout",
          "output_type": "stream",
          "text": [
            "logitstensor([0.2058, 0.4487, 0.5249, 0.5371, 0.1704, 0.1771, 0.1753, 0.4147, 0.2058,\n",
            "        0.4855, 0.1573, 0.1632, 0.3447, 0.1758, 0.1758, 0.4984],\n",
            "       device='cuda:0')\n"
          ]
        },
        {
          "name": "stderr",
          "output_type": "stream",
          "text": [
            "Evaluate:  67%|██████▋   | 34/51 [00:11<00:05,  2.98it/s]"
          ]
        },
        {
          "name": "stdout",
          "output_type": "stream",
          "text": [
            "logitstensor([0.1638, 0.3917, 0.2022, 0.3338, 0.1704, 0.4661, 0.1632, 0.4546, 0.5312,\n",
            "        0.4379, 0.5115, 0.2194, 0.2680, 0.2783, 0.3805, 0.4147],\n",
            "       device='cuda:0')\n"
          ]
        },
        {
          "name": "stderr",
          "output_type": "stream",
          "text": [
            "Evaluate:  69%|██████▊   | 35/51 [00:11<00:05,  3.03it/s]"
          ]
        },
        {
          "name": "stdout",
          "output_type": "stream",
          "text": [
            "logitstensor([0.1862, 0.6461, 0.1603, 0.4030, 0.5312, 0.4030, 0.4468, 0.4995, 0.2058,\n",
            "        0.2577, 0.5788, 0.1638, 0.1797, 0.4995, 0.2060, 0.1746],\n",
            "       device='cuda:0')\n"
          ]
        },
        {
          "name": "stderr",
          "output_type": "stream",
          "text": [
            "Evaluate:  71%|███████   | 36/51 [00:11<00:04,  3.07it/s]"
          ]
        },
        {
          "name": "stdout",
          "output_type": "stream",
          "text": [
            "logitstensor([0.4546, 0.2139, 0.5115, 0.3978, 0.4995, 0.4984, 0.1814, 0.4982, 0.2680,\n",
            "        0.1645, 0.2598, 0.1573, 0.5255, 0.2945, 0.1603, 0.4984],\n",
            "       device='cuda:0')\n"
          ]
        },
        {
          "name": "stderr",
          "output_type": "stream",
          "text": [
            "Evaluate:  73%|███████▎  | 37/51 [00:12<00:04,  3.08it/s]"
          ]
        },
        {
          "name": "stdout",
          "output_type": "stream",
          "text": [
            "logitstensor([0.3338, 0.4085, 0.3070, 0.4147, 0.1802, 0.2139, 0.4995, 0.1797, 0.2997,\n",
            "        0.4147, 0.4379, 0.3805, 0.4984, 0.2257, 0.4951, 0.1638],\n",
            "       device='cuda:0')\n"
          ]
        },
        {
          "name": "stderr",
          "output_type": "stream",
          "text": [
            "Evaluate:  75%|███████▍  | 38/51 [00:12<00:04,  3.12it/s]"
          ]
        },
        {
          "name": "stdout",
          "output_type": "stream",
          "text": [
            "logitstensor([0.1852, 0.1603, 0.1638, 0.3338, 0.1758, 0.2680, 0.1666, 0.5788, 0.1902,\n",
            "        0.2313, 0.1638, 0.2491, 0.6183, 0.3166, 0.1764, 0.3805],\n",
            "       device='cuda:0')\n"
          ]
        },
        {
          "name": "stderr",
          "output_type": "stream",
          "text": [
            "Evaluate:  76%|███████▋  | 39/51 [00:12<00:03,  3.15it/s]"
          ]
        },
        {
          "name": "stdout",
          "output_type": "stream",
          "text": [
            "logitstensor([0.4379, 0.4995, 0.1603, 0.4661, 0.3808, 0.2598, 0.6614, 0.5631, 0.3619,\n",
            "        0.5788, 0.4875, 0.3114, 0.4779, 0.1985, 0.6426, 0.1679],\n",
            "       device='cuda:0')\n"
          ]
        },
        {
          "name": "stderr",
          "output_type": "stream",
          "text": [
            "Evaluate:  78%|███████▊  | 40/51 [00:13<00:03,  3.16it/s]"
          ]
        },
        {
          "name": "stdout",
          "output_type": "stream",
          "text": [
            "logitstensor([0.1998, 0.4463, 0.4628, 0.5864, 0.2139, 0.4430, 0.6056, 0.2390, 0.2130,\n",
            "        0.6056, 0.3619, 0.4290, 0.2269, 0.6610, 0.5940, 0.4943],\n",
            "       device='cuda:0')\n"
          ]
        },
        {
          "name": "stderr",
          "output_type": "stream",
          "text": [
            "Evaluate:  80%|████████  | 41/51 [00:13<00:03,  3.16it/s]"
          ]
        },
        {
          "name": "stdout",
          "output_type": "stream",
          "text": [
            "logitstensor([0.1758, 0.1985, 0.3857, 0.4463, 0.5794, 0.5641, 0.4284, 0.2242, 0.6387,\n",
            "        0.5249, 0.4620, 0.3433, 0.2661, 0.4372, 0.3668, 0.4941],\n",
            "       device='cuda:0')\n"
          ]
        },
        {
          "name": "stderr",
          "output_type": "stream",
          "text": [
            "Evaluate:  82%|████████▏ | 42/51 [00:13<00:02,  3.18it/s]"
          ]
        },
        {
          "name": "stdout",
          "output_type": "stream",
          "text": [
            "logitstensor([0.3845, 0.1655, 0.1965, 0.6056, 0.3334, 0.6003, 0.2028, 0.4262, 0.5641,\n",
            "        0.1723, 0.6354, 0.2081, 0.1641, 0.5864, 0.2020, 0.1612],\n",
            "       device='cuda:0')\n"
          ]
        },
        {
          "name": "stderr",
          "output_type": "stream",
          "text": [
            "Evaluate:  84%|████████▍ | 43/51 [00:14<00:02,  3.18it/s]"
          ]
        },
        {
          "name": "stdout",
          "output_type": "stream",
          "text": [
            "logitstensor([0.4392, 0.2097, 0.2097, 0.1655, 0.2019, 0.6324, 0.6341, 0.2548, 0.6598,\n",
            "        0.1665, 0.4502, 0.5197, 0.5639, 0.2873, 0.3922, 0.3922],\n",
            "       device='cuda:0')\n"
          ]
        },
        {
          "name": "stderr",
          "output_type": "stream",
          "text": [
            "Evaluate:  86%|████████▋ | 44/51 [00:14<00:02,  3.06it/s]"
          ]
        },
        {
          "name": "stdout",
          "output_type": "stream",
          "text": [
            "logitstensor([0.2291, 0.4658, 0.3354, 0.3334, 0.5077, 0.1965, 0.4484, 0.4963, 0.1610,\n",
            "        0.4524, 0.4208, 0.2055, 0.1671, 0.5480, 0.3679, 0.3318],\n",
            "       device='cuda:0')\n"
          ]
        },
        {
          "name": "stderr",
          "output_type": "stream",
          "text": [
            "Evaluate:  88%|████████▊ | 45/51 [00:14<00:01,  3.08it/s]"
          ]
        },
        {
          "name": "stdout",
          "output_type": "stream",
          "text": [
            "logitstensor([0.6056, 0.3992, 0.3134, 0.6522, 0.3715, 0.1702, 0.6610, 0.5480, 0.5249,\n",
            "        0.6354, 0.2534, 0.4943, 0.6387, 0.2838, 0.1744, 0.4943],\n",
            "       device='cuda:0')\n"
          ]
        },
        {
          "name": "stderr",
          "output_type": "stream",
          "text": [
            "Evaluate:  90%|█████████ | 46/51 [00:15<00:01,  3.13it/s]"
          ]
        },
        {
          "name": "stdout",
          "output_type": "stream",
          "text": [
            "logitstensor([0.4858, 0.1637, 0.6599, 0.2078, 0.5061, 0.1998, 0.2144, 0.3313, 0.3679,\n",
            "        0.2784, 0.3775, 0.3737, 0.3111, 0.3212, 0.4378, 0.1641],\n",
            "       device='cuda:0')\n"
          ]
        },
        {
          "name": "stderr",
          "output_type": "stream",
          "text": [
            "Evaluate:  92%|█████████▏| 47/51 [00:15<00:01,  3.16it/s]"
          ]
        },
        {
          "name": "stdout",
          "output_type": "stream",
          "text": [
            "logitstensor([0.4487, 0.6598, 0.1681, 0.5963, 0.4875, 0.5579, 0.4093, 0.3845, 0.4943,\n",
            "        0.3495, 0.1612, 0.1673, 0.4910, 0.5579, 0.2130, 0.3807],\n",
            "       device='cuda:0')\n"
          ]
        },
        {
          "name": "stderr",
          "output_type": "stream",
          "text": [
            "Evaluate:  94%|█████████▍| 48/51 [00:15<00:00,  3.18it/s]"
          ]
        },
        {
          "name": "stdout",
          "output_type": "stream",
          "text": [
            "logitstensor([0.6475, 0.4779, 0.1579, 0.5864, 0.2642, 0.3884, 0.1581, 0.1729, 0.5076,\n",
            "        0.5455, 0.6598, 0.3468, 0.1627, 0.4875, 0.5158, 0.2930],\n",
            "       device='cuda:0')\n"
          ]
        },
        {
          "name": "stderr",
          "output_type": "stream",
          "text": [
            "Evaluate:  96%|█████████▌| 49/51 [00:16<00:00,  3.19it/s]"
          ]
        },
        {
          "name": "stdout",
          "output_type": "stream",
          "text": [
            "logitstensor([0.2358, 0.3433, 0.6052, 0.2102, 0.2014, 0.5963, 0.5963, 0.1723, 0.4463,\n",
            "        0.5725, 0.4658, 0.4502, 0.1790, 0.1581, 0.6610, 0.4661],\n",
            "       device='cuda:0')\n"
          ]
        },
        {
          "name": "stderr",
          "output_type": "stream",
          "text": [
            "Evaluate:  98%|█████████▊| 50/51 [00:16<00:00,  3.17it/s]"
          ]
        },
        {
          "name": "stdout",
          "output_type": "stream",
          "text": [
            "logitstensor([0.5639, 0.1771, 0.1645, 0.4092, 0.5478, 0.5223, 0.3212, 0.2058, 0.5226,\n",
            "        0.2097, 0.4607, 0.4941, 0.4148, 0.5115, 0.4144, 0.2357],\n",
            "       device='cuda:0')\n"
          ]
        },
        {
          "name": "stderr",
          "output_type": "stream",
          "text": [
            "Evaluate: 100%|██████████| 51/51 [00:16<00:00,  3.06it/s]"
          ]
        },
        {
          "name": "stdout",
          "output_type": "stream",
          "text": [
            "logitstensor([0.1724, 0.1718, 0.1793, 0.4311, 0.5655, 0.3298, 0.3922, 0.1662, 0.1617,\n",
            "        0.6331, 0.2885, 0.4502, 0.3055, 0.2608], device='cuda:0')\n"
          ]
        },
        {
          "name": "stderr",
          "output_type": "stream",
          "text": [
            "\n"
          ]
        }
      ],
      "source": [
        "if len(test_index_checkpoint) > 0:\n",
        "    img_encoder =[vit_encoder,resnet_encoder,swintransformer]\n",
        "    model = CrossModel(img_encoder,encoder_layer,text_embedding, pooling_layer)\n",
        "    model = model.to(device)\n",
        "    optimizer = torch.optim.Adam(model.parameters(), lr=lr)\n",
        "\n",
        "    PATH = os.path.join(checkpoint_directory, test_index_checkpoint + CHECKPOINT_EXTENSION)\n",
        "    epoch, model, optimizer, loss = load_checkpoint(PATH, model, optimizer)\n",
        "    print(\"Load checkpoint: \"+str(PATH))\n",
        "list = predict(model,device,dataloader_test,image_processor)\n",
        "json_dict = read_json(test_file_path)\n",
        "for i in range(len(json_dict['pairs'])):\n",
        "    if list[i] == 0:\n",
        "        json_dict['pairs'][i]['subtask1_label'] = 'NO'\n",
        "    else:\n",
        "        json_dict['pairs'][i]['subtask1_label'] = 'YES'\n",
        "with open(predict_path, 'w') as f:\n",
        "    json.dump(json_dict, f, indent=4)"
      ]
    },
    {
      "cell_type": "code",
      "execution_count": null,
      "metadata": {},
      "outputs": [],
      "source": [
        "# img_encoder =[vit_encoder,resnet_encoder,swintransformer]\n",
        "# model = CrossModel(img_encoder,encoder_layer,text_embedding, pooling_layer)\n",
        "\n",
        "# lr = 0.001\n",
        "# model = model.to(device)\n",
        "# optimizer = torch.optim.Adam(model.parameters(), lr=lr)\n",
        "# epoch = 0\n",
        "# loss = 10000\n",
        "# # index_checkpoint = '3'\n",
        "# # PATH = os.path.join(checkpoint_directory, index_checkpoint + CHECKPOINT_EXTENSION)\n",
        "# # epoch, model, optimizer, loss = load_checkpoint(PATH, model, optimizer)\n",
        "# # print(\"Load checkpoint: \"+str(PATH))\n",
        "\n",
        "# history_losses = train(dataloader_train,model,device ,epochs=100, optimizer=optimizer, cur_epoch=epoch, best_valid_loss=loss)"
      ]
    },
    {
      "cell_type": "markdown",
      "metadata": {
        "id": "C1KfndthhydK"
      },
      "source": [
        "## Predict"
      ]
    },
    {
      "cell_type": "code",
      "execution_count": null,
      "metadata": {
        "id": "3BkJ4D5LX2zO"
      },
      "outputs": [],
      "source": [
        "# def predict(model,device,dataloader,image_processor):\n",
        "#   list = []\n",
        "#   model.eval()\n",
        "\n",
        "#   data_iterator = tqdm(dataloader, desc=f'Epoch')\n",
        "#   with torch.no_grad():\n",
        "#     for data in data_iterator:\n",
        "#       img = torch.squeeze(data[0]['pixel_values'],1)\n",
        "#       text = torch.squeeze(data[1]['input_ids'],1)\n",
        "#       target = torch.squeeze(data[2])\n",
        "#       # print(text.shape)\n",
        "#       img = img.to(device)\n",
        "#       text = text.to(device)\n",
        "#       target = target.to(device).to(torch.int64)\n",
        "#       optimizer.zero_grad()\n",
        "      \n",
        "#       logits = model(img,text)\n",
        "\n",
        "#       print(\"logits\"+str(torch.sigmoid(logits)))\n",
        "#       pred = torch.round(torch.sigmoid(logits)).detach().cpu().numpy()\n",
        "#       list.extend(pred)\n",
        "#   return list"
      ]
    },
    {
      "cell_type": "code",
      "execution_count": null,
      "metadata": {},
      "outputs": [],
      "source": [
        "# dataset_test = Dataset_MMM(test_file_path, test_img_dir,image_processor,tokenizer,is_url=True)\n",
        "# dataloader_test = DataLoader(dataset_test,batch_size=16,drop_last=False, shuffle=False)"
      ]
    },
    {
      "cell_type": "code",
      "execution_count": null,
      "metadata": {},
      "outputs": [],
      "source": [
        "# img_encoder =[vit_encoder,resnet_encoder,swintransformer]\n",
        "# model = CrossModel(img_encoder,encoder_layer,text_embedding, pooling_layer)\n",
        "\n",
        "# lr=0.001\n",
        "# model = model.to(device)\n",
        "# optimizer = torch.optim.Adam(model.parameters(), lr=lr)\n",
        "\n",
        "# index_checkpoint = '19'\n",
        "# PATH = os.path.join(checkpoint_directory, index_checkpoint + CHECKPOINT_EXTENSION)\n",
        "# epoch, model, optimizer, loss = load_checkpoint(PATH, model, optimizer)\n",
        "# print(\"Load checkpoint: \"+str(PATH))\n",
        "\n",
        "# list = predict(model,device,dataloader_test,image_processor)\n",
        "# json_dict = read_json(test_file_path)\n",
        "# for i in range(len(json_dict)):\n",
        "#     if list[i] == 0:\n",
        "#         json_dict[i]['subtask1_label'] = 'NO'\n",
        "#     else:\n",
        "#         json_dict[i]['subtask1_label'] = 'YES'\n",
        "# with open(test_save_path, 'w') as f:\n",
        "#     json.dump(json_dict, f, indent=4)"
      ]
    },
    {
      "cell_type": "code",
      "execution_count": null,
      "metadata": {},
      "outputs": [
        {
          "data": {
            "text/plain": [
              "1"
            ]
          },
          "execution_count": 19,
          "metadata": {},
          "output_type": "execute_result"
        }
      ],
      "source": [
        "len(json_dict)"
      ]
    }
  ],
  "metadata": {
    "accelerator": "GPU",
    "colab": {
      "gpuType": "T4",
      "provenance": []
    },
    "kernelspec": {
      "display_name": "Python 3",
      "name": "python3"
    },
    "language_info": {
      "codemirror_mode": {
        "name": "ipython",
        "version": 3
      },
      "file_extension": ".py",
      "mimetype": "text/x-python",
      "name": "python",
      "nbconvert_exporter": "python",
      "pygments_lexer": "ipython3",
      "version": "3.10.13"
    },
    "widgets": {
      "application/vnd.jupyter.widget-state+json": {
        "02d500f84c8349a4865b2cb8f34c91b0": {
          "model_module": "@jupyter-widgets/controls",
          "model_module_version": "1.5.0",
          "model_name": "HTMLModel",
          "state": {
            "_dom_classes": [],
            "_model_module": "@jupyter-widgets/controls",
            "_model_module_version": "1.5.0",
            "_model_name": "HTMLModel",
            "_view_count": null,
            "_view_module": "@jupyter-widgets/controls",
            "_view_module_version": "1.5.0",
            "_view_name": "HTMLView",
            "description": "",
            "description_tooltip": null,
            "layout": "IPY_MODEL_6794350f109e47148fc0a7f41db3e57c",
            "placeholder": "​",
            "style": "IPY_MODEL_089b3b2d18764915bfbcb987ce03cc3c",
            "value": "preprocessor_config.json: 100%"
          }
        },
        "063c1af95c5d4702bdf98b0b7ced2973": {
          "model_module": "@jupyter-widgets/controls",
          "model_module_version": "1.5.0",
          "model_name": "ProgressStyleModel",
          "state": {
            "_model_module": "@jupyter-widgets/controls",
            "_model_module_version": "1.5.0",
            "_model_name": "ProgressStyleModel",
            "_view_count": null,
            "_view_module": "@jupyter-widgets/base",
            "_view_module_version": "1.2.0",
            "_view_name": "StyleView",
            "bar_color": null,
            "description_width": ""
          }
        },
        "06f467c79e2c46eda4fd079c2e4a3841": {
          "model_module": "@jupyter-widgets/controls",
          "model_module_version": "1.5.0",
          "model_name": "DescriptionStyleModel",
          "state": {
            "_model_module": "@jupyter-widgets/controls",
            "_model_module_version": "1.5.0",
            "_model_name": "DescriptionStyleModel",
            "_view_count": null,
            "_view_module": "@jupyter-widgets/base",
            "_view_module_version": "1.2.0",
            "_view_name": "StyleView",
            "description_width": ""
          }
        },
        "0749bb02e0d34e49a2a871b5d2096efb": {
          "model_module": "@jupyter-widgets/controls",
          "model_module_version": "1.5.0",
          "model_name": "FloatProgressModel",
          "state": {
            "_dom_classes": [],
            "_model_module": "@jupyter-widgets/controls",
            "_model_module_version": "1.5.0",
            "_model_name": "FloatProgressModel",
            "_view_count": null,
            "_view_module": "@jupyter-widgets/controls",
            "_view_module_version": "1.5.0",
            "_view_name": "ProgressView",
            "bar_style": "success",
            "description": "",
            "description_tooltip": null,
            "layout": "IPY_MODEL_de6ceb06074a4389851830d1cb4b3801",
            "max": 898823,
            "min": 0,
            "orientation": "horizontal",
            "style": "IPY_MODEL_3fb3ddebe9824e508580a3d1c28082ab",
            "value": 898823
          }
        },
        "07864b8e7d4341f78a5ff4f18793025e": {
          "model_module": "@jupyter-widgets/controls",
          "model_module_version": "1.5.0",
          "model_name": "DescriptionStyleModel",
          "state": {
            "_model_module": "@jupyter-widgets/controls",
            "_model_module_version": "1.5.0",
            "_model_name": "DescriptionStyleModel",
            "_view_count": null,
            "_view_module": "@jupyter-widgets/base",
            "_view_module_version": "1.2.0",
            "_view_name": "StyleView",
            "description_width": ""
          }
        },
        "089b3b2d18764915bfbcb987ce03cc3c": {
          "model_module": "@jupyter-widgets/controls",
          "model_module_version": "1.5.0",
          "model_name": "DescriptionStyleModel",
          "state": {
            "_model_module": "@jupyter-widgets/controls",
            "_model_module_version": "1.5.0",
            "_model_name": "DescriptionStyleModel",
            "_view_count": null,
            "_view_module": "@jupyter-widgets/base",
            "_view_module_version": "1.2.0",
            "_view_name": "StyleView",
            "description_width": ""
          }
        },
        "0aa88d1a6be6489a86fad6c00b6f2a12": {
          "model_module": "@jupyter-widgets/base",
          "model_module_version": "1.2.0",
          "model_name": "LayoutModel",
          "state": {
            "_model_module": "@jupyter-widgets/base",
            "_model_module_version": "1.2.0",
            "_model_name": "LayoutModel",
            "_view_count": null,
            "_view_module": "@jupyter-widgets/base",
            "_view_module_version": "1.2.0",
            "_view_name": "LayoutView",
            "align_content": null,
            "align_items": null,
            "align_self": null,
            "border": null,
            "bottom": null,
            "display": null,
            "flex": null,
            "flex_flow": null,
            "grid_area": null,
            "grid_auto_columns": null,
            "grid_auto_flow": null,
            "grid_auto_rows": null,
            "grid_column": null,
            "grid_gap": null,
            "grid_row": null,
            "grid_template_areas": null,
            "grid_template_columns": null,
            "grid_template_rows": null,
            "height": null,
            "justify_content": null,
            "justify_items": null,
            "left": null,
            "margin": null,
            "max_height": null,
            "max_width": null,
            "min_height": null,
            "min_width": null,
            "object_fit": null,
            "object_position": null,
            "order": null,
            "overflow": null,
            "overflow_x": null,
            "overflow_y": null,
            "padding": null,
            "right": null,
            "top": null,
            "visibility": null,
            "width": null
          }
        },
        "0e5cbd371bb3461b8fa9c8fd2d41bfce": {
          "model_module": "@jupyter-widgets/controls",
          "model_module_version": "1.5.0",
          "model_name": "HTMLModel",
          "state": {
            "_dom_classes": [],
            "_model_module": "@jupyter-widgets/controls",
            "_model_module_version": "1.5.0",
            "_model_name": "HTMLModel",
            "_view_count": null,
            "_view_module": "@jupyter-widgets/controls",
            "_view_module_version": "1.5.0",
            "_view_name": "HTMLView",
            "description": "",
            "description_tooltip": null,
            "layout": "IPY_MODEL_120f0b3cc66548679ace90091a68e86e",
            "placeholder": "​",
            "style": "IPY_MODEL_c0bb03c0df5647febbd46541e8ac5185",
            "value": " 113M/113M [00:00&lt;00:00, 386MB/s]"
          }
        },
        "0fcef62e7b8d482c8436ef82296e3cef": {
          "model_module": "@jupyter-widgets/controls",
          "model_module_version": "1.5.0",
          "model_name": "HTMLModel",
          "state": {
            "_dom_classes": [],
            "_model_module": "@jupyter-widgets/controls",
            "_model_module_version": "1.5.0",
            "_model_name": "HTMLModel",
            "_view_count": null,
            "_view_module": "@jupyter-widgets/controls",
            "_view_module_version": "1.5.0",
            "_view_name": "HTMLView",
            "description": "",
            "description_tooltip": null,
            "layout": "IPY_MODEL_7c14463dd5724cd588b85a4f4329bfee",
            "placeholder": "​",
            "style": "IPY_MODEL_a55a114f8fa644169aff6a0add9b77a2",
            "value": " 346M/346M [00:01&lt;00:00, 257MB/s]"
          }
        },
        "120f0b3cc66548679ace90091a68e86e": {
          "model_module": "@jupyter-widgets/base",
          "model_module_version": "1.2.0",
          "model_name": "LayoutModel",
          "state": {
            "_model_module": "@jupyter-widgets/base",
            "_model_module_version": "1.2.0",
            "_model_name": "LayoutModel",
            "_view_count": null,
            "_view_module": "@jupyter-widgets/base",
            "_view_module_version": "1.2.0",
            "_view_name": "LayoutView",
            "align_content": null,
            "align_items": null,
            "align_self": null,
            "border": null,
            "bottom": null,
            "display": null,
            "flex": null,
            "flex_flow": null,
            "grid_area": null,
            "grid_auto_columns": null,
            "grid_auto_flow": null,
            "grid_auto_rows": null,
            "grid_column": null,
            "grid_gap": null,
            "grid_row": null,
            "grid_template_areas": null,
            "grid_template_columns": null,
            "grid_template_rows": null,
            "height": null,
            "justify_content": null,
            "justify_items": null,
            "left": null,
            "margin": null,
            "max_height": null,
            "max_width": null,
            "min_height": null,
            "min_width": null,
            "object_fit": null,
            "object_position": null,
            "order": null,
            "overflow": null,
            "overflow_x": null,
            "overflow_y": null,
            "padding": null,
            "right": null,
            "top": null,
            "visibility": null,
            "width": null
          }
        },
        "12c6884c38cd4f3480f07eca22d972f2": {
          "model_module": "@jupyter-widgets/base",
          "model_module_version": "1.2.0",
          "model_name": "LayoutModel",
          "state": {
            "_model_module": "@jupyter-widgets/base",
            "_model_module_version": "1.2.0",
            "_model_name": "LayoutModel",
            "_view_count": null,
            "_view_module": "@jupyter-widgets/base",
            "_view_module_version": "1.2.0",
            "_view_name": "LayoutView",
            "align_content": null,
            "align_items": null,
            "align_self": null,
            "border": null,
            "bottom": null,
            "display": null,
            "flex": null,
            "flex_flow": null,
            "grid_area": null,
            "grid_auto_columns": null,
            "grid_auto_flow": null,
            "grid_auto_rows": null,
            "grid_column": null,
            "grid_gap": null,
            "grid_row": null,
            "grid_template_areas": null,
            "grid_template_columns": null,
            "grid_template_rows": null,
            "height": null,
            "justify_content": null,
            "justify_items": null,
            "left": null,
            "margin": null,
            "max_height": null,
            "max_width": null,
            "min_height": null,
            "min_width": null,
            "object_fit": null,
            "object_position": null,
            "order": null,
            "overflow": null,
            "overflow_x": null,
            "overflow_y": null,
            "padding": null,
            "right": null,
            "top": null,
            "visibility": null,
            "width": null
          }
        },
        "1342f90da2704d61949e309d281359b3": {
          "model_module": "@jupyter-widgets/controls",
          "model_module_version": "1.5.0",
          "model_name": "FloatProgressModel",
          "state": {
            "_dom_classes": [],
            "_model_module": "@jupyter-widgets/controls",
            "_model_module_version": "1.5.0",
            "_model_name": "FloatProgressModel",
            "_view_count": null,
            "_view_module": "@jupyter-widgets/controls",
            "_view_module_version": "1.5.0",
            "_view_name": "ProgressView",
            "bar_style": "success",
            "description": "",
            "description_tooltip": null,
            "layout": "IPY_MODEL_ec18362160de4e31b4c98e1d994e8d44",
            "max": 69548,
            "min": 0,
            "orientation": "horizontal",
            "style": "IPY_MODEL_d7a0cba46fa94fdf9fd2b03f78d7b2fd",
            "value": 69548
          }
        },
        "14594e2b16604c16b7e3c042d428f1d8": {
          "model_module": "@jupyter-widgets/controls",
          "model_module_version": "1.5.0",
          "model_name": "HBoxModel",
          "state": {
            "_dom_classes": [],
            "_model_module": "@jupyter-widgets/controls",
            "_model_module_version": "1.5.0",
            "_model_name": "HBoxModel",
            "_view_count": null,
            "_view_module": "@jupyter-widgets/controls",
            "_view_module_version": "1.5.0",
            "_view_name": "HBoxView",
            "box_style": "",
            "children": [
              "IPY_MODEL_e9dcad237fa0407ca602f50ec2554852",
              "IPY_MODEL_163f102e005042759535f6ba1bc6515e",
              "IPY_MODEL_0fcef62e7b8d482c8436ef82296e3cef"
            ],
            "layout": "IPY_MODEL_d2a658c3223545ea9399556b90df3fc0"
          }
        },
        "147f87fba6dc46ec81d9d88f767d4ca7": {
          "model_module": "@jupyter-widgets/controls",
          "model_module_version": "1.5.0",
          "model_name": "FloatProgressModel",
          "state": {
            "_dom_classes": [],
            "_model_module": "@jupyter-widgets/controls",
            "_model_module_version": "1.5.0",
            "_model_name": "FloatProgressModel",
            "_view_count": null,
            "_view_module": "@jupyter-widgets/controls",
            "_view_module_version": "1.5.0",
            "_view_name": "ProgressView",
            "bar_style": "success",
            "description": "",
            "description_tooltip": null,
            "layout": "IPY_MODEL_479bb2ca03584e9692715f9e2cc5f8cf",
            "max": 1421700479,
            "min": 0,
            "orientation": "horizontal",
            "style": "IPY_MODEL_419b8fd8b9fc4ea1938e12d9f45fb549",
            "value": 1421700479
          }
        },
        "1541485dbc354db4bca70dc91f998fdf": {
          "model_module": "@jupyter-widgets/base",
          "model_module_version": "1.2.0",
          "model_name": "LayoutModel",
          "state": {
            "_model_module": "@jupyter-widgets/base",
            "_model_module_version": "1.2.0",
            "_model_name": "LayoutModel",
            "_view_count": null,
            "_view_module": "@jupyter-widgets/base",
            "_view_module_version": "1.2.0",
            "_view_name": "LayoutView",
            "align_content": null,
            "align_items": null,
            "align_self": null,
            "border": null,
            "bottom": null,
            "display": null,
            "flex": null,
            "flex_flow": null,
            "grid_area": null,
            "grid_auto_columns": null,
            "grid_auto_flow": null,
            "grid_auto_rows": null,
            "grid_column": null,
            "grid_gap": null,
            "grid_row": null,
            "grid_template_areas": null,
            "grid_template_columns": null,
            "grid_template_rows": null,
            "height": null,
            "justify_content": null,
            "justify_items": null,
            "left": null,
            "margin": null,
            "max_height": null,
            "max_width": null,
            "min_height": null,
            "min_width": null,
            "object_fit": null,
            "object_position": null,
            "order": null,
            "overflow": null,
            "overflow_x": null,
            "overflow_y": null,
            "padding": null,
            "right": null,
            "top": null,
            "visibility": null,
            "width": null
          }
        },
        "163f102e005042759535f6ba1bc6515e": {
          "model_module": "@jupyter-widgets/controls",
          "model_module_version": "1.5.0",
          "model_name": "FloatProgressModel",
          "state": {
            "_dom_classes": [],
            "_model_module": "@jupyter-widgets/controls",
            "_model_module_version": "1.5.0",
            "_model_name": "FloatProgressModel",
            "_view_count": null,
            "_view_module": "@jupyter-widgets/controls",
            "_view_module_version": "1.5.0",
            "_view_name": "ProgressView",
            "bar_style": "success",
            "description": "",
            "description_tooltip": null,
            "layout": "IPY_MODEL_2de7278bdb424839afef9715f8c5d6d6",
            "max": 345636463,
            "min": 0,
            "orientation": "horizontal",
            "style": "IPY_MODEL_afa3cf80cddb456897b2d62882065b72",
            "value": 345636463
          }
        },
        "1aa7b08560e5408c801b3df8597e09a0": {
          "model_module": "@jupyter-widgets/base",
          "model_module_version": "1.2.0",
          "model_name": "LayoutModel",
          "state": {
            "_model_module": "@jupyter-widgets/base",
            "_model_module_version": "1.2.0",
            "_model_name": "LayoutModel",
            "_view_count": null,
            "_view_module": "@jupyter-widgets/base",
            "_view_module_version": "1.2.0",
            "_view_name": "LayoutView",
            "align_content": null,
            "align_items": null,
            "align_self": null,
            "border": null,
            "bottom": null,
            "display": null,
            "flex": null,
            "flex_flow": null,
            "grid_area": null,
            "grid_auto_columns": null,
            "grid_auto_flow": null,
            "grid_auto_rows": null,
            "grid_column": null,
            "grid_gap": null,
            "grid_row": null,
            "grid_template_areas": null,
            "grid_template_columns": null,
            "grid_template_rows": null,
            "height": null,
            "justify_content": null,
            "justify_items": null,
            "left": null,
            "margin": null,
            "max_height": null,
            "max_width": null,
            "min_height": null,
            "min_width": null,
            "object_fit": null,
            "object_position": null,
            "order": null,
            "overflow": null,
            "overflow_x": null,
            "overflow_y": null,
            "padding": null,
            "right": null,
            "top": null,
            "visibility": null,
            "width": null
          }
        },
        "1d643bd7cd3145848e34177b3f5536fc": {
          "model_module": "@jupyter-widgets/controls",
          "model_module_version": "1.5.0",
          "model_name": "DescriptionStyleModel",
          "state": {
            "_model_module": "@jupyter-widgets/controls",
            "_model_module_version": "1.5.0",
            "_model_name": "DescriptionStyleModel",
            "_view_count": null,
            "_view_module": "@jupyter-widgets/base",
            "_view_module_version": "1.2.0",
            "_view_name": "StyleView",
            "description_width": ""
          }
        },
        "20438bb58e5f454f83ad396bfacb1bc6": {
          "model_module": "@jupyter-widgets/controls",
          "model_module_version": "1.5.0",
          "model_name": "HBoxModel",
          "state": {
            "_dom_classes": [],
            "_model_module": "@jupyter-widgets/controls",
            "_model_module_version": "1.5.0",
            "_model_name": "HBoxModel",
            "_view_count": null,
            "_view_module": "@jupyter-widgets/controls",
            "_view_module_version": "1.5.0",
            "_view_name": "HBoxView",
            "box_style": "",
            "children": [
              "IPY_MODEL_a44caa290dd14d6585cb11e3a81aa60e",
              "IPY_MODEL_6300fdbc52b9453687f3eef89833a348",
              "IPY_MODEL_fef042a780b24dc5964cd174064a7eb4"
            ],
            "layout": "IPY_MODEL_ce561a7014ea4239a6e7b8a5467c64cf"
          }
        },
        "219faa34ff5440aead25c7d0534cdde1": {
          "model_module": "@jupyter-widgets/controls",
          "model_module_version": "1.5.0",
          "model_name": "HTMLModel",
          "state": {
            "_dom_classes": [],
            "_model_module": "@jupyter-widgets/controls",
            "_model_module_version": "1.5.0",
            "_model_name": "HTMLModel",
            "_view_count": null,
            "_view_module": "@jupyter-widgets/controls",
            "_view_module_version": "1.5.0",
            "_view_name": "HTMLView",
            "description": "",
            "description_tooltip": null,
            "layout": "IPY_MODEL_54aaa403a0bc440caeedde366b839aed",
            "placeholder": "​",
            "style": "IPY_MODEL_3c17fc5eb5ce42b884eb678973114760",
            "value": " 1.36M/1.36M [00:00&lt;00:00, 5.53MB/s]"
          }
        },
        "2500e3dfb28049c09682c161e6375026": {
          "model_module": "@jupyter-widgets/controls",
          "model_module_version": "1.5.0",
          "model_name": "HTMLModel",
          "state": {
            "_dom_classes": [],
            "_model_module": "@jupyter-widgets/controls",
            "_model_module_version": "1.5.0",
            "_model_name": "HTMLModel",
            "_view_count": null,
            "_view_module": "@jupyter-widgets/controls",
            "_view_module_version": "1.5.0",
            "_view_name": "HTMLView",
            "description": "",
            "description_tooltip": null,
            "layout": "IPY_MODEL_82efd9cd21ca47e493eb69821a2ff6ce",
            "placeholder": "​",
            "style": "IPY_MODEL_1d643bd7cd3145848e34177b3f5536fc",
            "value": "config.json: 100%"
          }
        },
        "25756536576b4a3ea3aabb48d452e92c": {
          "model_module": "@jupyter-widgets/controls",
          "model_module_version": "1.5.0",
          "model_name": "ProgressStyleModel",
          "state": {
            "_model_module": "@jupyter-widgets/controls",
            "_model_module_version": "1.5.0",
            "_model_name": "ProgressStyleModel",
            "_view_count": null,
            "_view_module": "@jupyter-widgets/base",
            "_view_module_version": "1.2.0",
            "_view_name": "StyleView",
            "bar_color": null,
            "description_width": ""
          }
        },
        "25d8252169f34139a9f7e7f0c98f30ea": {
          "model_module": "@jupyter-widgets/base",
          "model_module_version": "1.2.0",
          "model_name": "LayoutModel",
          "state": {
            "_model_module": "@jupyter-widgets/base",
            "_model_module_version": "1.2.0",
            "_model_name": "LayoutModel",
            "_view_count": null,
            "_view_module": "@jupyter-widgets/base",
            "_view_module_version": "1.2.0",
            "_view_name": "LayoutView",
            "align_content": null,
            "align_items": null,
            "align_self": null,
            "border": null,
            "bottom": null,
            "display": null,
            "flex": null,
            "flex_flow": null,
            "grid_area": null,
            "grid_auto_columns": null,
            "grid_auto_flow": null,
            "grid_auto_rows": null,
            "grid_column": null,
            "grid_gap": null,
            "grid_row": null,
            "grid_template_areas": null,
            "grid_template_columns": null,
            "grid_template_rows": null,
            "height": null,
            "justify_content": null,
            "justify_items": null,
            "left": null,
            "margin": null,
            "max_height": null,
            "max_width": null,
            "min_height": null,
            "min_width": null,
            "object_fit": null,
            "object_position": null,
            "order": null,
            "overflow": null,
            "overflow_x": null,
            "overflow_y": null,
            "padding": null,
            "right": null,
            "top": null,
            "visibility": null,
            "width": null
          }
        },
        "2604eeaff060450292ada4afe7e622a5": {
          "model_module": "@jupyter-widgets/controls",
          "model_module_version": "1.5.0",
          "model_name": "FloatProgressModel",
          "state": {
            "_dom_classes": [],
            "_model_module": "@jupyter-widgets/controls",
            "_model_module_version": "1.5.0",
            "_model_name": "FloatProgressModel",
            "_view_count": null,
            "_view_module": "@jupyter-widgets/controls",
            "_view_module_version": "1.5.0",
            "_view_name": "ProgressView",
            "bar_style": "success",
            "description": "",
            "description_tooltip": null,
            "layout": "IPY_MODEL_7bcc83837d05456c87af808dd5b43219",
            "max": 482,
            "min": 0,
            "orientation": "horizontal",
            "style": "IPY_MODEL_52b0b031fc674c3581cb791f04e0566b",
            "value": 482
          }
        },
        "2b4a23c4567f46d7b7531cf3d670c77a": {
          "model_module": "@jupyter-widgets/base",
          "model_module_version": "1.2.0",
          "model_name": "LayoutModel",
          "state": {
            "_model_module": "@jupyter-widgets/base",
            "_model_module_version": "1.2.0",
            "_model_name": "LayoutModel",
            "_view_count": null,
            "_view_module": "@jupyter-widgets/base",
            "_view_module_version": "1.2.0",
            "_view_name": "LayoutView",
            "align_content": null,
            "align_items": null,
            "align_self": null,
            "border": null,
            "bottom": null,
            "display": null,
            "flex": null,
            "flex_flow": null,
            "grid_area": null,
            "grid_auto_columns": null,
            "grid_auto_flow": null,
            "grid_auto_rows": null,
            "grid_column": null,
            "grid_gap": null,
            "grid_row": null,
            "grid_template_areas": null,
            "grid_template_columns": null,
            "grid_template_rows": null,
            "height": null,
            "justify_content": null,
            "justify_items": null,
            "left": null,
            "margin": null,
            "max_height": null,
            "max_width": null,
            "min_height": null,
            "min_width": null,
            "object_fit": null,
            "object_position": null,
            "order": null,
            "overflow": null,
            "overflow_x": null,
            "overflow_y": null,
            "padding": null,
            "right": null,
            "top": null,
            "visibility": null,
            "width": null
          }
        },
        "2de7278bdb424839afef9715f8c5d6d6": {
          "model_module": "@jupyter-widgets/base",
          "model_module_version": "1.2.0",
          "model_name": "LayoutModel",
          "state": {
            "_model_module": "@jupyter-widgets/base",
            "_model_module_version": "1.2.0",
            "_model_name": "LayoutModel",
            "_view_count": null,
            "_view_module": "@jupyter-widgets/base",
            "_view_module_version": "1.2.0",
            "_view_name": "LayoutView",
            "align_content": null,
            "align_items": null,
            "align_self": null,
            "border": null,
            "bottom": null,
            "display": null,
            "flex": null,
            "flex_flow": null,
            "grid_area": null,
            "grid_auto_columns": null,
            "grid_auto_flow": null,
            "grid_auto_rows": null,
            "grid_column": null,
            "grid_gap": null,
            "grid_row": null,
            "grid_template_areas": null,
            "grid_template_columns": null,
            "grid_template_rows": null,
            "height": null,
            "justify_content": null,
            "justify_items": null,
            "left": null,
            "margin": null,
            "max_height": null,
            "max_width": null,
            "min_height": null,
            "min_width": null,
            "object_fit": null,
            "object_position": null,
            "order": null,
            "overflow": null,
            "overflow_x": null,
            "overflow_y": null,
            "padding": null,
            "right": null,
            "top": null,
            "visibility": null,
            "width": null
          }
        },
        "31c5a7e7a82b48ea90cea4f99f233169": {
          "model_module": "@jupyter-widgets/controls",
          "model_module_version": "1.5.0",
          "model_name": "HBoxModel",
          "state": {
            "_dom_classes": [],
            "_model_module": "@jupyter-widgets/controls",
            "_model_module_version": "1.5.0",
            "_model_name": "HBoxModel",
            "_view_count": null,
            "_view_module": "@jupyter-widgets/controls",
            "_view_module_version": "1.5.0",
            "_view_name": "HBoxView",
            "box_style": "",
            "children": [
              "IPY_MODEL_c36b4d6379834ee394f4d2f57bf53f6f",
              "IPY_MODEL_1342f90da2704d61949e309d281359b3",
              "IPY_MODEL_47dd93f324934590aa946bffb4c0c53a"
            ],
            "layout": "IPY_MODEL_8bf7357e478141d88a3effcaf5dc1d87"
          }
        },
        "3c17fc5eb5ce42b884eb678973114760": {
          "model_module": "@jupyter-widgets/controls",
          "model_module_version": "1.5.0",
          "model_name": "DescriptionStyleModel",
          "state": {
            "_model_module": "@jupyter-widgets/controls",
            "_model_module_version": "1.5.0",
            "_model_name": "DescriptionStyleModel",
            "_view_count": null,
            "_view_module": "@jupyter-widgets/base",
            "_view_module_version": "1.2.0",
            "_view_name": "StyleView",
            "description_width": ""
          }
        },
        "3fb3ddebe9824e508580a3d1c28082ab": {
          "model_module": "@jupyter-widgets/controls",
          "model_module_version": "1.5.0",
          "model_name": "ProgressStyleModel",
          "state": {
            "_model_module": "@jupyter-widgets/controls",
            "_model_module_version": "1.5.0",
            "_model_name": "ProgressStyleModel",
            "_view_count": null,
            "_view_module": "@jupyter-widgets/base",
            "_view_module_version": "1.2.0",
            "_view_name": "StyleView",
            "bar_color": null,
            "description_width": ""
          }
        },
        "404ad091730e4c23ab3873ea00efcbed": {
          "model_module": "@jupyter-widgets/base",
          "model_module_version": "1.2.0",
          "model_name": "LayoutModel",
          "state": {
            "_model_module": "@jupyter-widgets/base",
            "_model_module_version": "1.2.0",
            "_model_name": "LayoutModel",
            "_view_count": null,
            "_view_module": "@jupyter-widgets/base",
            "_view_module_version": "1.2.0",
            "_view_name": "LayoutView",
            "align_content": null,
            "align_items": null,
            "align_self": null,
            "border": null,
            "bottom": null,
            "display": null,
            "flex": null,
            "flex_flow": null,
            "grid_area": null,
            "grid_auto_columns": null,
            "grid_auto_flow": null,
            "grid_auto_rows": null,
            "grid_column": null,
            "grid_gap": null,
            "grid_row": null,
            "grid_template_areas": null,
            "grid_template_columns": null,
            "grid_template_rows": null,
            "height": null,
            "justify_content": null,
            "justify_items": null,
            "left": null,
            "margin": null,
            "max_height": null,
            "max_width": null,
            "min_height": null,
            "min_width": null,
            "object_fit": null,
            "object_position": null,
            "order": null,
            "overflow": null,
            "overflow_x": null,
            "overflow_y": null,
            "padding": null,
            "right": null,
            "top": null,
            "visibility": null,
            "width": null
          }
        },
        "419b8fd8b9fc4ea1938e12d9f45fb549": {
          "model_module": "@jupyter-widgets/controls",
          "model_module_version": "1.5.0",
          "model_name": "ProgressStyleModel",
          "state": {
            "_model_module": "@jupyter-widgets/controls",
            "_model_module_version": "1.5.0",
            "_model_name": "ProgressStyleModel",
            "_view_count": null,
            "_view_module": "@jupyter-widgets/base",
            "_view_module_version": "1.2.0",
            "_view_name": "StyleView",
            "bar_color": null,
            "description_width": ""
          }
        },
        "42ec57dc027d4f6ea5e09c3d43451cf7": {
          "model_module": "@jupyter-widgets/base",
          "model_module_version": "1.2.0",
          "model_name": "LayoutModel",
          "state": {
            "_model_module": "@jupyter-widgets/base",
            "_model_module_version": "1.2.0",
            "_model_name": "LayoutModel",
            "_view_count": null,
            "_view_module": "@jupyter-widgets/base",
            "_view_module_version": "1.2.0",
            "_view_name": "LayoutView",
            "align_content": null,
            "align_items": null,
            "align_self": null,
            "border": null,
            "bottom": null,
            "display": null,
            "flex": null,
            "flex_flow": null,
            "grid_area": null,
            "grid_auto_columns": null,
            "grid_auto_flow": null,
            "grid_auto_rows": null,
            "grid_column": null,
            "grid_gap": null,
            "grid_row": null,
            "grid_template_areas": null,
            "grid_template_columns": null,
            "grid_template_rows": null,
            "height": null,
            "justify_content": null,
            "justify_items": null,
            "left": null,
            "margin": null,
            "max_height": null,
            "max_width": null,
            "min_height": null,
            "min_width": null,
            "object_fit": null,
            "object_position": null,
            "order": null,
            "overflow": null,
            "overflow_x": null,
            "overflow_y": null,
            "padding": null,
            "right": null,
            "top": null,
            "visibility": null,
            "width": null
          }
        },
        "42ee72df4ac04c95b1ea44700ec23b65": {
          "model_module": "@jupyter-widgets/controls",
          "model_module_version": "1.5.0",
          "model_name": "FloatProgressModel",
          "state": {
            "_dom_classes": [],
            "_model_module": "@jupyter-widgets/controls",
            "_model_module_version": "1.5.0",
            "_model_name": "FloatProgressModel",
            "_view_count": null,
            "_view_module": "@jupyter-widgets/controls",
            "_view_module_version": "1.5.0",
            "_view_name": "ProgressView",
            "bar_style": "success",
            "description": "",
            "description_tooltip": null,
            "layout": "IPY_MODEL_58a84b1678194a89a8bd8db268e78e64",
            "max": 1355863,
            "min": 0,
            "orientation": "horizontal",
            "style": "IPY_MODEL_82d107921c944e1aa0122cdaff972ec8",
            "value": 1355863
          }
        },
        "435babbd0db54ea7a2aa3d79d3792e28": {
          "model_module": "@jupyter-widgets/controls",
          "model_module_version": "1.5.0",
          "model_name": "DescriptionStyleModel",
          "state": {
            "_model_module": "@jupyter-widgets/controls",
            "_model_module_version": "1.5.0",
            "_model_name": "DescriptionStyleModel",
            "_view_count": null,
            "_view_module": "@jupyter-widgets/base",
            "_view_module_version": "1.2.0",
            "_view_name": "StyleView",
            "description_width": ""
          }
        },
        "458cf6542c694839b20f9a758e6b981c": {
          "model_module": "@jupyter-widgets/base",
          "model_module_version": "1.2.0",
          "model_name": "LayoutModel",
          "state": {
            "_model_module": "@jupyter-widgets/base",
            "_model_module_version": "1.2.0",
            "_model_name": "LayoutModel",
            "_view_count": null,
            "_view_module": "@jupyter-widgets/base",
            "_view_module_version": "1.2.0",
            "_view_name": "LayoutView",
            "align_content": null,
            "align_items": null,
            "align_self": null,
            "border": null,
            "bottom": null,
            "display": null,
            "flex": null,
            "flex_flow": null,
            "grid_area": null,
            "grid_auto_columns": null,
            "grid_auto_flow": null,
            "grid_auto_rows": null,
            "grid_column": null,
            "grid_gap": null,
            "grid_row": null,
            "grid_template_areas": null,
            "grid_template_columns": null,
            "grid_template_rows": null,
            "height": null,
            "justify_content": null,
            "justify_items": null,
            "left": null,
            "margin": null,
            "max_height": null,
            "max_width": null,
            "min_height": null,
            "min_width": null,
            "object_fit": null,
            "object_position": null,
            "order": null,
            "overflow": null,
            "overflow_x": null,
            "overflow_y": null,
            "padding": null,
            "right": null,
            "top": null,
            "visibility": null,
            "width": null
          }
        },
        "479bb2ca03584e9692715f9e2cc5f8cf": {
          "model_module": "@jupyter-widgets/base",
          "model_module_version": "1.2.0",
          "model_name": "LayoutModel",
          "state": {
            "_model_module": "@jupyter-widgets/base",
            "_model_module_version": "1.2.0",
            "_model_name": "LayoutModel",
            "_view_count": null,
            "_view_module": "@jupyter-widgets/base",
            "_view_module_version": "1.2.0",
            "_view_name": "LayoutView",
            "align_content": null,
            "align_items": null,
            "align_self": null,
            "border": null,
            "bottom": null,
            "display": null,
            "flex": null,
            "flex_flow": null,
            "grid_area": null,
            "grid_auto_columns": null,
            "grid_auto_flow": null,
            "grid_auto_rows": null,
            "grid_column": null,
            "grid_gap": null,
            "grid_row": null,
            "grid_template_areas": null,
            "grid_template_columns": null,
            "grid_template_rows": null,
            "height": null,
            "justify_content": null,
            "justify_items": null,
            "left": null,
            "margin": null,
            "max_height": null,
            "max_width": null,
            "min_height": null,
            "min_width": null,
            "object_fit": null,
            "object_position": null,
            "order": null,
            "overflow": null,
            "overflow_x": null,
            "overflow_y": null,
            "padding": null,
            "right": null,
            "top": null,
            "visibility": null,
            "width": null
          }
        },
        "47dd93f324934590aa946bffb4c0c53a": {
          "model_module": "@jupyter-widgets/controls",
          "model_module_version": "1.5.0",
          "model_name": "HTMLModel",
          "state": {
            "_dom_classes": [],
            "_model_module": "@jupyter-widgets/controls",
            "_model_module_version": "1.5.0",
            "_model_name": "HTMLModel",
            "_view_count": null,
            "_view_module": "@jupyter-widgets/controls",
            "_view_module_version": "1.5.0",
            "_view_name": "HTMLView",
            "description": "",
            "description_tooltip": null,
            "layout": "IPY_MODEL_c463b57d14464ad4967ca97987d696aa",
            "placeholder": "​",
            "style": "IPY_MODEL_af5c0fbe70f04d5eb14b4b962da7ec20",
            "value": " 69.5k/69.5k [00:00&lt;00:00, 4.20MB/s]"
          }
        },
        "4d50ef0488784d6188e439de13cb3233": {
          "model_module": "@jupyter-widgets/controls",
          "model_module_version": "1.5.0",
          "model_name": "HTMLModel",
          "state": {
            "_dom_classes": [],
            "_model_module": "@jupyter-widgets/controls",
            "_model_module_version": "1.5.0",
            "_model_name": "HTMLModel",
            "_view_count": null,
            "_view_module": "@jupyter-widgets/controls",
            "_view_module_version": "1.5.0",
            "_view_name": "HTMLView",
            "description": "",
            "description_tooltip": null,
            "layout": "IPY_MODEL_dce74c694de54558a4806af0f2700be0",
            "placeholder": "​",
            "style": "IPY_MODEL_b5b95153513e47f6813774f44657d3dc",
            "value": " 160/160 [00:00&lt;00:00, 8.20kB/s]"
          }
        },
        "52b0b031fc674c3581cb791f04e0566b": {
          "model_module": "@jupyter-widgets/controls",
          "model_module_version": "1.5.0",
          "model_name": "ProgressStyleModel",
          "state": {
            "_model_module": "@jupyter-widgets/controls",
            "_model_module_version": "1.5.0",
            "_model_name": "ProgressStyleModel",
            "_view_count": null,
            "_view_module": "@jupyter-widgets/base",
            "_view_module_version": "1.2.0",
            "_view_name": "StyleView",
            "bar_color": null,
            "description_width": ""
          }
        },
        "52f134b11feb4be1ba092ce2e96d25d0": {
          "model_module": "@jupyter-widgets/controls",
          "model_module_version": "1.5.0",
          "model_name": "DescriptionStyleModel",
          "state": {
            "_model_module": "@jupyter-widgets/controls",
            "_model_module_version": "1.5.0",
            "_model_name": "DescriptionStyleModel",
            "_view_count": null,
            "_view_module": "@jupyter-widgets/base",
            "_view_module_version": "1.2.0",
            "_view_name": "StyleView",
            "description_width": ""
          }
        },
        "54aaa403a0bc440caeedde366b839aed": {
          "model_module": "@jupyter-widgets/base",
          "model_module_version": "1.2.0",
          "model_name": "LayoutModel",
          "state": {
            "_model_module": "@jupyter-widgets/base",
            "_model_module_version": "1.2.0",
            "_model_name": "LayoutModel",
            "_view_count": null,
            "_view_module": "@jupyter-widgets/base",
            "_view_module_version": "1.2.0",
            "_view_name": "LayoutView",
            "align_content": null,
            "align_items": null,
            "align_self": null,
            "border": null,
            "bottom": null,
            "display": null,
            "flex": null,
            "flex_flow": null,
            "grid_area": null,
            "grid_auto_columns": null,
            "grid_auto_flow": null,
            "grid_auto_rows": null,
            "grid_column": null,
            "grid_gap": null,
            "grid_row": null,
            "grid_template_areas": null,
            "grid_template_columns": null,
            "grid_template_rows": null,
            "height": null,
            "justify_content": null,
            "justify_items": null,
            "left": null,
            "margin": null,
            "max_height": null,
            "max_width": null,
            "min_height": null,
            "min_width": null,
            "object_fit": null,
            "object_position": null,
            "order": null,
            "overflow": null,
            "overflow_x": null,
            "overflow_y": null,
            "padding": null,
            "right": null,
            "top": null,
            "visibility": null,
            "width": null
          }
        },
        "5565eb6a9f3c49d081e6549dc1cdf70d": {
          "model_module": "@jupyter-widgets/controls",
          "model_module_version": "1.5.0",
          "model_name": "DescriptionStyleModel",
          "state": {
            "_model_module": "@jupyter-widgets/controls",
            "_model_module_version": "1.5.0",
            "_model_name": "DescriptionStyleModel",
            "_view_count": null,
            "_view_module": "@jupyter-widgets/base",
            "_view_module_version": "1.2.0",
            "_view_name": "StyleView",
            "description_width": ""
          }
        },
        "57d4a47acb6b4eb784e0a5793bcf2d01": {
          "model_module": "@jupyter-widgets/base",
          "model_module_version": "1.2.0",
          "model_name": "LayoutModel",
          "state": {
            "_model_module": "@jupyter-widgets/base",
            "_model_module_version": "1.2.0",
            "_model_name": "LayoutModel",
            "_view_count": null,
            "_view_module": "@jupyter-widgets/base",
            "_view_module_version": "1.2.0",
            "_view_name": "LayoutView",
            "align_content": null,
            "align_items": null,
            "align_self": null,
            "border": null,
            "bottom": null,
            "display": null,
            "flex": null,
            "flex_flow": null,
            "grid_area": null,
            "grid_auto_columns": null,
            "grid_auto_flow": null,
            "grid_auto_rows": null,
            "grid_column": null,
            "grid_gap": null,
            "grid_row": null,
            "grid_template_areas": null,
            "grid_template_columns": null,
            "grid_template_rows": null,
            "height": null,
            "justify_content": null,
            "justify_items": null,
            "left": null,
            "margin": null,
            "max_height": null,
            "max_width": null,
            "min_height": null,
            "min_width": null,
            "object_fit": null,
            "object_position": null,
            "order": null,
            "overflow": null,
            "overflow_x": null,
            "overflow_y": null,
            "padding": null,
            "right": null,
            "top": null,
            "visibility": null,
            "width": null
          }
        },
        "58a84b1678194a89a8bd8db268e78e64": {
          "model_module": "@jupyter-widgets/base",
          "model_module_version": "1.2.0",
          "model_name": "LayoutModel",
          "state": {
            "_model_module": "@jupyter-widgets/base",
            "_model_module_version": "1.2.0",
            "_model_name": "LayoutModel",
            "_view_count": null,
            "_view_module": "@jupyter-widgets/base",
            "_view_module_version": "1.2.0",
            "_view_name": "LayoutView",
            "align_content": null,
            "align_items": null,
            "align_self": null,
            "border": null,
            "bottom": null,
            "display": null,
            "flex": null,
            "flex_flow": null,
            "grid_area": null,
            "grid_auto_columns": null,
            "grid_auto_flow": null,
            "grid_auto_rows": null,
            "grid_column": null,
            "grid_gap": null,
            "grid_row": null,
            "grid_template_areas": null,
            "grid_template_columns": null,
            "grid_template_rows": null,
            "height": null,
            "justify_content": null,
            "justify_items": null,
            "left": null,
            "margin": null,
            "max_height": null,
            "max_width": null,
            "min_height": null,
            "min_width": null,
            "object_fit": null,
            "object_position": null,
            "order": null,
            "overflow": null,
            "overflow_x": null,
            "overflow_y": null,
            "padding": null,
            "right": null,
            "top": null,
            "visibility": null,
            "width": null
          }
        },
        "6300fdbc52b9453687f3eef89833a348": {
          "model_module": "@jupyter-widgets/controls",
          "model_module_version": "1.5.0",
          "model_name": "FloatProgressModel",
          "state": {
            "_dom_classes": [],
            "_model_module": "@jupyter-widgets/controls",
            "_model_module_version": "1.5.0",
            "_model_name": "FloatProgressModel",
            "_view_count": null,
            "_view_module": "@jupyter-widgets/controls",
            "_view_module_version": "1.5.0",
            "_view_name": "ProgressView",
            "bar_style": "success",
            "description": "",
            "description_tooltip": null,
            "layout": "IPY_MODEL_dfc32ff49f844a84b43bc12df1e20832",
            "max": 87287364,
            "min": 0,
            "orientation": "horizontal",
            "style": "IPY_MODEL_9f0a746892b64ad09ce813a07b96d5e7",
            "value": 87287364
          }
        },
        "64cd6e35cd7e4ce79c861cc7311f9e80": {
          "model_module": "@jupyter-widgets/controls",
          "model_module_version": "1.5.0",
          "model_name": "HTMLModel",
          "state": {
            "_dom_classes": [],
            "_model_module": "@jupyter-widgets/controls",
            "_model_module_version": "1.5.0",
            "_model_name": "HTMLModel",
            "_view_count": null,
            "_view_module": "@jupyter-widgets/controls",
            "_view_module_version": "1.5.0",
            "_view_name": "HTMLView",
            "description": "",
            "description_tooltip": null,
            "layout": "IPY_MODEL_42ec57dc027d4f6ea5e09c3d43451cf7",
            "placeholder": "​",
            "style": "IPY_MODEL_de412ed5104e476d97c8c22bdc5ffcb7",
            "value": " 71.8k/71.8k [00:00&lt;00:00, 5.04MB/s]"
          }
        },
        "6794350f109e47148fc0a7f41db3e57c": {
          "model_module": "@jupyter-widgets/base",
          "model_module_version": "1.2.0",
          "model_name": "LayoutModel",
          "state": {
            "_model_module": "@jupyter-widgets/base",
            "_model_module_version": "1.2.0",
            "_model_name": "LayoutModel",
            "_view_count": null,
            "_view_module": "@jupyter-widgets/base",
            "_view_module_version": "1.2.0",
            "_view_name": "LayoutView",
            "align_content": null,
            "align_items": null,
            "align_self": null,
            "border": null,
            "bottom": null,
            "display": null,
            "flex": null,
            "flex_flow": null,
            "grid_area": null,
            "grid_auto_columns": null,
            "grid_auto_flow": null,
            "grid_auto_rows": null,
            "grid_column": null,
            "grid_gap": null,
            "grid_row": null,
            "grid_template_areas": null,
            "grid_template_columns": null,
            "grid_template_rows": null,
            "height": null,
            "justify_content": null,
            "justify_items": null,
            "left": null,
            "margin": null,
            "max_height": null,
            "max_width": null,
            "min_height": null,
            "min_width": null,
            "object_fit": null,
            "object_position": null,
            "order": null,
            "overflow": null,
            "overflow_x": null,
            "overflow_y": null,
            "padding": null,
            "right": null,
            "top": null,
            "visibility": null,
            "width": null
          }
        },
        "6b31d71879684fd4946c23396798f4d3": {
          "model_module": "@jupyter-widgets/controls",
          "model_module_version": "1.5.0",
          "model_name": "HTMLModel",
          "state": {
            "_dom_classes": [],
            "_model_module": "@jupyter-widgets/controls",
            "_model_module_version": "1.5.0",
            "_model_name": "HTMLModel",
            "_view_count": null,
            "_view_module": "@jupyter-widgets/controls",
            "_view_module_version": "1.5.0",
            "_view_name": "HTMLView",
            "description": "",
            "description_tooltip": null,
            "layout": "IPY_MODEL_7bc92338d0c14131b2ac84ebfc008a5b",
            "placeholder": "​",
            "style": "IPY_MODEL_5565eb6a9f3c49d081e6549dc1cdf70d",
            "value": "tokenizer.json: 100%"
          }
        },
        "7652c7202d684c779e23e5b17c81b4be": {
          "model_module": "@jupyter-widgets/controls",
          "model_module_version": "1.5.0",
          "model_name": "HTMLModel",
          "state": {
            "_dom_classes": [],
            "_model_module": "@jupyter-widgets/controls",
            "_model_module_version": "1.5.0",
            "_model_name": "HTMLModel",
            "_view_count": null,
            "_view_module": "@jupyter-widgets/controls",
            "_view_module_version": "1.5.0",
            "_view_name": "HTMLView",
            "description": "",
            "description_tooltip": null,
            "layout": "IPY_MODEL_9adeea39234c4062b70674906c2660a5",
            "placeholder": "​",
            "style": "IPY_MODEL_e6f3758288ec41928b96473652cf7720",
            "value": "config.json: 100%"
          }
        },
        "78eac6a3d48a4cac91aac78a34e366a7": {
          "model_module": "@jupyter-widgets/controls",
          "model_module_version": "1.5.0",
          "model_name": "HTMLModel",
          "state": {
            "_dom_classes": [],
            "_model_module": "@jupyter-widgets/controls",
            "_model_module_version": "1.5.0",
            "_model_name": "HTMLModel",
            "_view_count": null,
            "_view_module": "@jupyter-widgets/controls",
            "_view_module_version": "1.5.0",
            "_view_name": "HTMLView",
            "description": "",
            "description_tooltip": null,
            "layout": "IPY_MODEL_458cf6542c694839b20f9a758e6b981c",
            "placeholder": "​",
            "style": "IPY_MODEL_52f134b11feb4be1ba092ce2e96d25d0",
            "value": "config.json: 100%"
          }
        },
        "7a99e903455645b9bffef25e0648a633": {
          "model_module": "@jupyter-widgets/controls",
          "model_module_version": "1.5.0",
          "model_name": "FloatProgressModel",
          "state": {
            "_dom_classes": [],
            "_model_module": "@jupyter-widgets/controls",
            "_model_module_version": "1.5.0",
            "_model_name": "FloatProgressModel",
            "_view_count": null,
            "_view_module": "@jupyter-widgets/controls",
            "_view_module_version": "1.5.0",
            "_view_name": "ProgressView",
            "bar_style": "success",
            "description": "",
            "description_tooltip": null,
            "layout": "IPY_MODEL_57d4a47acb6b4eb784e0a5793bcf2d01",
            "max": 71813,
            "min": 0,
            "orientation": "horizontal",
            "style": "IPY_MODEL_b19b93dbeaa04083908c12a57a07880d",
            "value": 71813
          }
        },
        "7bc92338d0c14131b2ac84ebfc008a5b": {
          "model_module": "@jupyter-widgets/base",
          "model_module_version": "1.2.0",
          "model_name": "LayoutModel",
          "state": {
            "_model_module": "@jupyter-widgets/base",
            "_model_module_version": "1.2.0",
            "_model_name": "LayoutModel",
            "_view_count": null,
            "_view_module": "@jupyter-widgets/base",
            "_view_module_version": "1.2.0",
            "_view_name": "LayoutView",
            "align_content": null,
            "align_items": null,
            "align_self": null,
            "border": null,
            "bottom": null,
            "display": null,
            "flex": null,
            "flex_flow": null,
            "grid_area": null,
            "grid_auto_columns": null,
            "grid_auto_flow": null,
            "grid_auto_rows": null,
            "grid_column": null,
            "grid_gap": null,
            "grid_row": null,
            "grid_template_areas": null,
            "grid_template_columns": null,
            "grid_template_rows": null,
            "height": null,
            "justify_content": null,
            "justify_items": null,
            "left": null,
            "margin": null,
            "max_height": null,
            "max_width": null,
            "min_height": null,
            "min_width": null,
            "object_fit": null,
            "object_position": null,
            "order": null,
            "overflow": null,
            "overflow_x": null,
            "overflow_y": null,
            "padding": null,
            "right": null,
            "top": null,
            "visibility": null,
            "width": null
          }
        },
        "7bcc83837d05456c87af808dd5b43219": {
          "model_module": "@jupyter-widgets/base",
          "model_module_version": "1.2.0",
          "model_name": "LayoutModel",
          "state": {
            "_model_module": "@jupyter-widgets/base",
            "_model_module_version": "1.2.0",
            "_model_name": "LayoutModel",
            "_view_count": null,
            "_view_module": "@jupyter-widgets/base",
            "_view_module_version": "1.2.0",
            "_view_name": "LayoutView",
            "align_content": null,
            "align_items": null,
            "align_self": null,
            "border": null,
            "bottom": null,
            "display": null,
            "flex": null,
            "flex_flow": null,
            "grid_area": null,
            "grid_auto_columns": null,
            "grid_auto_flow": null,
            "grid_auto_rows": null,
            "grid_column": null,
            "grid_gap": null,
            "grid_row": null,
            "grid_template_areas": null,
            "grid_template_columns": null,
            "grid_template_rows": null,
            "height": null,
            "justify_content": null,
            "justify_items": null,
            "left": null,
            "margin": null,
            "max_height": null,
            "max_width": null,
            "min_height": null,
            "min_width": null,
            "object_fit": null,
            "object_position": null,
            "order": null,
            "overflow": null,
            "overflow_x": null,
            "overflow_y": null,
            "padding": null,
            "right": null,
            "top": null,
            "visibility": null,
            "width": null
          }
        },
        "7c14463dd5724cd588b85a4f4329bfee": {
          "model_module": "@jupyter-widgets/base",
          "model_module_version": "1.2.0",
          "model_name": "LayoutModel",
          "state": {
            "_model_module": "@jupyter-widgets/base",
            "_model_module_version": "1.2.0",
            "_model_name": "LayoutModel",
            "_view_count": null,
            "_view_module": "@jupyter-widgets/base",
            "_view_module_version": "1.2.0",
            "_view_name": "LayoutView",
            "align_content": null,
            "align_items": null,
            "align_self": null,
            "border": null,
            "bottom": null,
            "display": null,
            "flex": null,
            "flex_flow": null,
            "grid_area": null,
            "grid_auto_columns": null,
            "grid_auto_flow": null,
            "grid_auto_rows": null,
            "grid_column": null,
            "grid_gap": null,
            "grid_row": null,
            "grid_template_areas": null,
            "grid_template_columns": null,
            "grid_template_rows": null,
            "height": null,
            "justify_content": null,
            "justify_items": null,
            "left": null,
            "margin": null,
            "max_height": null,
            "max_width": null,
            "min_height": null,
            "min_width": null,
            "object_fit": null,
            "object_position": null,
            "order": null,
            "overflow": null,
            "overflow_x": null,
            "overflow_y": null,
            "padding": null,
            "right": null,
            "top": null,
            "visibility": null,
            "width": null
          }
        },
        "7c48a5ef79f943dfac09958b52516977": {
          "model_module": "@jupyter-widgets/controls",
          "model_module_version": "1.5.0",
          "model_name": "HTMLModel",
          "state": {
            "_dom_classes": [],
            "_model_module": "@jupyter-widgets/controls",
            "_model_module_version": "1.5.0",
            "_model_name": "HTMLModel",
            "_view_count": null,
            "_view_module": "@jupyter-widgets/controls",
            "_view_module_version": "1.5.0",
            "_view_name": "HTMLView",
            "description": "",
            "description_tooltip": null,
            "layout": "IPY_MODEL_926e32dada654773844d318a4ad6b790",
            "placeholder": "​",
            "style": "IPY_MODEL_de21e8df1a9d4b59b77cb56b4934a2df",
            "value": " 1.42G/1.42G [00:05&lt;00:00, 218MB/s]"
          }
        },
        "7c571d254f4145a3bac5cfeccf1e968f": {
          "model_module": "@jupyter-widgets/controls",
          "model_module_version": "1.5.0",
          "model_name": "DescriptionStyleModel",
          "state": {
            "_model_module": "@jupyter-widgets/controls",
            "_model_module_version": "1.5.0",
            "_model_name": "DescriptionStyleModel",
            "_view_count": null,
            "_view_module": "@jupyter-widgets/base",
            "_view_module_version": "1.2.0",
            "_view_name": "StyleView",
            "description_width": ""
          }
        },
        "80660a3792e94e29849cd4cc48281280": {
          "model_module": "@jupyter-widgets/controls",
          "model_module_version": "1.5.0",
          "model_name": "DescriptionStyleModel",
          "state": {
            "_model_module": "@jupyter-widgets/controls",
            "_model_module_version": "1.5.0",
            "_model_name": "DescriptionStyleModel",
            "_view_count": null,
            "_view_module": "@jupyter-widgets/base",
            "_view_module_version": "1.2.0",
            "_view_name": "StyleView",
            "description_width": ""
          }
        },
        "82d107921c944e1aa0122cdaff972ec8": {
          "model_module": "@jupyter-widgets/controls",
          "model_module_version": "1.5.0",
          "model_name": "ProgressStyleModel",
          "state": {
            "_model_module": "@jupyter-widgets/controls",
            "_model_module_version": "1.5.0",
            "_model_name": "ProgressStyleModel",
            "_view_count": null,
            "_view_module": "@jupyter-widgets/base",
            "_view_module_version": "1.2.0",
            "_view_name": "StyleView",
            "bar_color": null,
            "description_width": ""
          }
        },
        "82efd9cd21ca47e493eb69821a2ff6ce": {
          "model_module": "@jupyter-widgets/base",
          "model_module_version": "1.2.0",
          "model_name": "LayoutModel",
          "state": {
            "_model_module": "@jupyter-widgets/base",
            "_model_module_version": "1.2.0",
            "_model_name": "LayoutModel",
            "_view_count": null,
            "_view_module": "@jupyter-widgets/base",
            "_view_module_version": "1.2.0",
            "_view_name": "LayoutView",
            "align_content": null,
            "align_items": null,
            "align_self": null,
            "border": null,
            "bottom": null,
            "display": null,
            "flex": null,
            "flex_flow": null,
            "grid_area": null,
            "grid_auto_columns": null,
            "grid_auto_flow": null,
            "grid_auto_rows": null,
            "grid_column": null,
            "grid_gap": null,
            "grid_row": null,
            "grid_template_areas": null,
            "grid_template_columns": null,
            "grid_template_rows": null,
            "height": null,
            "justify_content": null,
            "justify_items": null,
            "left": null,
            "margin": null,
            "max_height": null,
            "max_width": null,
            "min_height": null,
            "min_width": null,
            "object_fit": null,
            "object_position": null,
            "order": null,
            "overflow": null,
            "overflow_x": null,
            "overflow_y": null,
            "padding": null,
            "right": null,
            "top": null,
            "visibility": null,
            "width": null
          }
        },
        "83f4e5a9c87e470f8481706cc7b7ef22": {
          "model_module": "@jupyter-widgets/base",
          "model_module_version": "1.2.0",
          "model_name": "LayoutModel",
          "state": {
            "_model_module": "@jupyter-widgets/base",
            "_model_module_version": "1.2.0",
            "_model_name": "LayoutModel",
            "_view_count": null,
            "_view_module": "@jupyter-widgets/base",
            "_view_module_version": "1.2.0",
            "_view_name": "LayoutView",
            "align_content": null,
            "align_items": null,
            "align_self": null,
            "border": null,
            "bottom": null,
            "display": null,
            "flex": null,
            "flex_flow": null,
            "grid_area": null,
            "grid_auto_columns": null,
            "grid_auto_flow": null,
            "grid_auto_rows": null,
            "grid_column": null,
            "grid_gap": null,
            "grid_row": null,
            "grid_template_areas": null,
            "grid_template_columns": null,
            "grid_template_rows": null,
            "height": null,
            "justify_content": null,
            "justify_items": null,
            "left": null,
            "margin": null,
            "max_height": null,
            "max_width": null,
            "min_height": null,
            "min_width": null,
            "object_fit": null,
            "object_position": null,
            "order": null,
            "overflow": null,
            "overflow_x": null,
            "overflow_y": null,
            "padding": null,
            "right": null,
            "top": null,
            "visibility": null,
            "width": null
          }
        },
        "89a6bd6959b54e35bf974f219fa9b2db": {
          "model_module": "@jupyter-widgets/controls",
          "model_module_version": "1.5.0",
          "model_name": "HBoxModel",
          "state": {
            "_dom_classes": [],
            "_model_module": "@jupyter-widgets/controls",
            "_model_module_version": "1.5.0",
            "_model_name": "HBoxModel",
            "_view_count": null,
            "_view_module": "@jupyter-widgets/controls",
            "_view_module_version": "1.5.0",
            "_view_name": "HBoxView",
            "box_style": "",
            "children": [
              "IPY_MODEL_2500e3dfb28049c09682c161e6375026",
              "IPY_MODEL_7a99e903455645b9bffef25e0648a633",
              "IPY_MODEL_64cd6e35cd7e4ce79c861cc7311f9e80"
            ],
            "layout": "IPY_MODEL_f3b7806f3cfe4d259448e4425e3978ca"
          }
        },
        "8bf7357e478141d88a3effcaf5dc1d87": {
          "model_module": "@jupyter-widgets/base",
          "model_module_version": "1.2.0",
          "model_name": "LayoutModel",
          "state": {
            "_model_module": "@jupyter-widgets/base",
            "_model_module_version": "1.2.0",
            "_model_name": "LayoutModel",
            "_view_count": null,
            "_view_module": "@jupyter-widgets/base",
            "_view_module_version": "1.2.0",
            "_view_name": "LayoutView",
            "align_content": null,
            "align_items": null,
            "align_self": null,
            "border": null,
            "bottom": null,
            "display": null,
            "flex": null,
            "flex_flow": null,
            "grid_area": null,
            "grid_auto_columns": null,
            "grid_auto_flow": null,
            "grid_auto_rows": null,
            "grid_column": null,
            "grid_gap": null,
            "grid_row": null,
            "grid_template_areas": null,
            "grid_template_columns": null,
            "grid_template_rows": null,
            "height": null,
            "justify_content": null,
            "justify_items": null,
            "left": null,
            "margin": null,
            "max_height": null,
            "max_width": null,
            "min_height": null,
            "min_width": null,
            "object_fit": null,
            "object_position": null,
            "order": null,
            "overflow": null,
            "overflow_x": null,
            "overflow_y": null,
            "padding": null,
            "right": null,
            "top": null,
            "visibility": null,
            "width": null
          }
        },
        "8f8fd9119d704c349d42d58efb617fb2": {
          "model_module": "@jupyter-widgets/base",
          "model_module_version": "1.2.0",
          "model_name": "LayoutModel",
          "state": {
            "_model_module": "@jupyter-widgets/base",
            "_model_module_version": "1.2.0",
            "_model_name": "LayoutModel",
            "_view_count": null,
            "_view_module": "@jupyter-widgets/base",
            "_view_module_version": "1.2.0",
            "_view_name": "LayoutView",
            "align_content": null,
            "align_items": null,
            "align_self": null,
            "border": null,
            "bottom": null,
            "display": null,
            "flex": null,
            "flex_flow": null,
            "grid_area": null,
            "grid_auto_columns": null,
            "grid_auto_flow": null,
            "grid_auto_rows": null,
            "grid_column": null,
            "grid_gap": null,
            "grid_row": null,
            "grid_template_areas": null,
            "grid_template_columns": null,
            "grid_template_rows": null,
            "height": null,
            "justify_content": null,
            "justify_items": null,
            "left": null,
            "margin": null,
            "max_height": null,
            "max_width": null,
            "min_height": null,
            "min_width": null,
            "object_fit": null,
            "object_position": null,
            "order": null,
            "overflow": null,
            "overflow_x": null,
            "overflow_y": null,
            "padding": null,
            "right": null,
            "top": null,
            "visibility": null,
            "width": null
          }
        },
        "9112d657be964f46b97a918de2d7b444": {
          "model_module": "@jupyter-widgets/base",
          "model_module_version": "1.2.0",
          "model_name": "LayoutModel",
          "state": {
            "_model_module": "@jupyter-widgets/base",
            "_model_module_version": "1.2.0",
            "_model_name": "LayoutModel",
            "_view_count": null,
            "_view_module": "@jupyter-widgets/base",
            "_view_module_version": "1.2.0",
            "_view_name": "LayoutView",
            "align_content": null,
            "align_items": null,
            "align_self": null,
            "border": null,
            "bottom": null,
            "display": null,
            "flex": null,
            "flex_flow": null,
            "grid_area": null,
            "grid_auto_columns": null,
            "grid_auto_flow": null,
            "grid_auto_rows": null,
            "grid_column": null,
            "grid_gap": null,
            "grid_row": null,
            "grid_template_areas": null,
            "grid_template_columns": null,
            "grid_template_rows": null,
            "height": null,
            "justify_content": null,
            "justify_items": null,
            "left": null,
            "margin": null,
            "max_height": null,
            "max_width": null,
            "min_height": null,
            "min_width": null,
            "object_fit": null,
            "object_position": null,
            "order": null,
            "overflow": null,
            "overflow_x": null,
            "overflow_y": null,
            "padding": null,
            "right": null,
            "top": null,
            "visibility": null,
            "width": null
          }
        },
        "913f528da5db440aa357926161819997": {
          "model_module": "@jupyter-widgets/base",
          "model_module_version": "1.2.0",
          "model_name": "LayoutModel",
          "state": {
            "_model_module": "@jupyter-widgets/base",
            "_model_module_version": "1.2.0",
            "_model_name": "LayoutModel",
            "_view_count": null,
            "_view_module": "@jupyter-widgets/base",
            "_view_module_version": "1.2.0",
            "_view_name": "LayoutView",
            "align_content": null,
            "align_items": null,
            "align_self": null,
            "border": null,
            "bottom": null,
            "display": null,
            "flex": null,
            "flex_flow": null,
            "grid_area": null,
            "grid_auto_columns": null,
            "grid_auto_flow": null,
            "grid_auto_rows": null,
            "grid_column": null,
            "grid_gap": null,
            "grid_row": null,
            "grid_template_areas": null,
            "grid_template_columns": null,
            "grid_template_rows": null,
            "height": null,
            "justify_content": null,
            "justify_items": null,
            "left": null,
            "margin": null,
            "max_height": null,
            "max_width": null,
            "min_height": null,
            "min_width": null,
            "object_fit": null,
            "object_position": null,
            "order": null,
            "overflow": null,
            "overflow_x": null,
            "overflow_y": null,
            "padding": null,
            "right": null,
            "top": null,
            "visibility": null,
            "width": null
          }
        },
        "926e32dada654773844d318a4ad6b790": {
          "model_module": "@jupyter-widgets/base",
          "model_module_version": "1.2.0",
          "model_name": "LayoutModel",
          "state": {
            "_model_module": "@jupyter-widgets/base",
            "_model_module_version": "1.2.0",
            "_model_name": "LayoutModel",
            "_view_count": null,
            "_view_module": "@jupyter-widgets/base",
            "_view_module_version": "1.2.0",
            "_view_name": "LayoutView",
            "align_content": null,
            "align_items": null,
            "align_self": null,
            "border": null,
            "bottom": null,
            "display": null,
            "flex": null,
            "flex_flow": null,
            "grid_area": null,
            "grid_auto_columns": null,
            "grid_auto_flow": null,
            "grid_auto_rows": null,
            "grid_column": null,
            "grid_gap": null,
            "grid_row": null,
            "grid_template_areas": null,
            "grid_template_columns": null,
            "grid_template_rows": null,
            "height": null,
            "justify_content": null,
            "justify_items": null,
            "left": null,
            "margin": null,
            "max_height": null,
            "max_width": null,
            "min_height": null,
            "min_width": null,
            "object_fit": null,
            "object_position": null,
            "order": null,
            "overflow": null,
            "overflow_x": null,
            "overflow_y": null,
            "padding": null,
            "right": null,
            "top": null,
            "visibility": null,
            "width": null
          }
        },
        "92b34b60c1234c86b9e8c687db6e83b0": {
          "model_module": "@jupyter-widgets/controls",
          "model_module_version": "1.5.0",
          "model_name": "DescriptionStyleModel",
          "state": {
            "_model_module": "@jupyter-widgets/controls",
            "_model_module_version": "1.5.0",
            "_model_name": "DescriptionStyleModel",
            "_view_count": null,
            "_view_module": "@jupyter-widgets/base",
            "_view_module_version": "1.2.0",
            "_view_name": "StyleView",
            "description_width": ""
          }
        },
        "92e93fbfac4d4357bfe7af8d28909258": {
          "model_module": "@jupyter-widgets/base",
          "model_module_version": "1.2.0",
          "model_name": "LayoutModel",
          "state": {
            "_model_module": "@jupyter-widgets/base",
            "_model_module_version": "1.2.0",
            "_model_name": "LayoutModel",
            "_view_count": null,
            "_view_module": "@jupyter-widgets/base",
            "_view_module_version": "1.2.0",
            "_view_name": "LayoutView",
            "align_content": null,
            "align_items": null,
            "align_self": null,
            "border": null,
            "bottom": null,
            "display": null,
            "flex": null,
            "flex_flow": null,
            "grid_area": null,
            "grid_auto_columns": null,
            "grid_auto_flow": null,
            "grid_auto_rows": null,
            "grid_column": null,
            "grid_gap": null,
            "grid_row": null,
            "grid_template_areas": null,
            "grid_template_columns": null,
            "grid_template_rows": null,
            "height": null,
            "justify_content": null,
            "justify_items": null,
            "left": null,
            "margin": null,
            "max_height": null,
            "max_width": null,
            "min_height": null,
            "min_width": null,
            "object_fit": null,
            "object_position": null,
            "order": null,
            "overflow": null,
            "overflow_x": null,
            "overflow_y": null,
            "padding": null,
            "right": null,
            "top": null,
            "visibility": null,
            "width": null
          }
        },
        "95c1fe00bc3c4a9d96e17639862bca85": {
          "model_module": "@jupyter-widgets/base",
          "model_module_version": "1.2.0",
          "model_name": "LayoutModel",
          "state": {
            "_model_module": "@jupyter-widgets/base",
            "_model_module_version": "1.2.0",
            "_model_name": "LayoutModel",
            "_view_count": null,
            "_view_module": "@jupyter-widgets/base",
            "_view_module_version": "1.2.0",
            "_view_name": "LayoutView",
            "align_content": null,
            "align_items": null,
            "align_self": null,
            "border": null,
            "bottom": null,
            "display": null,
            "flex": null,
            "flex_flow": null,
            "grid_area": null,
            "grid_auto_columns": null,
            "grid_auto_flow": null,
            "grid_auto_rows": null,
            "grid_column": null,
            "grid_gap": null,
            "grid_row": null,
            "grid_template_areas": null,
            "grid_template_columns": null,
            "grid_template_rows": null,
            "height": null,
            "justify_content": null,
            "justify_items": null,
            "left": null,
            "margin": null,
            "max_height": null,
            "max_width": null,
            "min_height": null,
            "min_width": null,
            "object_fit": null,
            "object_position": null,
            "order": null,
            "overflow": null,
            "overflow_x": null,
            "overflow_y": null,
            "padding": null,
            "right": null,
            "top": null,
            "visibility": null,
            "width": null
          }
        },
        "9adeea39234c4062b70674906c2660a5": {
          "model_module": "@jupyter-widgets/base",
          "model_module_version": "1.2.0",
          "model_name": "LayoutModel",
          "state": {
            "_model_module": "@jupyter-widgets/base",
            "_model_module_version": "1.2.0",
            "_model_name": "LayoutModel",
            "_view_count": null,
            "_view_module": "@jupyter-widgets/base",
            "_view_module_version": "1.2.0",
            "_view_name": "LayoutView",
            "align_content": null,
            "align_items": null,
            "align_self": null,
            "border": null,
            "bottom": null,
            "display": null,
            "flex": null,
            "flex_flow": null,
            "grid_area": null,
            "grid_auto_columns": null,
            "grid_auto_flow": null,
            "grid_auto_rows": null,
            "grid_column": null,
            "grid_gap": null,
            "grid_row": null,
            "grid_template_areas": null,
            "grid_template_columns": null,
            "grid_template_rows": null,
            "height": null,
            "justify_content": null,
            "justify_items": null,
            "left": null,
            "margin": null,
            "max_height": null,
            "max_width": null,
            "min_height": null,
            "min_width": null,
            "object_fit": null,
            "object_position": null,
            "order": null,
            "overflow": null,
            "overflow_x": null,
            "overflow_y": null,
            "padding": null,
            "right": null,
            "top": null,
            "visibility": null,
            "width": null
          }
        },
        "9e8f9d45a3b24890bb0a29aaed28d908": {
          "model_module": "@jupyter-widgets/base",
          "model_module_version": "1.2.0",
          "model_name": "LayoutModel",
          "state": {
            "_model_module": "@jupyter-widgets/base",
            "_model_module_version": "1.2.0",
            "_model_name": "LayoutModel",
            "_view_count": null,
            "_view_module": "@jupyter-widgets/base",
            "_view_module_version": "1.2.0",
            "_view_name": "LayoutView",
            "align_content": null,
            "align_items": null,
            "align_self": null,
            "border": null,
            "bottom": null,
            "display": null,
            "flex": null,
            "flex_flow": null,
            "grid_area": null,
            "grid_auto_columns": null,
            "grid_auto_flow": null,
            "grid_auto_rows": null,
            "grid_column": null,
            "grid_gap": null,
            "grid_row": null,
            "grid_template_areas": null,
            "grid_template_columns": null,
            "grid_template_rows": null,
            "height": null,
            "justify_content": null,
            "justify_items": null,
            "left": null,
            "margin": null,
            "max_height": null,
            "max_width": null,
            "min_height": null,
            "min_width": null,
            "object_fit": null,
            "object_position": null,
            "order": null,
            "overflow": null,
            "overflow_x": null,
            "overflow_y": null,
            "padding": null,
            "right": null,
            "top": null,
            "visibility": null,
            "width": null
          }
        },
        "9f0a746892b64ad09ce813a07b96d5e7": {
          "model_module": "@jupyter-widgets/controls",
          "model_module_version": "1.5.0",
          "model_name": "ProgressStyleModel",
          "state": {
            "_model_module": "@jupyter-widgets/controls",
            "_model_module_version": "1.5.0",
            "_model_name": "ProgressStyleModel",
            "_view_count": null,
            "_view_module": "@jupyter-widgets/base",
            "_view_module_version": "1.2.0",
            "_view_name": "StyleView",
            "bar_color": null,
            "description_width": ""
          }
        },
        "a4468040f262491e8e9961f62a12ceaa": {
          "model_module": "@jupyter-widgets/controls",
          "model_module_version": "1.5.0",
          "model_name": "HBoxModel",
          "state": {
            "_dom_classes": [],
            "_model_module": "@jupyter-widgets/controls",
            "_model_module_version": "1.5.0",
            "_model_name": "HBoxModel",
            "_view_count": null,
            "_view_module": "@jupyter-widgets/controls",
            "_view_module_version": "1.5.0",
            "_view_name": "HBoxView",
            "box_style": "",
            "children": [
              "IPY_MODEL_7652c7202d684c779e23e5b17c81b4be",
              "IPY_MODEL_2604eeaff060450292ada4afe7e622a5",
              "IPY_MODEL_c8ff7bfc6375446ea3c001c4e44137c3"
            ],
            "layout": "IPY_MODEL_9112d657be964f46b97a918de2d7b444"
          }
        },
        "a44caa290dd14d6585cb11e3a81aa60e": {
          "model_module": "@jupyter-widgets/controls",
          "model_module_version": "1.5.0",
          "model_name": "HTMLModel",
          "state": {
            "_dom_classes": [],
            "_model_module": "@jupyter-widgets/controls",
            "_model_module_version": "1.5.0",
            "_model_name": "HTMLModel",
            "_view_count": null,
            "_view_module": "@jupyter-widgets/controls",
            "_view_module_version": "1.5.0",
            "_view_name": "HTMLView",
            "description": "",
            "description_tooltip": null,
            "layout": "IPY_MODEL_25d8252169f34139a9f7e7f0c98f30ea",
            "placeholder": "​",
            "style": "IPY_MODEL_7c571d254f4145a3bac5cfeccf1e968f",
            "value": "model.safetensors: 100%"
          }
        },
        "a55a114f8fa644169aff6a0add9b77a2": {
          "model_module": "@jupyter-widgets/controls",
          "model_module_version": "1.5.0",
          "model_name": "DescriptionStyleModel",
          "state": {
            "_model_module": "@jupyter-widgets/controls",
            "_model_module_version": "1.5.0",
            "_model_name": "DescriptionStyleModel",
            "_view_count": null,
            "_view_module": "@jupyter-widgets/base",
            "_view_module_version": "1.2.0",
            "_view_name": "StyleView",
            "description_width": ""
          }
        },
        "a7050a2b32a34da68d3d3a1ac118c144": {
          "model_module": "@jupyter-widgets/controls",
          "model_module_version": "1.5.0",
          "model_name": "DescriptionStyleModel",
          "state": {
            "_model_module": "@jupyter-widgets/controls",
            "_model_module_version": "1.5.0",
            "_model_name": "DescriptionStyleModel",
            "_view_count": null,
            "_view_module": "@jupyter-widgets/base",
            "_view_module_version": "1.2.0",
            "_view_name": "StyleView",
            "description_width": ""
          }
        },
        "a8f31289da444efb8a106e1e22fa3230": {
          "model_module": "@jupyter-widgets/base",
          "model_module_version": "1.2.0",
          "model_name": "LayoutModel",
          "state": {
            "_model_module": "@jupyter-widgets/base",
            "_model_module_version": "1.2.0",
            "_model_name": "LayoutModel",
            "_view_count": null,
            "_view_module": "@jupyter-widgets/base",
            "_view_module_version": "1.2.0",
            "_view_name": "LayoutView",
            "align_content": null,
            "align_items": null,
            "align_self": null,
            "border": null,
            "bottom": null,
            "display": null,
            "flex": null,
            "flex_flow": null,
            "grid_area": null,
            "grid_auto_columns": null,
            "grid_auto_flow": null,
            "grid_auto_rows": null,
            "grid_column": null,
            "grid_gap": null,
            "grid_row": null,
            "grid_template_areas": null,
            "grid_template_columns": null,
            "grid_template_rows": null,
            "height": null,
            "justify_content": null,
            "justify_items": null,
            "left": null,
            "margin": null,
            "max_height": null,
            "max_width": null,
            "min_height": null,
            "min_width": null,
            "object_fit": null,
            "object_position": null,
            "order": null,
            "overflow": null,
            "overflow_x": null,
            "overflow_y": null,
            "padding": null,
            "right": null,
            "top": null,
            "visibility": null,
            "width": null
          }
        },
        "aa7b798357f740c9b67f85cd0140d068": {
          "model_module": "@jupyter-widgets/controls",
          "model_module_version": "1.5.0",
          "model_name": "DescriptionStyleModel",
          "state": {
            "_model_module": "@jupyter-widgets/controls",
            "_model_module_version": "1.5.0",
            "_model_name": "DescriptionStyleModel",
            "_view_count": null,
            "_view_module": "@jupyter-widgets/base",
            "_view_module_version": "1.2.0",
            "_view_name": "StyleView",
            "description_width": ""
          }
        },
        "ac06ceefb9b54b33a256149687cb196b": {
          "model_module": "@jupyter-widgets/controls",
          "model_module_version": "1.5.0",
          "model_name": "HTMLModel",
          "state": {
            "_dom_classes": [],
            "_model_module": "@jupyter-widgets/controls",
            "_model_module_version": "1.5.0",
            "_model_name": "HTMLModel",
            "_view_count": null,
            "_view_module": "@jupyter-widgets/controls",
            "_view_module_version": "1.5.0",
            "_view_name": "HTMLView",
            "description": "",
            "description_tooltip": null,
            "layout": "IPY_MODEL_da9d65c1dba64a00939f1fd744011d2c",
            "placeholder": "​",
            "style": "IPY_MODEL_80660a3792e94e29849cd4cc48281280",
            "value": " 456k/456k [00:00&lt;00:00, 28.5MB/s]"
          }
        },
        "ad3921dc54674ed3871ca1d1ce7d8550": {
          "model_module": "@jupyter-widgets/controls",
          "model_module_version": "1.5.0",
          "model_name": "HTMLModel",
          "state": {
            "_dom_classes": [],
            "_model_module": "@jupyter-widgets/controls",
            "_model_module_version": "1.5.0",
            "_model_name": "HTMLModel",
            "_view_count": null,
            "_view_module": "@jupyter-widgets/controls",
            "_view_module_version": "1.5.0",
            "_view_name": "HTMLView",
            "description": "",
            "description_tooltip": null,
            "layout": "IPY_MODEL_dcce8fc3ce544d93afa3513db0f34408",
            "placeholder": "​",
            "style": "IPY_MODEL_07864b8e7d4341f78a5ff4f18793025e",
            "value": "vocab.json: 100%"
          }
        },
        "af5c0fbe70f04d5eb14b4b962da7ec20": {
          "model_module": "@jupyter-widgets/controls",
          "model_module_version": "1.5.0",
          "model_name": "DescriptionStyleModel",
          "state": {
            "_model_module": "@jupyter-widgets/controls",
            "_model_module_version": "1.5.0",
            "_model_name": "DescriptionStyleModel",
            "_view_count": null,
            "_view_module": "@jupyter-widgets/base",
            "_view_module_version": "1.2.0",
            "_view_name": "StyleView",
            "description_width": ""
          }
        },
        "afa3cf80cddb456897b2d62882065b72": {
          "model_module": "@jupyter-widgets/controls",
          "model_module_version": "1.5.0",
          "model_name": "ProgressStyleModel",
          "state": {
            "_model_module": "@jupyter-widgets/controls",
            "_model_module_version": "1.5.0",
            "_model_name": "ProgressStyleModel",
            "_view_count": null,
            "_view_module": "@jupyter-widgets/base",
            "_view_module_version": "1.2.0",
            "_view_name": "StyleView",
            "bar_color": null,
            "description_width": ""
          }
        },
        "b039949ef451465aa3e679ee2d3039fa": {
          "model_module": "@jupyter-widgets/controls",
          "model_module_version": "1.5.0",
          "model_name": "FloatProgressModel",
          "state": {
            "_dom_classes": [],
            "_model_module": "@jupyter-widgets/controls",
            "_model_module_version": "1.5.0",
            "_model_name": "FloatProgressModel",
            "_view_count": null,
            "_view_module": "@jupyter-widgets/controls",
            "_view_module_version": "1.5.0",
            "_view_name": "ProgressView",
            "bar_style": "success",
            "description": "",
            "description_tooltip": null,
            "layout": "IPY_MODEL_2b4a23c4567f46d7b7531cf3d670c77a",
            "max": 160,
            "min": 0,
            "orientation": "horizontal",
            "style": "IPY_MODEL_063c1af95c5d4702bdf98b0b7ced2973",
            "value": 160
          }
        },
        "b19b93dbeaa04083908c12a57a07880d": {
          "model_module": "@jupyter-widgets/controls",
          "model_module_version": "1.5.0",
          "model_name": "ProgressStyleModel",
          "state": {
            "_model_module": "@jupyter-widgets/controls",
            "_model_module_version": "1.5.0",
            "_model_name": "ProgressStyleModel",
            "_view_count": null,
            "_view_module": "@jupyter-widgets/base",
            "_view_module_version": "1.2.0",
            "_view_name": "StyleView",
            "bar_color": null,
            "description_width": ""
          }
        },
        "b223d655794341688f99f8ea661cad32": {
          "model_module": "@jupyter-widgets/controls",
          "model_module_version": "1.5.0",
          "model_name": "HTMLModel",
          "state": {
            "_dom_classes": [],
            "_model_module": "@jupyter-widgets/controls",
            "_model_module_version": "1.5.0",
            "_model_name": "HTMLModel",
            "_view_count": null,
            "_view_module": "@jupyter-widgets/controls",
            "_view_module_version": "1.5.0",
            "_view_name": "HTMLView",
            "description": "",
            "description_tooltip": null,
            "layout": "IPY_MODEL_83f4e5a9c87e470f8481706cc7b7ef22",
            "placeholder": "​",
            "style": "IPY_MODEL_bd31fc499a0e49278b2ebc4bc02c1d29",
            "value": "model.safetensors: 100%"
          }
        },
        "b5b95153513e47f6813774f44657d3dc": {
          "model_module": "@jupyter-widgets/controls",
          "model_module_version": "1.5.0",
          "model_name": "DescriptionStyleModel",
          "state": {
            "_model_module": "@jupyter-widgets/controls",
            "_model_module_version": "1.5.0",
            "_model_name": "DescriptionStyleModel",
            "_view_count": null,
            "_view_module": "@jupyter-widgets/base",
            "_view_module_version": "1.2.0",
            "_view_name": "StyleView",
            "description_width": ""
          }
        },
        "b8fb52e6edf24dc1ba83e34ffe6c728a": {
          "model_module": "@jupyter-widgets/base",
          "model_module_version": "1.2.0",
          "model_name": "LayoutModel",
          "state": {
            "_model_module": "@jupyter-widgets/base",
            "_model_module_version": "1.2.0",
            "_model_name": "LayoutModel",
            "_view_count": null,
            "_view_module": "@jupyter-widgets/base",
            "_view_module_version": "1.2.0",
            "_view_name": "LayoutView",
            "align_content": null,
            "align_items": null,
            "align_self": null,
            "border": null,
            "bottom": null,
            "display": null,
            "flex": null,
            "flex_flow": null,
            "grid_area": null,
            "grid_auto_columns": null,
            "grid_auto_flow": null,
            "grid_auto_rows": null,
            "grid_column": null,
            "grid_gap": null,
            "grid_row": null,
            "grid_template_areas": null,
            "grid_template_columns": null,
            "grid_template_rows": null,
            "height": null,
            "justify_content": null,
            "justify_items": null,
            "left": null,
            "margin": null,
            "max_height": null,
            "max_width": null,
            "min_height": null,
            "min_width": null,
            "object_fit": null,
            "object_position": null,
            "order": null,
            "overflow": null,
            "overflow_x": null,
            "overflow_y": null,
            "padding": null,
            "right": null,
            "top": null,
            "visibility": null,
            "width": null
          }
        },
        "bd31fc499a0e49278b2ebc4bc02c1d29": {
          "model_module": "@jupyter-widgets/controls",
          "model_module_version": "1.5.0",
          "model_name": "DescriptionStyleModel",
          "state": {
            "_model_module": "@jupyter-widgets/controls",
            "_model_module_version": "1.5.0",
            "_model_name": "DescriptionStyleModel",
            "_view_count": null,
            "_view_module": "@jupyter-widgets/base",
            "_view_module_version": "1.2.0",
            "_view_name": "StyleView",
            "description_width": ""
          }
        },
        "be91fb8c78394ab89b86a2fcb058120f": {
          "model_module": "@jupyter-widgets/controls",
          "model_module_version": "1.5.0",
          "model_name": "HBoxModel",
          "state": {
            "_dom_classes": [],
            "_model_module": "@jupyter-widgets/controls",
            "_model_module_version": "1.5.0",
            "_model_name": "HBoxModel",
            "_view_count": null,
            "_view_module": "@jupyter-widgets/controls",
            "_view_module_version": "1.5.0",
            "_view_name": "HBoxView",
            "box_style": "",
            "children": [
              "IPY_MODEL_6b31d71879684fd4946c23396798f4d3",
              "IPY_MODEL_42ee72df4ac04c95b1ea44700ec23b65",
              "IPY_MODEL_219faa34ff5440aead25c7d0534cdde1"
            ],
            "layout": "IPY_MODEL_b8fb52e6edf24dc1ba83e34ffe6c728a"
          }
        },
        "bf0b7deb1ff642479e07091b639f1dff": {
          "model_module": "@jupyter-widgets/controls",
          "model_module_version": "1.5.0",
          "model_name": "HBoxModel",
          "state": {
            "_dom_classes": [],
            "_model_module": "@jupyter-widgets/controls",
            "_model_module_version": "1.5.0",
            "_model_name": "HBoxModel",
            "_view_count": null,
            "_view_module": "@jupyter-widgets/controls",
            "_view_module_version": "1.5.0",
            "_view_name": "HBoxView",
            "box_style": "",
            "children": [
              "IPY_MODEL_b223d655794341688f99f8ea661cad32",
              "IPY_MODEL_c196abc0d12e4ec2a8b8e7675f2e61c2",
              "IPY_MODEL_0e5cbd371bb3461b8fa9c8fd2d41bfce"
            ],
            "layout": "IPY_MODEL_d2754344fc0d40af843e50e2281b4770"
          }
        },
        "c0bb03c0df5647febbd46541e8ac5185": {
          "model_module": "@jupyter-widgets/controls",
          "model_module_version": "1.5.0",
          "model_name": "DescriptionStyleModel",
          "state": {
            "_model_module": "@jupyter-widgets/controls",
            "_model_module_version": "1.5.0",
            "_model_name": "DescriptionStyleModel",
            "_view_count": null,
            "_view_module": "@jupyter-widgets/base",
            "_view_module_version": "1.2.0",
            "_view_name": "StyleView",
            "description_width": ""
          }
        },
        "c196abc0d12e4ec2a8b8e7675f2e61c2": {
          "model_module": "@jupyter-widgets/controls",
          "model_module_version": "1.5.0",
          "model_name": "FloatProgressModel",
          "state": {
            "_dom_classes": [],
            "_model_module": "@jupyter-widgets/controls",
            "_model_module_version": "1.5.0",
            "_model_name": "FloatProgressModel",
            "_view_count": null,
            "_view_module": "@jupyter-widgets/controls",
            "_view_module_version": "1.5.0",
            "_view_name": "ProgressView",
            "bar_style": "success",
            "description": "",
            "description_tooltip": null,
            "layout": "IPY_MODEL_0aa88d1a6be6489a86fad6c00b6f2a12",
            "max": 113412768,
            "min": 0,
            "orientation": "horizontal",
            "style": "IPY_MODEL_fa4f5458c9fd4e5ea182ef612b7b80a4",
            "value": 113412768
          }
        },
        "c36b4d6379834ee394f4d2f57bf53f6f": {
          "model_module": "@jupyter-widgets/controls",
          "model_module_version": "1.5.0",
          "model_name": "HTMLModel",
          "state": {
            "_dom_classes": [],
            "_model_module": "@jupyter-widgets/controls",
            "_model_module_version": "1.5.0",
            "_model_name": "HTMLModel",
            "_view_count": null,
            "_view_module": "@jupyter-widgets/controls",
            "_view_module_version": "1.5.0",
            "_view_name": "HTMLView",
            "description": "",
            "description_tooltip": null,
            "layout": "IPY_MODEL_ca17fbf8b8e94d279fa50094d16d85c1",
            "placeholder": "​",
            "style": "IPY_MODEL_fe5ada4fd2e84e20bc939e9e13d48a90",
            "value": "config.json: 100%"
          }
        },
        "c463b57d14464ad4967ca97987d696aa": {
          "model_module": "@jupyter-widgets/base",
          "model_module_version": "1.2.0",
          "model_name": "LayoutModel",
          "state": {
            "_model_module": "@jupyter-widgets/base",
            "_model_module_version": "1.2.0",
            "_model_name": "LayoutModel",
            "_view_count": null,
            "_view_module": "@jupyter-widgets/base",
            "_view_module_version": "1.2.0",
            "_view_name": "LayoutView",
            "align_content": null,
            "align_items": null,
            "align_self": null,
            "border": null,
            "bottom": null,
            "display": null,
            "flex": null,
            "flex_flow": null,
            "grid_area": null,
            "grid_auto_columns": null,
            "grid_auto_flow": null,
            "grid_auto_rows": null,
            "grid_column": null,
            "grid_gap": null,
            "grid_row": null,
            "grid_template_areas": null,
            "grid_template_columns": null,
            "grid_template_rows": null,
            "height": null,
            "justify_content": null,
            "justify_items": null,
            "left": null,
            "margin": null,
            "max_height": null,
            "max_width": null,
            "min_height": null,
            "min_width": null,
            "object_fit": null,
            "object_position": null,
            "order": null,
            "overflow": null,
            "overflow_x": null,
            "overflow_y": null,
            "padding": null,
            "right": null,
            "top": null,
            "visibility": null,
            "width": null
          }
        },
        "c8ff7bfc6375446ea3c001c4e44137c3": {
          "model_module": "@jupyter-widgets/controls",
          "model_module_version": "1.5.0",
          "model_name": "HTMLModel",
          "state": {
            "_dom_classes": [],
            "_model_module": "@jupyter-widgets/controls",
            "_model_module_version": "1.5.0",
            "_model_name": "HTMLModel",
            "_view_count": null,
            "_view_module": "@jupyter-widgets/controls",
            "_view_module_version": "1.5.0",
            "_view_name": "HTMLView",
            "description": "",
            "description_tooltip": null,
            "layout": "IPY_MODEL_d2d951b192c4443ab4d7b8a2537d6709",
            "placeholder": "​",
            "style": "IPY_MODEL_06f467c79e2c46eda4fd079c2e4a3841",
            "value": " 482/482 [00:00&lt;00:00, 20.5kB/s]"
          }
        },
        "ca17fbf8b8e94d279fa50094d16d85c1": {
          "model_module": "@jupyter-widgets/base",
          "model_module_version": "1.2.0",
          "model_name": "LayoutModel",
          "state": {
            "_model_module": "@jupyter-widgets/base",
            "_model_module_version": "1.2.0",
            "_model_name": "LayoutModel",
            "_view_count": null,
            "_view_module": "@jupyter-widgets/base",
            "_view_module_version": "1.2.0",
            "_view_name": "LayoutView",
            "align_content": null,
            "align_items": null,
            "align_self": null,
            "border": null,
            "bottom": null,
            "display": null,
            "flex": null,
            "flex_flow": null,
            "grid_area": null,
            "grid_auto_columns": null,
            "grid_auto_flow": null,
            "grid_auto_rows": null,
            "grid_column": null,
            "grid_gap": null,
            "grid_row": null,
            "grid_template_areas": null,
            "grid_template_columns": null,
            "grid_template_rows": null,
            "height": null,
            "justify_content": null,
            "justify_items": null,
            "left": null,
            "margin": null,
            "max_height": null,
            "max_width": null,
            "min_height": null,
            "min_width": null,
            "object_fit": null,
            "object_position": null,
            "order": null,
            "overflow": null,
            "overflow_x": null,
            "overflow_y": null,
            "padding": null,
            "right": null,
            "top": null,
            "visibility": null,
            "width": null
          }
        },
        "cc3b21d6320b4d4d9142bad5360114aa": {
          "model_module": "@jupyter-widgets/controls",
          "model_module_version": "1.5.0",
          "model_name": "HTMLModel",
          "state": {
            "_dom_classes": [],
            "_model_module": "@jupyter-widgets/controls",
            "_model_module_version": "1.5.0",
            "_model_name": "HTMLModel",
            "_view_count": null,
            "_view_module": "@jupyter-widgets/controls",
            "_view_module_version": "1.5.0",
            "_view_name": "HTMLView",
            "description": "",
            "description_tooltip": null,
            "layout": "IPY_MODEL_d3793e9cf0bb4596bf196e3436baade4",
            "placeholder": "​",
            "style": "IPY_MODEL_fbf4f22fa12d4ba5be7da478f2ea6e0e",
            "value": "model.safetensors: 100%"
          }
        },
        "ce561a7014ea4239a6e7b8a5467c64cf": {
          "model_module": "@jupyter-widgets/base",
          "model_module_version": "1.2.0",
          "model_name": "LayoutModel",
          "state": {
            "_model_module": "@jupyter-widgets/base",
            "_model_module_version": "1.2.0",
            "_model_name": "LayoutModel",
            "_view_count": null,
            "_view_module": "@jupyter-widgets/base",
            "_view_module_version": "1.2.0",
            "_view_name": "LayoutView",
            "align_content": null,
            "align_items": null,
            "align_self": null,
            "border": null,
            "bottom": null,
            "display": null,
            "flex": null,
            "flex_flow": null,
            "grid_area": null,
            "grid_auto_columns": null,
            "grid_auto_flow": null,
            "grid_auto_rows": null,
            "grid_column": null,
            "grid_gap": null,
            "grid_row": null,
            "grid_template_areas": null,
            "grid_template_columns": null,
            "grid_template_rows": null,
            "height": null,
            "justify_content": null,
            "justify_items": null,
            "left": null,
            "margin": null,
            "max_height": null,
            "max_width": null,
            "min_height": null,
            "min_width": null,
            "object_fit": null,
            "object_position": null,
            "order": null,
            "overflow": null,
            "overflow_x": null,
            "overflow_y": null,
            "padding": null,
            "right": null,
            "top": null,
            "visibility": null,
            "width": null
          }
        },
        "d2754344fc0d40af843e50e2281b4770": {
          "model_module": "@jupyter-widgets/base",
          "model_module_version": "1.2.0",
          "model_name": "LayoutModel",
          "state": {
            "_model_module": "@jupyter-widgets/base",
            "_model_module_version": "1.2.0",
            "_model_name": "LayoutModel",
            "_view_count": null,
            "_view_module": "@jupyter-widgets/base",
            "_view_module_version": "1.2.0",
            "_view_name": "LayoutView",
            "align_content": null,
            "align_items": null,
            "align_self": null,
            "border": null,
            "bottom": null,
            "display": null,
            "flex": null,
            "flex_flow": null,
            "grid_area": null,
            "grid_auto_columns": null,
            "grid_auto_flow": null,
            "grid_auto_rows": null,
            "grid_column": null,
            "grid_gap": null,
            "grid_row": null,
            "grid_template_areas": null,
            "grid_template_columns": null,
            "grid_template_rows": null,
            "height": null,
            "justify_content": null,
            "justify_items": null,
            "left": null,
            "margin": null,
            "max_height": null,
            "max_width": null,
            "min_height": null,
            "min_width": null,
            "object_fit": null,
            "object_position": null,
            "order": null,
            "overflow": null,
            "overflow_x": null,
            "overflow_y": null,
            "padding": null,
            "right": null,
            "top": null,
            "visibility": null,
            "width": null
          }
        },
        "d2a658c3223545ea9399556b90df3fc0": {
          "model_module": "@jupyter-widgets/base",
          "model_module_version": "1.2.0",
          "model_name": "LayoutModel",
          "state": {
            "_model_module": "@jupyter-widgets/base",
            "_model_module_version": "1.2.0",
            "_model_name": "LayoutModel",
            "_view_count": null,
            "_view_module": "@jupyter-widgets/base",
            "_view_module_version": "1.2.0",
            "_view_name": "LayoutView",
            "align_content": null,
            "align_items": null,
            "align_self": null,
            "border": null,
            "bottom": null,
            "display": null,
            "flex": null,
            "flex_flow": null,
            "grid_area": null,
            "grid_auto_columns": null,
            "grid_auto_flow": null,
            "grid_auto_rows": null,
            "grid_column": null,
            "grid_gap": null,
            "grid_row": null,
            "grid_template_areas": null,
            "grid_template_columns": null,
            "grid_template_rows": null,
            "height": null,
            "justify_content": null,
            "justify_items": null,
            "left": null,
            "margin": null,
            "max_height": null,
            "max_width": null,
            "min_height": null,
            "min_width": null,
            "object_fit": null,
            "object_position": null,
            "order": null,
            "overflow": null,
            "overflow_x": null,
            "overflow_y": null,
            "padding": null,
            "right": null,
            "top": null,
            "visibility": null,
            "width": null
          }
        },
        "d2d951b192c4443ab4d7b8a2537d6709": {
          "model_module": "@jupyter-widgets/base",
          "model_module_version": "1.2.0",
          "model_name": "LayoutModel",
          "state": {
            "_model_module": "@jupyter-widgets/base",
            "_model_module_version": "1.2.0",
            "_model_name": "LayoutModel",
            "_view_count": null,
            "_view_module": "@jupyter-widgets/base",
            "_view_module_version": "1.2.0",
            "_view_name": "LayoutView",
            "align_content": null,
            "align_items": null,
            "align_self": null,
            "border": null,
            "bottom": null,
            "display": null,
            "flex": null,
            "flex_flow": null,
            "grid_area": null,
            "grid_auto_columns": null,
            "grid_auto_flow": null,
            "grid_auto_rows": null,
            "grid_column": null,
            "grid_gap": null,
            "grid_row": null,
            "grid_template_areas": null,
            "grid_template_columns": null,
            "grid_template_rows": null,
            "height": null,
            "justify_content": null,
            "justify_items": null,
            "left": null,
            "margin": null,
            "max_height": null,
            "max_width": null,
            "min_height": null,
            "min_width": null,
            "object_fit": null,
            "object_position": null,
            "order": null,
            "overflow": null,
            "overflow_x": null,
            "overflow_y": null,
            "padding": null,
            "right": null,
            "top": null,
            "visibility": null,
            "width": null
          }
        },
        "d3793e9cf0bb4596bf196e3436baade4": {
          "model_module": "@jupyter-widgets/base",
          "model_module_version": "1.2.0",
          "model_name": "LayoutModel",
          "state": {
            "_model_module": "@jupyter-widgets/base",
            "_model_module_version": "1.2.0",
            "_model_name": "LayoutModel",
            "_view_count": null,
            "_view_module": "@jupyter-widgets/base",
            "_view_module_version": "1.2.0",
            "_view_name": "LayoutView",
            "align_content": null,
            "align_items": null,
            "align_self": null,
            "border": null,
            "bottom": null,
            "display": null,
            "flex": null,
            "flex_flow": null,
            "grid_area": null,
            "grid_auto_columns": null,
            "grid_auto_flow": null,
            "grid_auto_rows": null,
            "grid_column": null,
            "grid_gap": null,
            "grid_row": null,
            "grid_template_areas": null,
            "grid_template_columns": null,
            "grid_template_rows": null,
            "height": null,
            "justify_content": null,
            "justify_items": null,
            "left": null,
            "margin": null,
            "max_height": null,
            "max_width": null,
            "min_height": null,
            "min_width": null,
            "object_fit": null,
            "object_position": null,
            "order": null,
            "overflow": null,
            "overflow_x": null,
            "overflow_y": null,
            "padding": null,
            "right": null,
            "top": null,
            "visibility": null,
            "width": null
          }
        },
        "d4cb33934eaf49198f5b3e6f1633b5b9": {
          "model_module": "@jupyter-widgets/base",
          "model_module_version": "1.2.0",
          "model_name": "LayoutModel",
          "state": {
            "_model_module": "@jupyter-widgets/base",
            "_model_module_version": "1.2.0",
            "_model_name": "LayoutModel",
            "_view_count": null,
            "_view_module": "@jupyter-widgets/base",
            "_view_module_version": "1.2.0",
            "_view_name": "LayoutView",
            "align_content": null,
            "align_items": null,
            "align_self": null,
            "border": null,
            "bottom": null,
            "display": null,
            "flex": null,
            "flex_flow": null,
            "grid_area": null,
            "grid_auto_columns": null,
            "grid_auto_flow": null,
            "grid_auto_rows": null,
            "grid_column": null,
            "grid_gap": null,
            "grid_row": null,
            "grid_template_areas": null,
            "grid_template_columns": null,
            "grid_template_rows": null,
            "height": null,
            "justify_content": null,
            "justify_items": null,
            "left": null,
            "margin": null,
            "max_height": null,
            "max_width": null,
            "min_height": null,
            "min_width": null,
            "object_fit": null,
            "object_position": null,
            "order": null,
            "overflow": null,
            "overflow_x": null,
            "overflow_y": null,
            "padding": null,
            "right": null,
            "top": null,
            "visibility": null,
            "width": null
          }
        },
        "d7a0cba46fa94fdf9fd2b03f78d7b2fd": {
          "model_module": "@jupyter-widgets/controls",
          "model_module_version": "1.5.0",
          "model_name": "ProgressStyleModel",
          "state": {
            "_model_module": "@jupyter-widgets/controls",
            "_model_module_version": "1.5.0",
            "_model_name": "ProgressStyleModel",
            "_view_count": null,
            "_view_module": "@jupyter-widgets/base",
            "_view_module_version": "1.2.0",
            "_view_name": "StyleView",
            "bar_color": null,
            "description_width": ""
          }
        },
        "d7a8a117cbe74bea97c3c054ff6c38a4": {
          "model_module": "@jupyter-widgets/controls",
          "model_module_version": "1.5.0",
          "model_name": "DescriptionStyleModel",
          "state": {
            "_model_module": "@jupyter-widgets/controls",
            "_model_module_version": "1.5.0",
            "_model_name": "DescriptionStyleModel",
            "_view_count": null,
            "_view_module": "@jupyter-widgets/base",
            "_view_module_version": "1.2.0",
            "_view_name": "StyleView",
            "description_width": ""
          }
        },
        "d7ec0fbcc87b4200a6f0822185418956": {
          "model_module": "@jupyter-widgets/controls",
          "model_module_version": "1.5.0",
          "model_name": "HTMLModel",
          "state": {
            "_dom_classes": [],
            "_model_module": "@jupyter-widgets/controls",
            "_model_module_version": "1.5.0",
            "_model_name": "HTMLModel",
            "_view_count": null,
            "_view_module": "@jupyter-widgets/controls",
            "_view_module_version": "1.5.0",
            "_view_name": "HTMLView",
            "description": "",
            "description_tooltip": null,
            "layout": "IPY_MODEL_913f528da5db440aa357926161819997",
            "placeholder": "​",
            "style": "IPY_MODEL_aa7b798357f740c9b67f85cd0140d068",
            "value": " 899k/899k [00:00&lt;00:00, 1.82MB/s]"
          }
        },
        "da9d65c1dba64a00939f1fd744011d2c": {
          "model_module": "@jupyter-widgets/base",
          "model_module_version": "1.2.0",
          "model_name": "LayoutModel",
          "state": {
            "_model_module": "@jupyter-widgets/base",
            "_model_module_version": "1.2.0",
            "_model_name": "LayoutModel",
            "_view_count": null,
            "_view_module": "@jupyter-widgets/base",
            "_view_module_version": "1.2.0",
            "_view_name": "LayoutView",
            "align_content": null,
            "align_items": null,
            "align_self": null,
            "border": null,
            "bottom": null,
            "display": null,
            "flex": null,
            "flex_flow": null,
            "grid_area": null,
            "grid_auto_columns": null,
            "grid_auto_flow": null,
            "grid_auto_rows": null,
            "grid_column": null,
            "grid_gap": null,
            "grid_row": null,
            "grid_template_areas": null,
            "grid_template_columns": null,
            "grid_template_rows": null,
            "height": null,
            "justify_content": null,
            "justify_items": null,
            "left": null,
            "margin": null,
            "max_height": null,
            "max_width": null,
            "min_height": null,
            "min_width": null,
            "object_fit": null,
            "object_position": null,
            "order": null,
            "overflow": null,
            "overflow_x": null,
            "overflow_y": null,
            "padding": null,
            "right": null,
            "top": null,
            "visibility": null,
            "width": null
          }
        },
        "dcce8fc3ce544d93afa3513db0f34408": {
          "model_module": "@jupyter-widgets/base",
          "model_module_version": "1.2.0",
          "model_name": "LayoutModel",
          "state": {
            "_model_module": "@jupyter-widgets/base",
            "_model_module_version": "1.2.0",
            "_model_name": "LayoutModel",
            "_view_count": null,
            "_view_module": "@jupyter-widgets/base",
            "_view_module_version": "1.2.0",
            "_view_name": "LayoutView",
            "align_content": null,
            "align_items": null,
            "align_self": null,
            "border": null,
            "bottom": null,
            "display": null,
            "flex": null,
            "flex_flow": null,
            "grid_area": null,
            "grid_auto_columns": null,
            "grid_auto_flow": null,
            "grid_auto_rows": null,
            "grid_column": null,
            "grid_gap": null,
            "grid_row": null,
            "grid_template_areas": null,
            "grid_template_columns": null,
            "grid_template_rows": null,
            "height": null,
            "justify_content": null,
            "justify_items": null,
            "left": null,
            "margin": null,
            "max_height": null,
            "max_width": null,
            "min_height": null,
            "min_width": null,
            "object_fit": null,
            "object_position": null,
            "order": null,
            "overflow": null,
            "overflow_x": null,
            "overflow_y": null,
            "padding": null,
            "right": null,
            "top": null,
            "visibility": null,
            "width": null
          }
        },
        "dce74c694de54558a4806af0f2700be0": {
          "model_module": "@jupyter-widgets/base",
          "model_module_version": "1.2.0",
          "model_name": "LayoutModel",
          "state": {
            "_model_module": "@jupyter-widgets/base",
            "_model_module_version": "1.2.0",
            "_model_name": "LayoutModel",
            "_view_count": null,
            "_view_module": "@jupyter-widgets/base",
            "_view_module_version": "1.2.0",
            "_view_name": "LayoutView",
            "align_content": null,
            "align_items": null,
            "align_self": null,
            "border": null,
            "bottom": null,
            "display": null,
            "flex": null,
            "flex_flow": null,
            "grid_area": null,
            "grid_auto_columns": null,
            "grid_auto_flow": null,
            "grid_auto_rows": null,
            "grid_column": null,
            "grid_gap": null,
            "grid_row": null,
            "grid_template_areas": null,
            "grid_template_columns": null,
            "grid_template_rows": null,
            "height": null,
            "justify_content": null,
            "justify_items": null,
            "left": null,
            "margin": null,
            "max_height": null,
            "max_width": null,
            "min_height": null,
            "min_width": null,
            "object_fit": null,
            "object_position": null,
            "order": null,
            "overflow": null,
            "overflow_x": null,
            "overflow_y": null,
            "padding": null,
            "right": null,
            "top": null,
            "visibility": null,
            "width": null
          }
        },
        "de21e8df1a9d4b59b77cb56b4934a2df": {
          "model_module": "@jupyter-widgets/controls",
          "model_module_version": "1.5.0",
          "model_name": "DescriptionStyleModel",
          "state": {
            "_model_module": "@jupyter-widgets/controls",
            "_model_module_version": "1.5.0",
            "_model_name": "DescriptionStyleModel",
            "_view_count": null,
            "_view_module": "@jupyter-widgets/base",
            "_view_module_version": "1.2.0",
            "_view_name": "StyleView",
            "description_width": ""
          }
        },
        "de412ed5104e476d97c8c22bdc5ffcb7": {
          "model_module": "@jupyter-widgets/controls",
          "model_module_version": "1.5.0",
          "model_name": "DescriptionStyleModel",
          "state": {
            "_model_module": "@jupyter-widgets/controls",
            "_model_module_version": "1.5.0",
            "_model_name": "DescriptionStyleModel",
            "_view_count": null,
            "_view_module": "@jupyter-widgets/base",
            "_view_module_version": "1.2.0",
            "_view_name": "StyleView",
            "description_width": ""
          }
        },
        "de6ceb06074a4389851830d1cb4b3801": {
          "model_module": "@jupyter-widgets/base",
          "model_module_version": "1.2.0",
          "model_name": "LayoutModel",
          "state": {
            "_model_module": "@jupyter-widgets/base",
            "_model_module_version": "1.2.0",
            "_model_name": "LayoutModel",
            "_view_count": null,
            "_view_module": "@jupyter-widgets/base",
            "_view_module_version": "1.2.0",
            "_view_name": "LayoutView",
            "align_content": null,
            "align_items": null,
            "align_self": null,
            "border": null,
            "bottom": null,
            "display": null,
            "flex": null,
            "flex_flow": null,
            "grid_area": null,
            "grid_auto_columns": null,
            "grid_auto_flow": null,
            "grid_auto_rows": null,
            "grid_column": null,
            "grid_gap": null,
            "grid_row": null,
            "grid_template_areas": null,
            "grid_template_columns": null,
            "grid_template_rows": null,
            "height": null,
            "justify_content": null,
            "justify_items": null,
            "left": null,
            "margin": null,
            "max_height": null,
            "max_width": null,
            "min_height": null,
            "min_width": null,
            "object_fit": null,
            "object_position": null,
            "order": null,
            "overflow": null,
            "overflow_x": null,
            "overflow_y": null,
            "padding": null,
            "right": null,
            "top": null,
            "visibility": null,
            "width": null
          }
        },
        "dfc32ff49f844a84b43bc12df1e20832": {
          "model_module": "@jupyter-widgets/base",
          "model_module_version": "1.2.0",
          "model_name": "LayoutModel",
          "state": {
            "_model_module": "@jupyter-widgets/base",
            "_model_module_version": "1.2.0",
            "_model_name": "LayoutModel",
            "_view_count": null,
            "_view_module": "@jupyter-widgets/base",
            "_view_module_version": "1.2.0",
            "_view_name": "LayoutView",
            "align_content": null,
            "align_items": null,
            "align_self": null,
            "border": null,
            "bottom": null,
            "display": null,
            "flex": null,
            "flex_flow": null,
            "grid_area": null,
            "grid_auto_columns": null,
            "grid_auto_flow": null,
            "grid_auto_rows": null,
            "grid_column": null,
            "grid_gap": null,
            "grid_row": null,
            "grid_template_areas": null,
            "grid_template_columns": null,
            "grid_template_rows": null,
            "height": null,
            "justify_content": null,
            "justify_items": null,
            "left": null,
            "margin": null,
            "max_height": null,
            "max_width": null,
            "min_height": null,
            "min_width": null,
            "object_fit": null,
            "object_position": null,
            "order": null,
            "overflow": null,
            "overflow_x": null,
            "overflow_y": null,
            "padding": null,
            "right": null,
            "top": null,
            "visibility": null,
            "width": null
          }
        },
        "e6f3758288ec41928b96473652cf7720": {
          "model_module": "@jupyter-widgets/controls",
          "model_module_version": "1.5.0",
          "model_name": "DescriptionStyleModel",
          "state": {
            "_model_module": "@jupyter-widgets/controls",
            "_model_module_version": "1.5.0",
            "_model_name": "DescriptionStyleModel",
            "_view_count": null,
            "_view_module": "@jupyter-widgets/base",
            "_view_module_version": "1.2.0",
            "_view_name": "StyleView",
            "description_width": ""
          }
        },
        "e875a419c9e245bfae1a0c82e14e08b9": {
          "model_module": "@jupyter-widgets/controls",
          "model_module_version": "1.5.0",
          "model_name": "FloatProgressModel",
          "state": {
            "_dom_classes": [],
            "_model_module": "@jupyter-widgets/controls",
            "_model_module_version": "1.5.0",
            "_model_name": "FloatProgressModel",
            "_view_count": null,
            "_view_module": "@jupyter-widgets/controls",
            "_view_module_version": "1.5.0",
            "_view_name": "ProgressView",
            "bar_style": "success",
            "description": "",
            "description_tooltip": null,
            "layout": "IPY_MODEL_12c6884c38cd4f3480f07eca22d972f2",
            "max": 456318,
            "min": 0,
            "orientation": "horizontal",
            "style": "IPY_MODEL_25756536576b4a3ea3aabb48d452e92c",
            "value": 456318
          }
        },
        "e92db0f645744a3ea5ce247fdcefec65": {
          "model_module": "@jupyter-widgets/controls",
          "model_module_version": "1.5.0",
          "model_name": "HBoxModel",
          "state": {
            "_dom_classes": [],
            "_model_module": "@jupyter-widgets/controls",
            "_model_module_version": "1.5.0",
            "_model_name": "HBoxModel",
            "_view_count": null,
            "_view_module": "@jupyter-widgets/controls",
            "_view_module_version": "1.5.0",
            "_view_name": "HBoxView",
            "box_style": "",
            "children": [
              "IPY_MODEL_cc3b21d6320b4d4d9142bad5360114aa",
              "IPY_MODEL_147f87fba6dc46ec81d9d88f767d4ca7",
              "IPY_MODEL_7c48a5ef79f943dfac09958b52516977"
            ],
            "layout": "IPY_MODEL_95c1fe00bc3c4a9d96e17639862bca85"
          }
        },
        "e9dcad237fa0407ca602f50ec2554852": {
          "model_module": "@jupyter-widgets/controls",
          "model_module_version": "1.5.0",
          "model_name": "HTMLModel",
          "state": {
            "_dom_classes": [],
            "_model_module": "@jupyter-widgets/controls",
            "_model_module_version": "1.5.0",
            "_model_name": "HTMLModel",
            "_view_count": null,
            "_view_module": "@jupyter-widgets/controls",
            "_view_module_version": "1.5.0",
            "_view_name": "HTMLView",
            "description": "",
            "description_tooltip": null,
            "layout": "IPY_MODEL_9e8f9d45a3b24890bb0a29aaed28d908",
            "placeholder": "​",
            "style": "IPY_MODEL_435babbd0db54ea7a2aa3d79d3792e28",
            "value": "pytorch_model.bin: 100%"
          }
        },
        "ec18362160de4e31b4c98e1d994e8d44": {
          "model_module": "@jupyter-widgets/base",
          "model_module_version": "1.2.0",
          "model_name": "LayoutModel",
          "state": {
            "_model_module": "@jupyter-widgets/base",
            "_model_module_version": "1.2.0",
            "_model_name": "LayoutModel",
            "_view_count": null,
            "_view_module": "@jupyter-widgets/base",
            "_view_module_version": "1.2.0",
            "_view_name": "LayoutView",
            "align_content": null,
            "align_items": null,
            "align_self": null,
            "border": null,
            "bottom": null,
            "display": null,
            "flex": null,
            "flex_flow": null,
            "grid_area": null,
            "grid_auto_columns": null,
            "grid_auto_flow": null,
            "grid_auto_rows": null,
            "grid_column": null,
            "grid_gap": null,
            "grid_row": null,
            "grid_template_areas": null,
            "grid_template_columns": null,
            "grid_template_rows": null,
            "height": null,
            "justify_content": null,
            "justify_items": null,
            "left": null,
            "margin": null,
            "max_height": null,
            "max_width": null,
            "min_height": null,
            "min_width": null,
            "object_fit": null,
            "object_position": null,
            "order": null,
            "overflow": null,
            "overflow_x": null,
            "overflow_y": null,
            "padding": null,
            "right": null,
            "top": null,
            "visibility": null,
            "width": null
          }
        },
        "ecb74811321e4722af7c777a9e6b8ede": {
          "model_module": "@jupyter-widgets/controls",
          "model_module_version": "1.5.0",
          "model_name": "HBoxModel",
          "state": {
            "_dom_classes": [],
            "_model_module": "@jupyter-widgets/controls",
            "_model_module_version": "1.5.0",
            "_model_name": "HBoxModel",
            "_view_count": null,
            "_view_module": "@jupyter-widgets/controls",
            "_view_module_version": "1.5.0",
            "_view_name": "HBoxView",
            "box_style": "",
            "children": [
              "IPY_MODEL_edae39e01f2f4c3fb0f2d3167670577d",
              "IPY_MODEL_e875a419c9e245bfae1a0c82e14e08b9",
              "IPY_MODEL_ac06ceefb9b54b33a256149687cb196b"
            ],
            "layout": "IPY_MODEL_a8f31289da444efb8a106e1e22fa3230"
          }
        },
        "ed57a8ba5eba4eed90591284c6954a43": {
          "model_module": "@jupyter-widgets/controls",
          "model_module_version": "1.5.0",
          "model_name": "HBoxModel",
          "state": {
            "_dom_classes": [],
            "_model_module": "@jupyter-widgets/controls",
            "_model_module_version": "1.5.0",
            "_model_name": "HBoxModel",
            "_view_count": null,
            "_view_module": "@jupyter-widgets/controls",
            "_view_module_version": "1.5.0",
            "_view_name": "HBoxView",
            "box_style": "",
            "children": [
              "IPY_MODEL_ad3921dc54674ed3871ca1d1ce7d8550",
              "IPY_MODEL_0749bb02e0d34e49a2a871b5d2096efb",
              "IPY_MODEL_d7ec0fbcc87b4200a6f0822185418956"
            ],
            "layout": "IPY_MODEL_eedded6b5fdd4c3d894e96beb381026d"
          }
        },
        "edae39e01f2f4c3fb0f2d3167670577d": {
          "model_module": "@jupyter-widgets/controls",
          "model_module_version": "1.5.0",
          "model_name": "HTMLModel",
          "state": {
            "_dom_classes": [],
            "_model_module": "@jupyter-widgets/controls",
            "_model_module_version": "1.5.0",
            "_model_name": "HTMLModel",
            "_view_count": null,
            "_view_module": "@jupyter-widgets/controls",
            "_view_module_version": "1.5.0",
            "_view_name": "HTMLView",
            "description": "",
            "description_tooltip": null,
            "layout": "IPY_MODEL_8f8fd9119d704c349d42d58efb617fb2",
            "placeholder": "​",
            "style": "IPY_MODEL_92b34b60c1234c86b9e8c687db6e83b0",
            "value": "merges.txt: 100%"
          }
        },
        "eedded6b5fdd4c3d894e96beb381026d": {
          "model_module": "@jupyter-widgets/base",
          "model_module_version": "1.2.0",
          "model_name": "LayoutModel",
          "state": {
            "_model_module": "@jupyter-widgets/base",
            "_model_module_version": "1.2.0",
            "_model_name": "LayoutModel",
            "_view_count": null,
            "_view_module": "@jupyter-widgets/base",
            "_view_module_version": "1.2.0",
            "_view_name": "LayoutView",
            "align_content": null,
            "align_items": null,
            "align_self": null,
            "border": null,
            "bottom": null,
            "display": null,
            "flex": null,
            "flex_flow": null,
            "grid_area": null,
            "grid_auto_columns": null,
            "grid_auto_flow": null,
            "grid_auto_rows": null,
            "grid_column": null,
            "grid_gap": null,
            "grid_row": null,
            "grid_template_areas": null,
            "grid_template_columns": null,
            "grid_template_rows": null,
            "height": null,
            "justify_content": null,
            "justify_items": null,
            "left": null,
            "margin": null,
            "max_height": null,
            "max_width": null,
            "min_height": null,
            "min_width": null,
            "object_fit": null,
            "object_position": null,
            "order": null,
            "overflow": null,
            "overflow_x": null,
            "overflow_y": null,
            "padding": null,
            "right": null,
            "top": null,
            "visibility": null,
            "width": null
          }
        },
        "f3b7806f3cfe4d259448e4425e3978ca": {
          "model_module": "@jupyter-widgets/base",
          "model_module_version": "1.2.0",
          "model_name": "LayoutModel",
          "state": {
            "_model_module": "@jupyter-widgets/base",
            "_model_module_version": "1.2.0",
            "_model_name": "LayoutModel",
            "_view_count": null,
            "_view_module": "@jupyter-widgets/base",
            "_view_module_version": "1.2.0",
            "_view_name": "LayoutView",
            "align_content": null,
            "align_items": null,
            "align_self": null,
            "border": null,
            "bottom": null,
            "display": null,
            "flex": null,
            "flex_flow": null,
            "grid_area": null,
            "grid_auto_columns": null,
            "grid_auto_flow": null,
            "grid_auto_rows": null,
            "grid_column": null,
            "grid_gap": null,
            "grid_row": null,
            "grid_template_areas": null,
            "grid_template_columns": null,
            "grid_template_rows": null,
            "height": null,
            "justify_content": null,
            "justify_items": null,
            "left": null,
            "margin": null,
            "max_height": null,
            "max_width": null,
            "min_height": null,
            "min_width": null,
            "object_fit": null,
            "object_position": null,
            "order": null,
            "overflow": null,
            "overflow_x": null,
            "overflow_y": null,
            "padding": null,
            "right": null,
            "top": null,
            "visibility": null,
            "width": null
          }
        },
        "f40c4389e77c475e9e127ea48fdb85ca": {
          "model_module": "@jupyter-widgets/controls",
          "model_module_version": "1.5.0",
          "model_name": "FloatProgressModel",
          "state": {
            "_dom_classes": [],
            "_model_module": "@jupyter-widgets/controls",
            "_model_module_version": "1.5.0",
            "_model_name": "FloatProgressModel",
            "_view_count": null,
            "_view_module": "@jupyter-widgets/controls",
            "_view_module_version": "1.5.0",
            "_view_name": "ProgressView",
            "bar_style": "success",
            "description": "",
            "description_tooltip": null,
            "layout": "IPY_MODEL_1541485dbc354db4bca70dc91f998fdf",
            "max": 502,
            "min": 0,
            "orientation": "horizontal",
            "style": "IPY_MODEL_fe0a24dd45a94fa297e2397b378e2083",
            "value": 502
          }
        },
        "f4aa2e7cc73c48baba5649e549bf4849": {
          "model_module": "@jupyter-widgets/controls",
          "model_module_version": "1.5.0",
          "model_name": "HTMLModel",
          "state": {
            "_dom_classes": [],
            "_model_module": "@jupyter-widgets/controls",
            "_model_module_version": "1.5.0",
            "_model_name": "HTMLModel",
            "_view_count": null,
            "_view_module": "@jupyter-widgets/controls",
            "_view_module_version": "1.5.0",
            "_view_name": "HTMLView",
            "description": "",
            "description_tooltip": null,
            "layout": "IPY_MODEL_404ad091730e4c23ab3873ea00efcbed",
            "placeholder": "​",
            "style": "IPY_MODEL_a7050a2b32a34da68d3d3a1ac118c144",
            "value": " 502/502 [00:00&lt;00:00, 40.4kB/s]"
          }
        },
        "fa4f5458c9fd4e5ea182ef612b7b80a4": {
          "model_module": "@jupyter-widgets/controls",
          "model_module_version": "1.5.0",
          "model_name": "ProgressStyleModel",
          "state": {
            "_model_module": "@jupyter-widgets/controls",
            "_model_module_version": "1.5.0",
            "_model_name": "ProgressStyleModel",
            "_view_count": null,
            "_view_module": "@jupyter-widgets/base",
            "_view_module_version": "1.2.0",
            "_view_name": "StyleView",
            "bar_color": null,
            "description_width": ""
          }
        },
        "fbb383ee743240d2bb319c7aed1378fd": {
          "model_module": "@jupyter-widgets/controls",
          "model_module_version": "1.5.0",
          "model_name": "HBoxModel",
          "state": {
            "_dom_classes": [],
            "_model_module": "@jupyter-widgets/controls",
            "_model_module_version": "1.5.0",
            "_model_name": "HBoxModel",
            "_view_count": null,
            "_view_module": "@jupyter-widgets/controls",
            "_view_module_version": "1.5.0",
            "_view_name": "HBoxView",
            "box_style": "",
            "children": [
              "IPY_MODEL_78eac6a3d48a4cac91aac78a34e366a7",
              "IPY_MODEL_f40c4389e77c475e9e127ea48fdb85ca",
              "IPY_MODEL_f4aa2e7cc73c48baba5649e549bf4849"
            ],
            "layout": "IPY_MODEL_92e93fbfac4d4357bfe7af8d28909258"
          }
        },
        "fbf4f22fa12d4ba5be7da478f2ea6e0e": {
          "model_module": "@jupyter-widgets/controls",
          "model_module_version": "1.5.0",
          "model_name": "DescriptionStyleModel",
          "state": {
            "_model_module": "@jupyter-widgets/controls",
            "_model_module_version": "1.5.0",
            "_model_name": "DescriptionStyleModel",
            "_view_count": null,
            "_view_module": "@jupyter-widgets/base",
            "_view_module_version": "1.2.0",
            "_view_name": "StyleView",
            "description_width": ""
          }
        },
        "fe0a24dd45a94fa297e2397b378e2083": {
          "model_module": "@jupyter-widgets/controls",
          "model_module_version": "1.5.0",
          "model_name": "ProgressStyleModel",
          "state": {
            "_model_module": "@jupyter-widgets/controls",
            "_model_module_version": "1.5.0",
            "_model_name": "ProgressStyleModel",
            "_view_count": null,
            "_view_module": "@jupyter-widgets/base",
            "_view_module_version": "1.2.0",
            "_view_name": "StyleView",
            "bar_color": null,
            "description_width": ""
          }
        },
        "fe5ada4fd2e84e20bc939e9e13d48a90": {
          "model_module": "@jupyter-widgets/controls",
          "model_module_version": "1.5.0",
          "model_name": "DescriptionStyleModel",
          "state": {
            "_model_module": "@jupyter-widgets/controls",
            "_model_module_version": "1.5.0",
            "_model_name": "DescriptionStyleModel",
            "_view_count": null,
            "_view_module": "@jupyter-widgets/base",
            "_view_module_version": "1.2.0",
            "_view_name": "StyleView",
            "description_width": ""
          }
        },
        "fef042a780b24dc5964cd174064a7eb4": {
          "model_module": "@jupyter-widgets/controls",
          "model_module_version": "1.5.0",
          "model_name": "HTMLModel",
          "state": {
            "_dom_classes": [],
            "_model_module": "@jupyter-widgets/controls",
            "_model_module_version": "1.5.0",
            "_model_name": "HTMLModel",
            "_view_count": null,
            "_view_module": "@jupyter-widgets/controls",
            "_view_module_version": "1.5.0",
            "_view_name": "HTMLView",
            "description": "",
            "description_tooltip": null,
            "layout": "IPY_MODEL_1aa7b08560e5408c801b3df8597e09a0",
            "placeholder": "​",
            "style": "IPY_MODEL_d7a8a117cbe74bea97c3c054ff6c38a4",
            "value": " 87.3M/87.3M [00:07&lt;00:00, 15.1MB/s]"
          }
        },
        "ff9b6223352e431da6cb5177e30a182c": {
          "model_module": "@jupyter-widgets/controls",
          "model_module_version": "1.5.0",
          "model_name": "HBoxModel",
          "state": {
            "_dom_classes": [],
            "_model_module": "@jupyter-widgets/controls",
            "_model_module_version": "1.5.0",
            "_model_name": "HBoxModel",
            "_view_count": null,
            "_view_module": "@jupyter-widgets/controls",
            "_view_module_version": "1.5.0",
            "_view_name": "HBoxView",
            "box_style": "",
            "children": [
              "IPY_MODEL_02d500f84c8349a4865b2cb8f34c91b0",
              "IPY_MODEL_b039949ef451465aa3e679ee2d3039fa",
              "IPY_MODEL_4d50ef0488784d6188e439de13cb3233"
            ],
            "layout": "IPY_MODEL_d4cb33934eaf49198f5b3e6f1633b5b9"
          }
        }
      }
    }
  },
  "nbformat": 4,
  "nbformat_minor": 0
}
